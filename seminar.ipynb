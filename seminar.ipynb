{
 "cells": [
  {
   "cell_type": "code",
   "execution_count": 37,
   "id": "9987e6a8-20e9-45c4-a3b4-860ce572ca2c",
   "metadata": {},
   "outputs": [],
   "source": [
    "import numpy as np\n",
    "\n",
    "# Importing standard Qiskit libraries\n",
    "from qiskit import QuantumCircuit, assemble, transpile, Aer, IBMQ\n",
    "# from qiskit.tools.jupyter import *\n",
    "from qiskit.visualization import *\n",
    "# from ibm_quantum_widgets import *\n",
    "# from qiskit.providers.aer import QasmSimulator\n",
    "from qiskit.providers.ibmq import least_busy\n",
    "from qiskit import execute\n",
    "\n",
    "from qiskit.tools.monitor import job_monitor\n",
    "\n",
    "from qiskit.ignis.mitigation.measurement import complete_meas_cal, CompleteMeasFitter\n",
    "from qiskit import QuantumRegister\n",
    "from qiskit.visualization import array_to_latex\n",
    "\n",
    "# Loading your IBM Quantum account(s)\n"
   ]
  },
  {
   "cell_type": "code",
   "execution_count": 38,
   "id": "6aa25d26-2758-4035-a27d-40cd2e877eb9",
   "metadata": {},
   "outputs": [
    {
     "name": "stderr",
     "output_type": "stream",
     "text": [
      "ibmqfactory.load_account:WARNING:2022-12-08 16:54:44,651: Credentials are already in use. The existing account in the session will be replaced.\n"
     ]
    },
    {
     "name": "stdout",
     "output_type": "stream",
     "text": [
      "backend used:  ibmq_belem\n"
     ]
    }
   ],
   "source": [
    "# Load our saved IBMQ accounts and get the least busy backend device with greater than or equal to (n+1) qubits\n",
    "IBMQ.load_account()\n",
    "provider = IBMQ.get_provider(hub='ibm-q')\n",
    "# real_backend = least_busy(provider.backends(filters=lambda x: not x.configuration().simulator))\n",
    "real_backend = provider.get_backend('ibmq_belem')\n",
    "print(\"backend used: \", real_backend)"
   ]
  },
  {
   "cell_type": "code",
   "execution_count": 39,
   "id": "44ea9f20-85ad-417b-95f4-f07100192f91",
   "metadata": {},
   "outputs": [],
   "source": [
    "def dj_oracle(case, n):\n",
    "    # We need to make a QuantumCircuit object to return\n",
    "    # This circuit has n+1 qubits: the size of the input,\n",
    "    # plus one output qubit\n",
    "    oracle_qc = QuantumCircuit(n+1)\n",
    "    \n",
    "    # First, let's deal with the case in which oracle is balanced\n",
    "    if case == \"balanced\":\n",
    "        # First generate a random number that tells us which CNOTs to\n",
    "        # wrap in X-gates:\n",
    "        b = np.random.randint(1,2**n)\n",
    "        # Next, format 'b' as a binary string of length 'n', padded with zeros:\n",
    "        b_str = format(b, '0'+str(n)+'b')\n",
    "        # Next, we place the first X-gates. Each digit in our binary string \n",
    "        # corresponds to a qubit, if the digit is 0, we do nothing, if it's 1\n",
    "        # we apply an X-gate to that qubit:\n",
    "        for qubit in range(len(b_str)):\n",
    "            if b_str[qubit] == '1':\n",
    "                oracle_qc.x(qubit)\n",
    "        # Do the controlled-NOT gates for each qubit, using the output qubit \n",
    "        # as the target:\n",
    "        for qubit in range(n):\n",
    "            oracle_qc.cx(qubit, n)\n",
    "        # Next, place the final X-gates\n",
    "        for qubit in range(len(b_str)):\n",
    "            if b_str[qubit] == '1':\n",
    "                oracle_qc.x(qubit)\n",
    "\n",
    "    # Case in which oracle is constant\n",
    "    if case == \"constant\":\n",
    "        # First decide what the fixed output of the oracle will be\n",
    "        # (either always 0 or always 1)\n",
    "        output = np.random.randint(2)\n",
    "        if output == 1:\n",
    "            oracle_qc.x(n)\n",
    "    oracle_qc.name = \"oracle \" + case\n",
    "    return oracle_qc\n",
    "    # oracle_gate = oracle_qc.to_gate()\n",
    "    # oracle_gate.name = \"Oracle\" # To show when we display the circuit\n",
    "    # return oracle_gate"
   ]
  },
  {
   "cell_type": "code",
   "execution_count": 40,
   "id": "2d920c67-5cc4-42a7-9fa9-8a91b119e0b2",
   "metadata": {},
   "outputs": [],
   "source": [
    "def dj_algorithm(oracle, n):\n",
    "    dj_circuit = QuantumCircuit(n+1, n)\n",
    "    # Set up the output qubit:\n",
    "    dj_circuit.x(n)\n",
    "    dj_circuit.h(n)\n",
    "    # And set up the input register:\n",
    "    for qubit in range(n):\n",
    "        dj_circuit.h(qubit)\n",
    "    # Let's append the oracle gate to our circuit:\n",
    "    # dj_circuit.barrier()\n",
    "    dj_circuit.append(oracle, range(n+1))\n",
    "    # Finally, perform the H-gates again and measure:\n",
    "    # dj_circuit.barrier()\n",
    "    for qubit in range(n):\n",
    "        dj_circuit.h(qubit)\n",
    "    \n",
    "    for i in range(n):\n",
    "        dj_circuit.measure(i, i)\n",
    "    \n",
    "    return dj_circuit"
   ]
  },
  {
   "cell_type": "code",
   "execution_count": 36,
   "id": "37063871-25d3-40d0-9167-773089325ffc",
   "metadata": {},
   "outputs": [
    {
     "data": {
      "image/png": "[encoded data removed]",
      "text/plain": [
       "<Figure size 146.797x204.68 with 1 Axes>"
      ]
     },
     "execution_count": 36,
     "metadata": {},
     "output_type": "execute_result"
    }
   ],
   "source": [
    "n = 2\n",
    "oracle_qc = dj_oracle('constant', n)\n",
    "oracle_qc.draw()"
   ]
  },
  {
   "cell_type": "code",
   "execution_count": 37,
   "id": "89fd3c04-f0c2-4ec8-9a07-c63cd560ed1b",
   "metadata": {},
   "outputs": [
    {
     "data": {
      "image/png": "[encoded data removed]",
      "text/plain": [
       "<Figure size 688.597x264.88 with 1 Axes>"
      ]
     },
     "execution_count": 37,
     "metadata": {},
     "output_type": "execute_result"
    }
   ],
   "source": [
    "dj_circuit = dj_algorithm(oracle_qc, n)\n",
    "dj_circuit.draw()"
   ]
  },
  {
   "cell_type": "code",
   "execution_count": 13,
   "id": "0b9beb08-0204-46b5-8f19-864e2640ac66",
   "metadata": {
    "tags": []
   },
   "outputs": [
    {
     "data": {
      "image/png": "[encoded data removed]",
      "text/plain": [
       "<Figure size 504x360 with 1 Axes>"
      ]
     },
     "execution_count": 13,
     "metadata": {},
     "output_type": "execute_result"
    }
   ],
   "source": [
    "aer_backend = Aer.get_backend('aer_simulator')\n",
    "job = execute(dj_circuit, aer_backend, shots=1000)\n",
    "sim_results = job.result()\n",
    "counts = sim_results.get_counts()\n",
    "plot_histogram(counts)"
   ]
  },
  {
   "cell_type": "code",
   "execution_count": null,
   "id": "b30aae3c-f6cc-4bf0-99ca-2923f335e418",
   "metadata": {},
   "outputs": [],
   "source": [
    "job = execute(dj_circuit, real_backend, shots=1000)\n",
    "job_monitor(job, interval=2)"
   ]
  },
  {
   "cell_type": "code",
   "execution_count": 10,
   "id": "1edf99c4-8f62-43cf-bda2-e8e288ae9c5e",
   "metadata": {},
   "outputs": [
    {
     "data": {
      "image/png": "[encoded data removed]",
      "text/plain": [
       "<Figure size 504x360 with 1 Axes>"
      ]
     },
     "execution_count": 10,
     "metadata": {},
     "output_type": "execute_result"
    }
   ],
   "source": [
    "# Get the results of the computation\n",
    "results = job.result()\n",
    "counts = results.get_counts()\n",
    "\n",
    "plot_histogram(counts)"
   ]
  },
  {
   "cell_type": "code",
   "execution_count": 10,
   "id": "1c814730-fcb6-46b0-af7a-dec12baa5391",
   "metadata": {},
   "outputs": [
    {
     "data": {
      "text/latex": [
       "$$\n",
       "\n",
       "\\begin{bmatrix}\n",
       "0.9583 & 0.0661 & 0.0516 & 0.0025  \\\\\n",
       " 0.0166 & 0.9139 & 0.0017 & 0.0517  \\\\\n",
       " 0.0245 & 0.0012 & 0.9277 & 0.0674  \\\\\n",
       " 0.0006 & 0.0188 & 0.019 & 0.8784  \\\\\n",
       " \\end{bmatrix}\n",
       "$$"
      ],
      "text/plain": [
       "<IPython.core.display.Latex object>"
      ]
     },
     "execution_count": 10,
     "metadata": {},
     "output_type": "execute_result"
    }
   ],
   "source": [
    "qr = QuantumRegister(n)\n",
    "meas_calibs, state_labels = complete_meas_cal(qr=qr, circlabel='mcal')\n",
    "cal_results = real_backend.run(meas_calibs, shots=10000).result()\n",
    "meas_fitter = CompleteMeasFitter(cal_results, state_labels, circlabel='mcal')\n",
    "array_to_latex(meas_fitter.cal_matrix)"
   ]
  },
  {
   "cell_type": "code",
   "execution_count": 16,
   "id": "495a7c21-b498-4c84-859d-8c412099bb4b",
   "metadata": {},
   "outputs": [],
   "source": [
    "aer_simulator = Aer.get_backend('aer_simulator')"
   ]
  },
  {
   "cell_type": "code",
   "execution_count": 17,
   "id": "23bd9ed0-b739-4aae-bccd-eb9cc582d295",
   "metadata": {},
   "outputs": [
    {
     "data": {
      "text/latex": [
       "$$\n",
       "\n",
       "\\begin{bmatrix}\n",
       "1 & 0 & 0 & 0  \\\\\n",
       " 0 & 1 & 0 & 0  \\\\\n",
       " 0 & 0 & 1 & 0  \\\\\n",
       " 0 & 0 & 0 & 1  \\\\\n",
       " \\end{bmatrix}\n",
       "$$"
      ],
      "text/plain": [
       "<IPython.core.display.Latex object>"
      ]
     },
     "execution_count": 17,
     "metadata": {},
     "output_type": "execute_result"
    }
   ],
   "source": [
    "qr = QuantumRegister(n)\n",
    "meas_calibs, state_labels = complete_meas_cal(qr=qr, circlabel='mcal')\n",
    "cal_results = aer_simulator.run(meas_calibs, shots=10000).result()\n",
    "meas_fitter = CompleteMeasFitter(cal_results, state_labels, circlabel='mcal')\n",
    "array_to_latex(meas_fitter.cal_matrix)"
   ]
  },
  {
   "cell_type": "code",
   "execution_count": null,
   "id": "c1f83234-acf6-4195-8f15-3b423775343e",
   "metadata": {},
   "outputs": [],
   "source": []
  },
  {
   "cell_type": "code",
   "execution_count": 14,
   "id": "3d4f350a-9758-4c56-a379-5850a0ce04a6",
   "metadata": {},
   "outputs": [
    {
     "data": {
      "text/plain": [
       "2"
      ]
     },
     "execution_count": 14,
     "metadata": {},
     "output_type": "execute_result"
    }
   ],
   "source": [
    "n"
   ]
  },
  {
   "cell_type": "code",
   "execution_count": 65,
   "id": "1de1392d-adc7-4710-a8d7-0681d9888933",
   "metadata": {},
   "outputs": [],
   "source": [
    "# Get the filter object\n",
    "meas_filter = meas_fitter.filter\n",
    "\n",
    "# Results with mitigation\n",
    "mitigated_results = meas_filter.apply(results)\n",
    "mitigated_counts = mitigated_results.get_counts()"
   ]
  },
  {
   "cell_type": "code",
   "execution_count": 66,
   "id": "d58a59b1-239f-436c-a653-f483ed2aefed",
   "metadata": {},
   "outputs": [
    {
     "data": {
      "image/png": "[encoded data removed]",
      "text/plain": [
       "<Figure size 504x360 with 1 Axes>"
      ]
     },
     "execution_count": 66,
     "metadata": {},
     "output_type": "execute_result"
    }
   ],
   "source": [
    "noisy_counts = results.get_counts()\n",
    "plot_histogram([noisy_counts, mitigated_counts], legend=['noisy', 'mitigated'])"
   ]
  },
  {
   "cell_type": "code",
   "execution_count": 8,
   "id": "a2fa0bb5-8c7b-416d-b6cb-2e8e72a3a103",
   "metadata": {},
   "outputs": [
    {
     "data": {
      "image/png": "[encoded data removed]",
      "text/plain": [
       "<Figure size 327.397x204.68 with 1 Axes>"
      ]
     },
     "execution_count": 8,
     "metadata": {},
     "output_type": "execute_result"
    }
   ],
   "source": [
    "oracle_qc = dj_oracle('balanced', n)\n",
    "oracle_qc.draw()"
   ]
  },
  {
   "cell_type": "code",
   "execution_count": 9,
   "id": "8f1c2423-98df-42de-a491-b3aee63b0b98",
   "metadata": {},
   "outputs": [
    {
     "data": {
      "image/png": "[encoded data removed]",
      "text/plain": [
       "<Figure size 568.197x264.88 with 1 Axes>"
      ]
     },
     "execution_count": 9,
     "metadata": {},
     "output_type": "execute_result"
    }
   ],
   "source": [
    "dj_circuit = dj_algorithm(oracle_qc, n)\n",
    "dj_circuit.draw()"
   ]
  },
  {
   "cell_type": "code",
   "execution_count": 10,
   "id": "563196dc-009d-4899-b540-ecc05be2e17c",
   "metadata": {},
   "outputs": [
    {
     "data": {
      "image/png": "[encoded data removed]",
      "text/plain": [
       "<Figure size 568.197x264.88 with 1 Axes>"
      ]
     },
     "execution_count": 10,
     "metadata": {},
     "output_type": "execute_result"
    }
   ],
   "source": [
    "new_dj = dj_circuit.decompose('oracle balanced')\n",
    "\n",
    "new_dj.draw()"
   ]
  },
  {
   "cell_type": "code",
   "execution_count": 11,
   "id": "994ec74a-69fc-4c6b-9145-0f75f525ed9a",
   "metadata": {},
   "outputs": [
    {
     "data": {
      "text/plain": [
       "<qiskit.circuit.instructionset.InstructionSet at 0x7f4db9ffd4f0>"
      ]
     },
     "execution_count": 11,
     "metadata": {},
     "output_type": "execute_result"
    }
   ],
   "source": [
    "dj1f = QuantumCircuit(n)\n",
    "dj2f = QuantumCircuit(n)\n",
    "dj2f.x(1)\n",
    "dj3f = QuantumCircuit(n)\n",
    "dj3f.x(0)\n",
    "dj4f = QuantumCircuit(n)\n",
    "dj4f.x(0)\n",
    "dj4f.x(1)\n",
    "\n",
    "dj1s = QuantumCircuit(n)\n",
    "dj2s = QuantumCircuit(n)\n",
    "dj2s.x(1)\n",
    "dj3s = QuantumCircuit(n)\n",
    "dj3s.x(0)\n",
    "dj4s = QuantumCircuit(n)\n",
    "dj4s.x(0)\n",
    "dj4s.x(1)"
   ]
  },
  {
   "cell_type": "code",
   "execution_count": 12,
   "id": "cd2eac53-609e-476f-a7f7-e67e8a48d6e2",
   "metadata": {},
   "outputs": [
    {
     "name": "stdout",
     "output_type": "stream",
     "text": [
      "     ┌───┐┌───┐          \n",
      "q_0: ┤ H ├┤ H ├──────────\n",
      "     ├───┤├───┤┌───┐┌───┐\n",
      "q_1: ┤ H ├┤ X ├┤ X ├┤ H ├\n",
      "     └───┘└───┘└───┘└───┘\n",
      "     ┌───┐┌───┐               \n",
      "q_0: ┤ H ├┤ H ├───────────────\n",
      "     ├───┤├───┤┌───┐┌───┐┌───┐\n",
      "q_1: ┤ X ├┤ H ├┤ X ├┤ X ├┤ H ├\n",
      "     └───┘└───┘└───┘└───┘└───┘\n",
      "     ┌───┐┌───┐┌───┐     \n",
      "q_0: ┤ X ├┤ H ├┤ H ├─────\n",
      "     ├───┤├───┤├───┤┌───┐\n",
      "q_1: ┤ H ├┤ X ├┤ X ├┤ H ├\n",
      "     └───┘└───┘└───┘└───┘\n",
      "     ┌───┐┌───┐┌───┐          \n",
      "q_0: ┤ X ├┤ H ├┤ H ├──────────\n",
      "     ├───┤├───┤├───┤┌───┐┌───┐\n",
      "q_1: ┤ X ├┤ H ├┤ X ├┤ X ├┤ H ├\n",
      "     └───┘└───┘└───┘└───┘└───┘\n"
     ]
    }
   ],
   "source": [
    "for circuit in [dj1f, dj2f, dj3f, dj4f]:\n",
    "    circuit.h(0)\n",
    "    circuit.h(1)\n",
    "    circuit.x(1)\n",
    "    circuit.x(1)\n",
    "    circuit.h(1)\n",
    "    circuit.h(0)\n",
    "for circuit in [dj1f, dj2f, dj3f, dj4f]:\n",
    "    print(circuit)"
   ]
  },
  {
   "cell_type": "code",
   "execution_count": 13,
   "id": "08a68aa1-0c3d-42c3-a755-35cf56af9eb7",
   "metadata": {},
   "outputs": [
    {
     "name": "stdout",
     "output_type": "stream",
     "text": [
      "     ┌───┐┌───┐          \n",
      "q_0: ┤ H ├┤ H ├──────────\n",
      "     ├───┤├───┤┌───┐┌───┐\n",
      "q_1: ┤ X ├┤ H ├┤ H ├┤ X ├\n",
      "     └───┘└───┘└───┘└───┘\n",
      "     ┌───┐┌───┐               \n",
      "q_0: ┤ H ├┤ H ├───────────────\n",
      "     ├───┤├───┤┌───┐┌───┐┌───┐\n",
      "q_1: ┤ X ├┤ X ├┤ H ├┤ H ├┤ X ├\n",
      "     └───┘└───┘└───┘└───┘└───┘\n",
      "     ┌───┐┌───┐┌───┐     \n",
      "q_0: ┤ X ├┤ H ├┤ H ├─────\n",
      "     ├───┤├───┤├───┤┌───┐\n",
      "q_1: ┤ X ├┤ H ├┤ H ├┤ X ├\n",
      "     └───┘└───┘└───┘└───┘\n",
      "     ┌───┐┌───┐┌───┐          \n",
      "q_0: ┤ X ├┤ H ├┤ H ├──────────\n",
      "     ├───┤├───┤├───┤┌───┐┌───┐\n",
      "q_1: ┤ X ├┤ X ├┤ H ├┤ H ├┤ X ├\n",
      "     └───┘└───┘└───┘└───┘└───┘\n"
     ]
    }
   ],
   "source": [
    "for circuit in [dj1s, dj2s, dj3s, dj4s]:\n",
    "    circuit.x(1)\n",
    "    circuit.h(0)\n",
    "    circuit.h(1)\n",
    "    \n",
    "    circuit.h(1)\n",
    "    circuit.h(0)\n",
    "    circuit.x(1)\n",
    "for circuit in [dj1s, dj2s, dj3s, dj4s]:\n",
    "    print(circuit)"
   ]
  },
  {
   "cell_type": "code",
   "execution_count": 21,
   "id": "f97917c0-1bfe-43bb-aaf8-a650dc60eda4",
   "metadata": {},
   "outputs": [
    {
     "data": {
      "image/png": "[encoded data removed]",
      "text/plain": [
       "<Figure size 504x360 with 1 Axes>"
      ]
     },
     "execution_count": 21,
     "metadata": {},
     "output_type": "execute_result"
    }
   ],
   "source": [
    "aer_backend = Aer.get_backend('aer_simulator')\n",
    "job = execute(dj_circuit, aer_backend, shots=1000)\n",
    "results = job.result()\n",
    "counts = results.get_counts()\n",
    "plot_histogram(counts)"
   ]
  },
  {
   "cell_type": "code",
   "execution_count": null,
   "id": "14fed652-f511-41cc-aee0-e56a18dc9ee2",
   "metadata": {},
   "outputs": [
    {
     "name": "stdout",
     "output_type": "stream",
     "text": [
      "Job Status: job is queued (7)     "
     ]
    }
   ],
   "source": [
    "job = execute(dj_circuit, real_backend, shots=1000)\n",
    "job_monitor(job, interval=2)"
   ]
  },
  {
   "cell_type": "code",
   "execution_count": null,
   "id": "5309f1fe-9b4e-4366-9ba7-67772f447206",
   "metadata": {},
   "outputs": [],
   "source": [
    "# Get the results of the computation\n",
    "results = job.result()\n",
    "counts = results.get_counts()\n",
    "\n",
    "plot_histogram(counts)"
   ]
  },
  {
   "cell_type": "code",
   "execution_count": 93,
   "id": "247bd581-f90c-45c4-b034-bee176cb3e7c",
   "metadata": {},
   "outputs": [],
   "source": [
    "qr = QuantumRegister(n)\n",
    "meas_calibs, state_labels = complete_meas_cal(qr=qr, circlabel='mcal')\n",
    "cal_results = real_backend.run(meas_calibs, shots=10000).result()"
   ]
  },
  {
   "cell_type": "code",
   "execution_count": 95,
   "id": "c9b4a085-5b68-4c78-ad5f-648db12844b4",
   "metadata": {},
   "outputs": [
    {
     "data": {
      "text/plain": [
       "[{'00': 9619, '01': 136, '10': 244, '11': 1},\n",
       " {'00': 112, '01': 9715, '10': 2, '11': 171},\n",
       " {'00': 158, '01': 4, '10': 9691, '11': 147},\n",
       " {'00': 1, '01': 154, '10': 100, '11': 9745}]"
      ]
     },
     "execution_count": 95,
     "metadata": {},
     "output_type": "execute_result"
    }
   ],
   "source": [
    "cal_results.get_counts()"
   ]
  },
  {
   "cell_type": "code",
   "execution_count": 51,
   "id": "e55e1894-e4cd-4d71-8178-da7883d6ef08",
   "metadata": {},
   "outputs": [
    {
     "data": {
      "text/latex": [
       "$$\n",
       "\n",
       "\\begin{bmatrix}\n",
       "0.9162 & 0.0377 & 0.0393 & 0.0017  \\\\\n",
       " 0.024 & 0.94 & 0.0006 & 0.0431  \\\\\n",
       " 0.0581 & 0.0019 & 0.9363 & 0.0391  \\\\\n",
       " 0.0017 & 0.0204 & 0.0238 & 0.9161  \\\\\n",
       " \\end{bmatrix}\n",
       "$$"
      ],
      "text/plain": [
       "<IPython.core.display.Latex object>"
      ]
     },
     "execution_count": 51,
     "metadata": {},
     "output_type": "execute_result"
    }
   ],
   "source": [
    "meas_fitter = CompleteMeasFitter(cal_results, state_labels, circlabel='mcal')\n",
    "array_to_latex(meas_fitter.cal_matrix)"
   ]
  },
  {
   "cell_type": "code",
   "execution_count": 52,
   "id": "554e8111-7404-4796-8b4f-de151793a291",
   "metadata": {},
   "outputs": [],
   "source": [
    "# Get the filter object\n",
    "meas_filter = meas_fitter.filter\n",
    "\n",
    "# Results with mitigation\n",
    "mitigated_results = meas_filter.apply(results)\n",
    "mitigated_counts = mitigated_results.get_counts()"
   ]
  },
  {
   "cell_type": "code",
   "execution_count": 53,
   "id": "74afb02a-0c5d-4e21-9599-51d3307c9033",
   "metadata": {},
   "outputs": [
    {
     "data": {
      "image/png": "[encoded data removed]",
      "text/plain": [
       "<Figure size 504x360 with 1 Axes>"
      ]
     },
     "execution_count": 53,
     "metadata": {},
     "output_type": "execute_result"
    }
   ],
   "source": [
    "from qiskit.visualization import plot_histogram \n",
    "noisy_counts = results.get_counts()\n",
    "plot_histogram([noisy_counts, mitigated_counts], legend=['noisy', 'mitigated'])"
   ]
  },
  {
   "cell_type": "code",
   "execution_count": 21,
   "id": "e156fc2d-ca42-4283-bd83-9e714b20bab9",
   "metadata": {},
   "outputs": [
    {
     "data": {
      "image/png": "[encoded data removed]",
      "text/plain": [
       "<Figure size 146.797x204.68 with 1 Axes>"
      ]
     },
     "execution_count": 21,
     "metadata": {},
     "output_type": "execute_result"
    }
   ],
   "source": [
    "# general\n",
    "oracle_qc.draw()"
   ]
  },
  {
   "cell_type": "code",
   "execution_count": 22,
   "id": "65f903cf-0b34-45c4-a60d-5fcda4e1999b",
   "metadata": {},
   "outputs": [
    {
     "data": {
      "image/png": "[encoded data removed]",
      "text/plain": [
       "<Figure size 568.197x264.88 with 1 Axes>"
      ]
     },
     "execution_count": 22,
     "metadata": {},
     "output_type": "execute_result"
    }
   ],
   "source": [
    "dj_circuit.draw()"
   ]
  },
  {
   "cell_type": "code",
   "execution_count": 41,
   "id": "979334d2-ff0f-44a7-b74c-764f2cca7f36",
   "metadata": {},
   "outputs": [],
   "source": [
    "n = 2"
   ]
  },
  {
   "cell_type": "code",
   "execution_count": 42,
   "id": "d5a751f0-ab41-4939-9d20-655012eececa",
   "metadata": {},
   "outputs": [
    {
     "data": {
      "image/png": "[encoded data removed]",
      "text/plain": [
       "<Figure size 327.252x204.68 with 1 Axes>"
      ]
     },
     "execution_count": 42,
     "metadata": {},
     "output_type": "execute_result"
    }
   ],
   "source": [
    "# not calibrating ancilla\n",
    "dj_left0 = QuantumCircuit(n,n)\n",
    "dj_left1 = QuantumCircuit(n) \n",
    "dj_left2 = QuantumCircuit(n)\n",
    "dj_left3 = QuantumCircuit(n)\n",
    "\n",
    "dj_left0.h(0)\n",
    "\n",
    "dj_left0.h(0)\n",
    "\n",
    "dj_left0.h(1)\n",
    "dj_left0.h(1)\n",
    "dj_left0.measure([0,1], [0,1])\n",
    "dj_left0.draw()"
   ]
  },
  {
   "cell_type": "code",
   "execution_count": 43,
   "id": "aa3fc35f-3fda-427c-b487-06fc7a8bad70",
   "metadata": {},
   "outputs": [
    {
     "data": {
      "image/png": "[encoded data removed]",
      "text/plain": [
       "<Figure size 327.252x204.68 with 1 Axes>"
      ]
     },
     "execution_count": 43,
     "metadata": {},
     "output_type": "execute_result"
    }
   ],
   "source": [
    "dj_left1 = QuantumCircuit(n, n)\n",
    "dj_left1.x(0)\n",
    "dj_left1.h(0)\n",
    "\n",
    "dj_left1.h(0)\n",
    "dj_left1.h(1)\n",
    "dj_left1.h(1)\n",
    "dj_left1.measure([0,1], [0,1])\n",
    "dj_left1.draw()"
   ]
  },
  {
   "cell_type": "code",
   "execution_count": 44,
   "id": "b19a025f-49a7-476f-be84-e3f5f9cff310",
   "metadata": {},
   "outputs": [
    {
     "name": "stderr",
     "output_type": "stream",
     "text": [
      "/tmp/ipykernel_2880/2252380090.py:2: DeprecationWarning: The QuantumCircuit.__iadd__() method is being deprecated. Use the compose() (potentially with the inplace=True argument) and tensor() methods which are more flexible w.r.t circuit register compatibility.\n",
      "  dj_left2 += dj_left0\n"
     ]
    },
    {
     "data": {
      "image/png": "[encoded data removed]",
      "text/plain": [
       "<Figure size 387.452x204.68 with 1 Axes>"
      ]
     },
     "execution_count": 44,
     "metadata": {},
     "output_type": "execute_result"
    }
   ],
   "source": [
    "dj_left2.x(1)\n",
    "dj_left2 += dj_left0\n",
    "dj_left2.draw()"
   ]
  },
  {
   "cell_type": "code",
   "execution_count": 45,
   "id": "e9ebdb5c-a3d2-4ef6-b70c-ab9a48a3f38d",
   "metadata": {},
   "outputs": [
    {
     "name": "stderr",
     "output_type": "stream",
     "text": [
      "/tmp/ipykernel_2880/810308772.py:3: DeprecationWarning: The QuantumCircuit.__iadd__() method is being deprecated. Use the compose() (potentially with the inplace=True argument) and tensor() methods which are more flexible w.r.t circuit register compatibility.\n",
      "  dj_left3 += dj_left0\n"
     ]
    },
    {
     "data": {
      "image/png": "[encoded data removed]",
      "text/plain": [
       "<Figure size 387.452x204.68 with 1 Axes>"
      ]
     },
     "execution_count": 45,
     "metadata": {},
     "output_type": "execute_result"
    }
   ],
   "source": [
    "dj_left3.x(0)\n",
    "dj_left3.x(1)\n",
    "dj_left3 += dj_left0\n",
    "dj_left3.draw()"
   ]
  },
  {
   "cell_type": "code",
   "execution_count": 46,
   "id": "44d0e4de-ff8d-4333-b155-8d6f9faa9e7e",
   "metadata": {},
   "outputs": [],
   "source": [
    "job = execute(dj_left0, real_backend, shots=1000)\n",
    "results = job.result()\n",
    "counts = results.get_counts()"
   ]
  },
  {
   "cell_type": "code",
   "execution_count": 48,
   "id": "d0260e2f-9195-4d64-8a8a-95b5330d423c",
   "metadata": {},
   "outputs": [
    {
     "data": {
      "image/png": "[encoded data removed]",
      "text/plain": [
       "<Figure size 504x360 with 1 Axes>"
      ]
     },
     "execution_count": 48,
     "metadata": {},
     "output_type": "execute_result"
    }
   ],
   "source": [
    "plot_histogram(counts)"
   ]
  },
  {
   "cell_type": "code",
   "execution_count": 49,
   "id": "3345f7ff-9188-4a31-a659-0ce4995e8864",
   "metadata": {},
   "outputs": [
    {
     "data": {
      "text/plain": [
       "array([0.995, 0.003, 0.002, 0.   ])"
      ]
     },
     "execution_count": 49,
     "metadata": {},
     "output_type": "execute_result"
    }
   ],
   "source": [
    "array0 = np.array([counts.get('00') or 0, counts.get('01') or 0, counts.get('10') or 0, counts.get('11') or 0])\n",
    "array0 = array0/1000\n",
    "array0"
   ]
  },
  {
   "cell_type": "code",
   "execution_count": 50,
   "id": "0af08eb1-4859-4b81-856a-370a2afd8afd",
   "metadata": {},
   "outputs": [
    {
     "name": "stdout",
     "output_type": "stream",
     "text": [
      "Traceback \u001b[1;36m(most recent call last)\u001b[0m:\n",
      "  Input \u001b[0;32mIn [50]\u001b[0m in \u001b[0;35m<cell line: 2>\u001b[0m\n",
      "    results = job.result()\n",
      "\u001b[1;36m  File \u001b[1;32m/opt/conda/lib/python3.8/site-packages/qiskit/providers/ibmq/job/ibmqjob.py:279\u001b[1;36m in \u001b[1;35mresult\u001b[1;36m\u001b[0m\n",
      "\u001b[1;33m    raise IBMQJobInvalidStateError('Unable to retrieve result for job {}. '\u001b[0m\n",
      "\u001b[1;31mIBMQJobInvalidStateError\u001b[0m\u001b[1;31m:\u001b[0m 'Unable to retrieve result for job 63921849d65d0d16eb038d09. Job was cancelled.'\n",
      "\n",
      "Use %tb to get the full traceback.\n"
     ]
    },
    {
     "data": {
      "text/html": [
       "\n",
       "<style>\n",
       ".button {\n",
       "  border: none;\n",
       "  color: white;\n",
       "  padding: 4px 8px;\n",
       "  text-align: center;\n",
       "  text-decoration: none;\n",
       "  display: inline-block;\n",
       "  font-size: 12px;\n",
       "  margin: 4px 2px;\n",
       "  transition-duration: 0.2s;\n",
       "  cursor: pointer;\n",
       "}\n",
       ".iqx-button {\n",
       "  background-color: #0f62fe; \n",
       "  color: white; \n",
       "}\n",
       ".iqx-button:hover {\n",
       "  background-color: #0043ce;\n",
       "  color: white;\n",
       "}\n",
       "</style>\n",
       "<a href=\"https://stackoverflow.com/search?q=IBMQJobInvalidStateError: Unable to retrieve result for job 63921849d65d0d16eb038d09. Job was cancelled.\" target='_blank'><button class='button iqx-button'>Search for solution online</button></a>\n"
      ],
      "text/plain": [
       "<IPython.core.display.HTML object>"
      ]
     },
     "metadata": {},
     "output_type": "display_data"
    }
   ],
   "source": [
    "job = execute(dj_left1, real_backend, shots=1000)\n",
    "results = job.result()\n",
    "counts = results.get_counts()"
   ]
  },
  {
   "cell_type": "code",
   "execution_count": 51,
   "id": "6a80e29a-83c7-4107-be56-b98dfa046598",
   "metadata": {},
   "outputs": [
    {
     "data": {
      "text/plain": [
       "Result(backend_name='ibmq_belem', backend_version='1.0.53', qobj_id='deb3a865-9062-49e0-9f4c-db68aac8f310', job_id='6392170a0c52a7d0670e10e4', success=True, results=[ExperimentResult(shots=1000, success=True, meas_level=2, data=ExperimentResultData(counts={'0x0': 995, '0x1': 3, '0x2': 2}), header=QobjExperimentHeader(clbit_labels=[['c', 0], ['c', 1]], creg_sizes=[['c', 2]], global_phase=0.0, memory_slots=2, metadata={}, n_qubits=5, name='circuit-105', qreg_sizes=[['q', 5]], qubit_labels=[['q', 0], ['q', 1], ['q', 2], ['q', 3], ['q', 4]]), status=done)], date=2022-12-08 16:58:40+00:00, status=Successful completion, header=QobjHeader(backend_name='ibmq_belem', backend_version='1.0.53'), execution_id='8fa3a4a8-7719-11ed-bdd6-b02628f7f59e', time_taken=2.003633975982666, error=None, client_version={'qiskit': '0.39.2'})"
      ]
     },
     "execution_count": 51,
     "metadata": {},
     "output_type": "execute_result"
    }
   ],
   "source": [
    "results"
   ]
  },
  {
   "cell_type": "code",
   "execution_count": 52,
   "id": "8c329f74-c9a1-48b7-8ece-b2061da3f135",
   "metadata": {},
   "outputs": [
    {
     "name": "stdout",
     "output_type": "stream",
     "text": [
      "{'00': 995, '01': 3, '10': 2}\n"
     ]
    }
   ],
   "source": [
    "print(counts)"
   ]
  },
  {
   "cell_type": "code",
   "execution_count": 53,
   "id": "396e5524-0131-4efc-8bdb-842895d80937",
   "metadata": {},
   "outputs": [
    {
     "data": {
      "text/plain": [
       "array([0.995, 0.003, 0.002, 0.   ])"
      ]
     },
     "execution_count": 53,
     "metadata": {},
     "output_type": "execute_result"
    }
   ],
   "source": [
    "array1 = np.array([counts.get('00') or 0, counts.get('01') or 0, counts.get('10') or 0, counts.get('11') or 0])\n",
    "array1 = array1/1000\n",
    "array1"
   ]
  },
  {
   "cell_type": "code",
   "execution_count": null,
   "id": "16eb6168-f039-420c-961e-7e4f6e8d5f1b",
   "metadata": {},
   "outputs": [],
   "source": [
    "job = execute(dj_left2, real_backend, shots=1000)\n",
    "results = job.result()\n",
    "counts = results.get_counts()"
   ]
  },
  {
   "cell_type": "code",
   "execution_count": null,
   "id": "c9f337ca-9e0a-4a4b-a081-e6161107af27",
   "metadata": {},
   "outputs": [],
   "source": [
    "array2 = np.array([counts.get('00') or 0, counts.get('01') or 0, counts.get('10') or 0, counts.get('11') or 0])\n",
    "array2 = array2/1000\n",
    "array2"
   ]
  },
  {
   "cell_type": "code",
   "execution_count": null,
   "id": "34fd1c4f-49e8-48cb-bfe0-5984bb539303",
   "metadata": {},
   "outputs": [],
   "source": [
    "job = execute(dj_left3, real_backend, shots=1000)\n",
    "results = job.result()\n",
    "counts = results.get_counts()"
   ]
  },
  {
   "cell_type": "code",
   "execution_count": null,
   "id": "267f26c8-f734-4046-b95f-82b851312f4b",
   "metadata": {},
   "outputs": [],
   "source": [
    "array3 = np.array([counts.get('00') or 0, counts.get('01') or 0, counts.get('10') or 0, counts.get('11') or 0])\n",
    "array3 = array3/1000\n",
    "array3"
   ]
  },
  {
   "cell_type": "code",
   "execution_count": 85,
   "id": "9eb3791b-4707-4daa-b7ad-02763afb982c",
   "metadata": {},
   "outputs": [],
   "source": [
    "array_left = np.array([array0, array1, array2, array3])"
   ]
  },
  {
   "cell_type": "code",
   "execution_count": 54,
   "id": "de640b55-ef7e-42cc-bae7-d565f2ef9a49",
   "metadata": {},
   "outputs": [],
   "source": [
    "array_left = np.array([array0, array0, array0, array0])"
   ]
  },
  {
   "cell_type": "code",
   "execution_count": 55,
   "id": "d609fb76-06d8-4e51-ab59-d81efb468202",
   "metadata": {},
   "outputs": [],
   "source": [
    "array_right = array_left"
   ]
  },
  {
   "cell_type": "code",
   "execution_count": 56,
   "id": "83412c0b-8d61-4e98-9ceb-3b49e0f7e4d0",
   "metadata": {},
   "outputs": [],
   "source": [
    "calib_mat = (array_left + array_right) / 2"
   ]
  },
  {
   "cell_type": "code",
   "execution_count": 57,
   "id": "da4335e6-f849-4e49-a5d8-bf27c7b419c7",
   "metadata": {},
   "outputs": [
    {
     "data": {
      "text/latex": [
       "$$\n",
       "\n",
       "\\begin{bmatrix}\n",
       "0.995 & 0.003 & 0.002 & 0  \\\\\n",
       " 0.995 & 0.003 & 0.002 & 0  \\\\\n",
       " 0.995 & 0.003 & 0.002 & 0  \\\\\n",
       " 0.995 & 0.003 & 0.002 & 0  \\\\\n",
       " \\end{bmatrix}\n",
       "$$"
      ],
      "text/plain": [
       "<IPython.core.display.Latex object>"
      ]
     },
     "execution_count": 57,
     "metadata": {},
     "output_type": "execute_result"
    }
   ],
   "source": [
    "array_to_latex(calib_mat)"
   ]
  },
  {
   "cell_type": "code",
   "execution_count": 22,
   "id": "309e3a80-9c7a-42fb-af89-be8d52b8d8e6",
   "metadata": {},
   "outputs": [],
   "source": [
    "qr = QuantumRegister(2)\n",
    "meas_cabs, state_labels = complete_meas_cal(qr=qr, circlabel='mcal')"
   ]
  },
  {
   "cell_type": "code",
   "execution_count": 19,
   "id": "79279f07-5e82-4594-8d83-fec6f8fdea8d",
   "metadata": {},
   "outputs": [
    {
     "name": "stdout",
     "output_type": "stream",
     "text": [
      "<class 'list'>\n"
     ]
    }
   ],
   "source": [
    "meas_calibs = [dj_left0, dj_left1, dj_left2, dj_left3]\n",
    "print(type(meas_calibs))"
   ]
  },
  {
   "cell_type": "code",
   "execution_count": 20,
   "id": "ee79390d-ea92-4abc-a77e-e4d6bca96f65",
   "metadata": {},
   "outputs": [
    {
     "name": "stdout",
     "output_type": "stream",
     "text": [
      "Circuit circuit-100\n",
      "     ┌───┐┌───┐┌─┐   \n",
      "q_0: ┤ H ├┤ H ├┤M├───\n",
      "     ├───┤├───┤└╥┘┌─┐\n",
      "q_1: ┤ H ├┤ H ├─╫─┤M├\n",
      "     └───┘└───┘ ║ └╥┘\n",
      "c_0: ═══════════╩══╬═\n",
      "                   ║ \n",
      "c_1: ══════════════╩═\n",
      "                     \n",
      "\n",
      "Circuit circuit-104\n",
      "     ┌───┐┌───┐┌───┐┌─┐\n",
      "q_0: ┤ X ├┤ H ├┤ H ├┤M├\n",
      "     ├───┤├───┤└┬─┬┘└╥┘\n",
      "q_1: ┤ H ├┤ H ├─┤M├──╫─\n",
      "     └───┘└───┘ └╥┘  ║ \n",
      "c_0: ════════════╬═══╩═\n",
      "                 ║     \n",
      "c_1: ════════════╩═════\n",
      "                       \n",
      "\n",
      "Circuit circuit-102\n",
      "     ┌───┐┌───┐     ┌─┐   \n",
      "q_0: ┤ H ├┤ H ├─────┤M├───\n",
      "     ├───┤├───┤┌───┐└╥┘┌─┐\n",
      "q_1: ┤ X ├┤ H ├┤ H ├─╫─┤M├\n",
      "     └───┘└───┘└───┘ ║ └╥┘\n",
      "c_0: ════════════════╩══╬═\n",
      "                        ║ \n",
      "c_1: ═══════════════════╩═\n",
      "                          \n",
      "\n",
      "Circuit circuit-103\n",
      "     ┌───┐┌───┐┌───┐┌─┐   \n",
      "q_0: ┤ X ├┤ H ├┤ H ├┤M├───\n",
      "     ├───┤├───┤├───┤└╥┘┌─┐\n",
      "q_1: ┤ X ├┤ H ├┤ H ├─╫─┤M├\n",
      "     └───┘└───┘└───┘ ║ └╥┘\n",
      "c_0: ════════════════╩══╬═\n",
      "                        ║ \n",
      "c_1: ═══════════════════╩═\n",
      "                          \n",
      "\n"
     ]
    }
   ],
   "source": [
    "for circuit in meas_calibs:\n",
    "    print('Circuit',circuit.name)\n",
    "    print(circuit)\n",
    "    print()"
   ]
  },
  {
   "cell_type": "code",
   "execution_count": 21,
   "id": "238b5a7b-dd15-47df-af3b-66df2bb87c48",
   "metadata": {},
   "outputs": [],
   "source": [
    "aer_sim = Aer.get_backend(\"aer_simulator\")\n",
    "cal_results = aer_sim.run(meas_calibs, shots=10000).result()"
   ]
  },
  {
   "cell_type": "code",
   "execution_count": 24,
   "id": "58c4a3bc-7a15-4a3b-9ac2-600fadbaae40",
   "metadata": {},
   "outputs": [],
   "source": [
    "state_labels = ['00', '01', '10', '11']"
   ]
  },
  {
   "cell_type": "code",
   "execution_count": 27,
   "id": "8d523813-1399-47ae-9c7d-64a7ea0273fc",
   "metadata": {},
   "outputs": [
    {
     "data": {
      "text/latex": [
       "$$\n",
       "\n",
       "\\begin{bmatrix}\n",
       "0 & 0 & 0 & 0  \\\\\n",
       " 0 & 0 & 0 & 0  \\\\\n",
       " 0 & 0 & 0 & 0  \\\\\n",
       " 0 & 0 & 0 & 0  \\\\\n",
       " \\end{bmatrix}\n",
       "$$"
      ],
      "text/plain": [
       "<IPython.core.display.Latex object>"
      ]
     },
     "execution_count": 27,
     "metadata": {},
     "output_type": "execute_result"
    }
   ],
   "source": [
    "meas_fitter = CompleteMeasFitter(cal_results, state_labels, circlabel='circuit')\n",
    "# , circlabel='mcal'\n",
    "array_to_latex(meas_fitter.cal_matrix)"
   ]
  },
  {
   "cell_type": "code",
   "execution_count": 26,
   "id": "d305ef7b-7dfa-4e22-a4e8-7a653609fea5",
   "metadata": {},
   "outputs": [
    {
     "data": {
      "image/png": "[encoded data removed]",
      "text/plain": [
       "<Figure size 504x360 with 1 Axes>"
      ]
     },
     "execution_count": 26,
     "metadata": {},
     "output_type": "execute_result"
    }
   ],
   "source": [
    "plot_histogram(cal_results.get_counts())"
   ]
  },
  {
   "cell_type": "code",
   "execution_count": null,
   "id": "125aa211-0fc3-4d85-86da-83b428f939f2",
   "metadata": {},
   "outputs": [],
   "source": [
    "real_results = execute(meas_calibs, real_backend, shots=10000).result()"
   ]
  },
  {
   "cell_type": "code",
   "execution_count": null,
   "id": "700d43d4-4f3c-40b1-a23a-4714ffc76451",
   "metadata": {},
   "outputs": [],
   "source": [
    "\n",
    "meas_fitter = CompleteMeasFitter(real_results, state_labels)\n",
    "array_to_latex(meas_fitter.cal_matrix)"
   ]
  },
  {
   "cell_type": "code",
   "execution_count": 59,
   "id": "169e3030-509b-41c4-a2de-9127c321df1f",
   "metadata": {},
   "outputs": [],
   "source": [
    "real_results = results"
   ]
  },
  {
   "cell_type": "code",
   "execution_count": 60,
   "id": "b301c161-4031-4a49-b61a-d10d8ea56d0e",
   "metadata": {},
   "outputs": [
    {
     "name": "stdout",
     "output_type": "stream",
     "text": [
      "Traceback \u001b[1;36m(most recent call last)\u001b[0m:\n",
      "  Input \u001b[0;32mIn [60]\u001b[0m in \u001b[0;35m<cell line: 6>\u001b[0m\n",
      "    counts = real_results.get_counts(qc)\n",
      "  File \u001b[0;32m/opt/conda/lib/python3.8/site-packages/qiskit/result/result.py:269\u001b[0m in \u001b[0;35mget_counts\u001b[0m\n",
      "    exp = self._get_experiment(key)\n",
      "\u001b[1;36m  File \u001b[1;32m/opt/conda/lib/python3.8/site-packages/qiskit/result/result.py:380\u001b[1;36m in \u001b[1;35m_get_experiment\u001b[1;36m\u001b[0m\n",
      "\u001b[1;33m    raise QiskitError('Data for experiment \"%s\" could not be found.' % key)\u001b[0m\n",
      "\u001b[1;31mQiskitError\u001b[0m\u001b[1;31m:\u001b[0m 'Data for experiment \"circuit-100\" could not be found.'\n",
      "\n",
      "Use %tb to get the full traceback.\n"
     ]
    },
    {
     "data": {
      "text/html": [
       "\n",
       "<style>\n",
       ".button {\n",
       "  border: none;\n",
       "  color: white;\n",
       "  padding: 4px 8px;\n",
       "  text-align: center;\n",
       "  text-decoration: none;\n",
       "  display: inline-block;\n",
       "  font-size: 12px;\n",
       "  margin: 4px 2px;\n",
       "  transition-duration: 0.2s;\n",
       "  cursor: pointer;\n",
       "}\n",
       ".iqx-button {\n",
       "  background-color: #0f62fe; \n",
       "  color: white; \n",
       "}\n",
       ".iqx-button:hover {\n",
       "  background-color: #0043ce;\n",
       "  color: white;\n",
       "}\n",
       "</style>\n",
       "<a href=\"https://stackoverflow.com/search?q=QiskitError: Data for experiment \"circuit-100\" could not be found.\" target='_blank'><button class='button iqx-button'>Search for solution online</button></a>\n"
      ],
      "text/plain": [
       "<IPython.core.display.HTML object>"
      ]
     },
     "metadata": {},
     "output_type": "display_data"
    }
   ],
   "source": [
    "# result_submissions = job.result()\n",
    "# array = np.empty((4,4))\n",
    "# print(array)\n",
    "ls = []\n",
    "# array = np.empty(shape=(4,4))\n",
    "for qc in meas_calibs:\n",
    "     counts = real_results.get_counts(qc)\n",
    "     this_array = np.array([counts.get('00') or 0, counts.get('01') or 0, counts.get('10') or 0, counts.get('11') or 0])\n",
    "     this_array = this_array/10000\n",
    "     ls.append(this_array)\n",
    "     print(this_array)\n",
    "     # np.append(array, this_array, axis=1)\n",
    "array = np.array(ls)\n",
    "print(array)\n",
    "array_t = np.transpose(array)\n",
    "print(array_t)"
   ]
  },
  {
   "cell_type": "code",
   "execution_count": 80,
   "id": "aea6ccae-63f9-4d60-9fcd-dfc369ee22fc",
   "metadata": {},
   "outputs": [
    {
     "data": {
      "text/latex": [
       "$$\n",
       "\n",
       "\\begin{bmatrix}\n",
       "0.974 & 0.0108 & 0.0151 & 0.0001  \\\\\n",
       " 0.0359 & 0.9576 & 0.0001 & 0.0064  \\\\\n",
       " 0.0695 & 0.0013 & 0.916 & 0.0132  \\\\\n",
       " 0.0027 & 0.0648 & 0.0367 & 0.8958  \\\\\n",
       " \\end{bmatrix}\n",
       "$$"
      ],
      "text/plain": [
       "<IPython.core.display.Latex object>"
      ]
     },
     "execution_count": 80,
     "metadata": {},
     "output_type": "execute_result"
    }
   ],
   "source": [
    "array_to_latex(array)"
   ]
  },
  {
   "cell_type": "code",
   "execution_count": 91,
   "id": "fc748010-c0a6-44e7-af48-9f7f89b8d064",
   "metadata": {},
   "outputs": [
    {
     "data": {
      "text/latex": [
       "$$\n",
       "\n",
       "\\begin{bmatrix}\n",
       "1.02833 & -0.03856 & -0.07801 & 0.00289  \\\\\n",
       " -0.01159 & 1.04522 & 0.00049 & -0.07559  \\\\\n",
       " -0.01696 & 0.00082 & 1.09363 & -0.04481  \\\\\n",
       " 0.00022 & -0.00748 & -0.01611 & 1.11752  \\\\\n",
       " \\end{bmatrix}\n",
       "$$"
      ],
      "text/plain": [
       "<IPython.core.display.Latex object>"
      ]
     },
     "execution_count": 91,
     "metadata": {},
     "output_type": "execute_result"
    }
   ],
   "source": [
    "import scipy.linalg as la\n",
    "array_inv = la.inv(array_t)\n",
    "array_to_latex(array_inv)"
   ]
  },
  {
   "cell_type": "code",
   "execution_count": 98,
   "id": "8465eeec-b741-43df-877e-c6ad234b61e6",
   "metadata": {},
   "outputs": [
    {
     "data": {
      "image/png": "[encoded data removed]",
      "text/plain": [
       "<Figure size 568.197x264.88 with 1 Axes>"
      ]
     },
     "execution_count": 98,
     "metadata": {},
     "output_type": "execute_result"
    }
   ],
   "source": [
    "dj_circuit.draw()"
   ]
  },
  {
   "cell_type": "code",
   "execution_count": 100,
   "id": "86f76f0b-7168-44fe-86b3-d183f190d858",
   "metadata": {},
   "outputs": [],
   "source": [
    "job = execute(dj_circuit, real_backend, shots=1000)\n",
    "results = job.result()\n",
    "counts = results.get_counts()\n"
   ]
  },
  {
   "cell_type": "code",
   "execution_count": 101,
   "id": "6da6ffb5-2454-4199-8d2a-64a3b173a207",
   "metadata": {},
   "outputs": [
    {
     "data": {
      "image/png": "[encoded data removed]",
      "text/plain": [
       "<Figure size 504x360 with 1 Axes>"
      ]
     },
     "execution_count": 101,
     "metadata": {},
     "output_type": "execute_result"
    }
   ],
   "source": [
    "plot_histogram(counts)"
   ]
  },
  {
   "cell_type": "code",
   "execution_count": 104,
   "id": "eac410d6-ed8b-4188-b379-fc57faf1c33b",
   "metadata": {},
   "outputs": [],
   "source": [
    "result_array = np.array([counts.get('00') or 0, counts.get('01') or 0, counts.get('10') or 0, counts.get('11') or 0])\n",
    "result_array = result_array/1000"
   ]
  },
  {
   "cell_type": "code",
   "execution_count": 105,
   "id": "d5dfea9a-87d5-4c39-b69c-d12c5254d6ac",
   "metadata": {},
   "outputs": [
    {
     "data": {
      "text/plain": [
       "array([0.987, 0.007, 0.006, 0.   ])"
      ]
     },
     "execution_count": 105,
     "metadata": {},
     "output_type": "execute_result"
    }
   ],
   "source": [
    "result_array"
   ]
  },
  {
   "cell_type": "code",
   "execution_count": 28,
   "id": "95e75a2d-aaf3-467f-b0f9-52650d2b5514",
   "metadata": {},
   "outputs": [],
   "source": [
    "import scipy"
   ]
  },
  {
   "cell_type": "code",
   "execution_count": 33,
   "id": "0914a09f-cdf1-416d-9199-3ad29698c152",
   "metadata": {},
   "outputs": [],
   "source": [
    "mitigated = np.array([1.01422, -0.00412, -0.01017, 0.00007], dtype='f')"
   ]
  },
  {
   "cell_type": "code",
   "execution_count": 106,
   "id": "8c1e7a67-f3b1-4759-b4df-29badd2aeb54",
   "metadata": {},
   "outputs": [],
   "source": [
    "mitigated = np.dot(array_inv, result_array)"
   ]
  },
  {
   "cell_type": "code",
   "execution_count": 34,
   "id": "74ef0e6c-6cd5-4351-921f-3b338cf2bff7",
   "metadata": {},
   "outputs": [
    {
     "name": "stdout",
     "output_type": "stream",
     "text": [
      "Traceback \u001b[1;36m(most recent call last)\u001b[0m:\n",
      "  Input \u001b[0;32mIn [34]\u001b[0m in \u001b[0;35m<cell line: 1>\u001b[0m\n",
      "    array_to_latex(mitigated)\n",
      "  File \u001b[0;32m/opt/conda/lib/python3.8/site-packages/qiskit/visualization/array.py:242\u001b[0m in \u001b[0;35marray_to_latex\u001b[0m\n",
      "    outstr = _matrix_to_latex(array, precision=precision, prefix=prefix, max_size=max_size)\n",
      "  File \u001b[0;32m/opt/conda/lib/python3.8/site-packages/qiskit/visualization/array.py:173\u001b[0m in \u001b[0;35m_matrix_to_latex\u001b[0m\n",
      "    out_string += _rows_to_latex([matrix], max_width)\n",
      "  File \u001b[0;32m/opt/conda/lib/python3.8/site-packages/qiskit/visualization/array.py:163\u001b[0m in \u001b[0;35m_rows_to_latex\u001b[0m\n",
      "    row_string += _elements_to_latex(r)\n",
      "  File \u001b[0;32m/opt/conda/lib/python3.8/site-packages/qiskit/visualization/array.py:152\u001b[0m in \u001b[0;35m_elements_to_latex\u001b[0m\n",
      "    num_string = _num_to_latex(el, precision=precision)\n",
      "  File \u001b[0;32m/opt/conda/lib/python3.8/site-packages/qiskit/visualization/array.py:94\u001b[0m in \u001b[0;35m_num_to_latex\u001b[0m\n",
      "    realstring = _proc_value(r)\n",
      "  File \u001b[0;32m/opt/conda/lib/python3.8/site-packages/qiskit/visualization/array.py:75\u001b[0m in \u001b[0;35m_proc_value\u001b[0m\n",
      "    frac = Fraction(val).limit_denominator()\n",
      "\u001b[1;36m  File \u001b[1;32m/opt/conda/lib/python3.8/fractions.py:161\u001b[1;36m in \u001b[1;35m__new__\u001b[1;36m\u001b[0m\n",
      "\u001b[1;33m    raise TypeError(\"argument should be a string \"\u001b[0m\n",
      "\u001b[1;31mTypeError\u001b[0m\u001b[1;31m:\u001b[0m argument should be a string or a Rational instance\n",
      "\n",
      "Use %tb to get the full traceback.\n"
     ]
    },
    {
     "data": {
      "text/html": [
       "\n",
       "<style>\n",
       ".button {\n",
       "  border: none;\n",
       "  color: white;\n",
       "  padding: 4px 8px;\n",
       "  text-align: center;\n",
       "  text-decoration: none;\n",
       "  display: inline-block;\n",
       "  font-size: 12px;\n",
       "  margin: 4px 2px;\n",
       "  transition-duration: 0.2s;\n",
       "  cursor: pointer;\n",
       "}\n",
       ".iqx-button {\n",
       "  background-color: #0f62fe; \n",
       "  color: white; \n",
       "}\n",
       ".iqx-button:hover {\n",
       "  background-color: #0043ce;\n",
       "  color: white;\n",
       "}\n",
       "</style>\n",
       "<a href=\"https://stackoverflow.com/search?q=TypeError: argument should be a string or a Rational instance\" target='_blank'><button class='button iqx-button'>Search for solution online</button></a>\n"
      ],
      "text/plain": [
       "<IPython.core.display.HTML object>"
      ]
     },
     "metadata": {},
     "output_type": "display_data"
    }
   ],
   "source": [
    "array_to_latex(mitigated)"
   ]
  },
  {
   "cell_type": "code",
   "execution_count": 109,
   "id": "f46e3e8d-c431-4da3-b0eb-80bac38a5a4c",
   "metadata": {},
   "outputs": [
    {
     "data": {
      "text/plain": [
       "array([1.        , 0.00590772, 0.        , 0.00999347])"
      ]
     },
     "execution_count": 109,
     "metadata": {},
     "output_type": "execute_result"
    }
   ],
   "source": [
    "# def NormalizeData(data):\n",
    "#     return (data - np.min(data)) / (np.max(data) - np.min(data))\n",
    "# NormalizeData(mitigated)\n",
    "# https://www.stackvidhya.com/how-to-normalize-data-between-0-and-1-range/"
   ]
  },
  {
   "cell_type": "code",
   "execution_count": 111,
   "id": "f0c30d41-060b-4cf8-92d2-3a274551ec38",
   "metadata": {},
   "outputs": [],
   "source": [
    "v2 = (mitigated + 0) / sum(mitigated + 0)"
   ]
  },
  {
   "cell_type": "code",
   "execution_count": 112,
   "id": "f778fc04-4ade-4d2c-be61-09264cf15302",
   "metadata": {},
   "outputs": [
    {
     "data": {
      "text/plain": [
       "array([ 1.01422444e+00, -4.11934404e-03, -1.01711818e-02,  6.60872485e-05])"
      ]
     },
     "execution_count": 112,
     "metadata": {},
     "output_type": "execute_result"
    }
   ],
   "source": [
    "v2"
   ]
  },
  {
   "cell_type": "code",
   "execution_count": 47,
   "id": "9ac25d9a-5c1e-41fd-a811-c27bea2c8816",
   "metadata": {},
   "outputs": [
    {
     "name": "stdout",
     "output_type": "stream",
     "text": [
      "<class 'numpy.ndarray'>\n"
     ]
    }
   ],
   "source": [
    "print(type(array))"
   ]
  },
  {
   "cell_type": "code",
   "execution_count": 68,
   "id": "36c9efa3-967d-407f-a3f8-5331755e5988",
   "metadata": {},
   "outputs": [
    {
     "data": {
      "text/plain": [
       "[{'00': 10000}, {'01': 10000}, {'10': 10000}, {'11': 10000}]"
      ]
     },
     "execution_count": 68,
     "metadata": {},
     "output_type": "execute_result"
    }
   ],
   "source": [
    "cal_results.get_counts()"
   ]
  },
  {
   "cell_type": "code",
   "execution_count": 69,
   "id": "27ed90ad-cb3b-4508-a74b-246d7c72a196",
   "metadata": {},
   "outputs": [],
   "source": [
    "state_labels = ['00', '01', '10', '11']"
   ]
  },
  {
   "cell_type": "code",
   "execution_count": null,
   "id": "9604fde7-c9e2-4e78-9d9c-82d13e0a9ff3",
   "metadata": {},
   "outputs": [],
   "source": [
    "meas_fitter = CompleteMeasFitter(cal_results, state_labels, circlabel='mcal')\n",
    "array_to_latex(meas_fitter.cal_matrix)\n",
    "# print(type(meas_fitter.cal_matrix))"
   ]
  },
  {
   "cell_type": "code",
   "execution_count": 20,
   "id": "7a01f78d-26a3-42a2-9ef3-9c246946c806",
   "metadata": {},
   "outputs": [
    {
     "name": "stdout",
     "output_type": "stream",
     "text": [
      "Traceback \u001b[1;36m(most recent call last)\u001b[0m:\n",
      "\u001b[1;36m  Input \u001b[1;32mIn [20]\u001b[1;36m in \u001b[1;35m<cell line: 5>\u001b[1;36m\u001b[0m\n",
      "\u001b[1;33m    mitigated_results = meas_filter.apply(results)\u001b[0m\n",
      "\u001b[1;31mNameError\u001b[0m\u001b[1;31m:\u001b[0m name 'results' is not defined\n",
      "\n",
      "Use %tb to get the full traceback.\n"
     ]
    },
    {
     "data": {
      "text/html": [
       "\n",
       "<style>\n",
       ".button {\n",
       "  border: none;\n",
       "  color: white;\n",
       "  padding: 4px 8px;\n",
       "  text-align: center;\n",
       "  text-decoration: none;\n",
       "  display: inline-block;\n",
       "  font-size: 12px;\n",
       "  margin: 4px 2px;\n",
       "  transition-duration: 0.2s;\n",
       "  cursor: pointer;\n",
       "}\n",
       ".iqx-button {\n",
       "  background-color: #0f62fe; \n",
       "  color: white; \n",
       "}\n",
       ".iqx-button:hover {\n",
       "  background-color: #0043ce;\n",
       "  color: white;\n",
       "}\n",
       "</style>\n",
       "<a href=\"https://stackoverflow.com/search?q=NameError: name 'results' is not defined\" target='_blank'><button class='button iqx-button'>Search for solution online</button></a>\n"
      ],
      "text/plain": [
       "<IPython.core.display.HTML object>"
      ]
     },
     "metadata": {},
     "output_type": "display_data"
    }
   ],
   "source": [
    "# Get the filter object\n",
    "meas_filter = meas_fitter.filter\n",
    "\n",
    "# Results with mitigation\n",
    "mitigated_results = meas_filter.apply(results)\n",
    "mitigated_counts = mitigated_results.get_counts()"
   ]
  },
  {
   "cell_type": "code",
   "execution_count": null,
   "id": "b6ec4d28-5959-4ead-a444-807838e1db04",
   "metadata": {},
   "outputs": [],
   "source": []
  },
  {
   "cell_type": "code",
   "execution_count": 57,
   "id": "3dabf174-8f99-458f-bccf-d31bbfd5d247",
   "metadata": {},
   "outputs": [
    {
     "data": {
      "image/png": "[encoded data removed]",
      "text/plain": [
       "<Figure size 504x360 with 1 Axes>"
      ]
     },
     "execution_count": 57,
     "metadata": {},
     "output_type": "execute_result"
    }
   ],
   "source": [
    "plot_histogram(counts)"
   ]
  },
  {
   "cell_type": "code",
   "execution_count": 26,
   "id": "7ef37b09-663c-47a3-8f6d-4e662466815c",
   "metadata": {},
   "outputs": [],
   "source": [
    "#3 qubits balanced and constant, qiskit"
   ]
  },
  {
   "cell_type": "code",
   "execution_count": 54,
   "id": "dcfe7230-2204-46a1-bc30-c89ef786f187",
   "metadata": {},
   "outputs": [
    {
     "data": {
      "image/png": "[encoded data removed]",
      "text/plain": [
       "<Figure size 146.797x264.88 with 1 Axes>"
      ]
     },
     "execution_count": 54,
     "metadata": {},
     "output_type": "execute_result"
    }
   ],
   "source": [
    "n = 3\n",
    "oracle_qc = dj_oracle('constant', n)\n",
    "oracle_qc.draw()"
   ]
  },
  {
   "cell_type": "code",
   "execution_count": 55,
   "id": "290e81c2-d511-472f-a5c0-445c4a20035f",
   "metadata": {},
   "outputs": [
    {
     "data": {
      "image/png": "[encoded data removed]",
      "text/plain": [
       "<Figure size 628.397x325.08 with 1 Axes>"
      ]
     },
     "execution_count": 55,
     "metadata": {},
     "output_type": "execute_result"
    }
   ],
   "source": [
    "dj_circuit = dj_algorithm(oracle_qc, n)\n",
    "dj_circuit.draw()"
   ]
  },
  {
   "cell_type": "code",
   "execution_count": 56,
   "id": "e3aeb218-e104-401c-b0c9-1822b9c25c88",
   "metadata": {},
   "outputs": [
    {
     "data": {
      "image/png": "[encoded data removed]",
      "text/plain": [
       "<Figure size 504x360 with 1 Axes>"
      ]
     },
     "execution_count": 56,
     "metadata": {},
     "output_type": "execute_result"
    }
   ],
   "source": [
    "aer_backend = Aer.get_backend('aer_simulator')\n",
    "job = execute(dj_circuit, aer_backend, shots=1000)\n",
    "results = job.result()\n",
    "counts = results.get_counts()\n",
    "plot_histogram(counts)"
   ]
  },
  {
   "cell_type": "code",
   "execution_count": 57,
   "id": "5dab4873-747d-4d54-9477-7460a4f70388",
   "metadata": {},
   "outputs": [
    {
     "name": "stdout",
     "output_type": "stream",
     "text": [
      "Job Status: job has successfully run\n"
     ]
    }
   ],
   "source": [
    "job = execute(dj_circuit, real_backend, shots=1000)\n",
    "job_monitor(job, interval=2)"
   ]
  },
  {
   "cell_type": "code",
   "execution_count": 58,
   "id": "e80c7cfe-b858-456d-ad47-b85b8cd50974",
   "metadata": {},
   "outputs": [
    {
     "data": {
      "image/png": "[encoded data removed]",
      "text/plain": [
       "<Figure size 504x360 with 1 Axes>"
      ]
     },
     "execution_count": 58,
     "metadata": {},
     "output_type": "execute_result"
    }
   ],
   "source": [
    "# Get the results of the computation\n",
    "results = job.result()\n",
    "counts = results.get_counts()\n",
    "\n",
    "plot_histogram(counts)"
   ]
  },
  {
   "cell_type": "code",
   "execution_count": null,
   "id": "b8345624-f461-4912-ac85-5322eaca54bb",
   "metadata": {},
   "outputs": [],
   "source": [
    "qr = QuantumRegister(n)\n",
    "meas_calibs, state_labels = complete_meas_cal(qr=qr, circlabel='mcal')\n",
    "cal_results = real_backend.run(meas_calibs, shots=10000).result()\n",
    "meas_fitter = CompleteMeasFitter(cal_results, state_labels, circlabel='mcal')\n",
    "array_to_latex(meas_fitter.cal_matrix)"
   ]
  },
  {
   "cell_type": "code",
   "execution_count": 37,
   "id": "2bab0f93-3635-482d-ac86-7efcca5dbee5",
   "metadata": {},
   "outputs": [],
   "source": [
    "# Get the filter object\n",
    "meas_filter = meas_fitter.filter\n",
    "\n",
    "# Results with mitigation\n",
    "mitigated_results = meas_filter.apply(results)\n",
    "mitigated_counts = mitigated_results.get_counts()"
   ]
  },
  {
   "cell_type": "code",
   "execution_count": 38,
   "id": "82c9e213-38f6-4fd3-8a39-bb8840e52888",
   "metadata": {},
   "outputs": [
    {
     "data": {
      "image/png": "[encoded data removed]",
      "text/plain": [
       "<Figure size 504x360 with 1 Axes>"
      ]
     },
     "execution_count": 38,
     "metadata": {},
     "output_type": "execute_result"
    }
   ],
   "source": [
    "noisy_counts = results.get_counts()\n",
    "plot_histogram([noisy_counts, mitigated_counts], legend=['noisy', 'mitigated'])"
   ]
  },
  {
   "cell_type": "code",
   "execution_count": 45,
   "id": "3557773b-91d0-4a4e-af6a-c613bdd67d0d",
   "metadata": {},
   "outputs": [
    {
     "data": {
      "image/png": "[encoded data removed]",
      "text/plain": [
       "<Figure size 327.397x204.68 with 1 Axes>"
      ]
     },
     "execution_count": 45,
     "metadata": {},
     "output_type": "execute_result"
    }
   ],
   "source": [
    "oracle_qc = dj_oracle('balanced', n)\n",
    "oracle_qc.draw()"
   ]
  },
  {
   "cell_type": "code",
   "execution_count": 46,
   "id": "85dbc2fc-6c39-4332-b94d-7835383d9121",
   "metadata": {},
   "outputs": [
    {
     "data": {
      "image/png": "[encoded data removed]",
      "text/plain": [
       "<Figure size 568.197x264.88 with 1 Axes>"
      ]
     },
     "execution_count": 46,
     "metadata": {},
     "output_type": "execute_result"
    }
   ],
   "source": [
    "dj_circuit = dj_algorithm(oracle_qc, n)\n",
    "dj_circuit.draw()"
   ]
  },
  {
   "cell_type": "code",
   "execution_count": 47,
   "id": "c7c0c990-c0a5-495d-ba87-2381ce57d08a",
   "metadata": {},
   "outputs": [
    {
     "data": {
      "image/png": "[encoded data removed]",
      "text/plain": [
       "<Figure size 504x360 with 1 Axes>"
      ]
     },
     "execution_count": 47,
     "metadata": {},
     "output_type": "execute_result"
    }
   ],
   "source": [
    "aer_backend = Aer.get_backend('aer_simulator')\n",
    "job = execute(dj_circuit, aer_backend, shots=1000)\n",
    "results = job.result()\n",
    "counts = results.get_counts()\n",
    "plot_histogram(counts)"
   ]
  },
  {
   "cell_type": "code",
   "execution_count": 48,
   "id": "53f43a3e-e8d0-4ad4-a090-470758a47754",
   "metadata": {},
   "outputs": [
    {
     "name": "stdout",
     "output_type": "stream",
     "text": [
      "Job Status: job has successfully run\n"
     ]
    }
   ],
   "source": [
    "job = execute(dj_circuit, real_backend, shots=1000)\n",
    "job_monitor(job, interval=2)"
   ]
  },
  {
   "cell_type": "code",
   "execution_count": 49,
   "id": "b07c9988-2198-42c7-bc77-062a42f88547",
   "metadata": {},
   "outputs": [
    {
     "data": {
      "image/png": "[encoded data removed]",
      "text/plain": [
       "<Figure size 504x360 with 1 Axes>"
      ]
     },
     "execution_count": 49,
     "metadata": {},
     "output_type": "execute_result"
    }
   ],
   "source": [
    "# Get the results of the computation\n",
    "results = job.result()\n",
    "counts = results.get_counts()\n",
    "\n",
    "plot_histogram(counts)"
   ]
  },
  {
   "cell_type": "code",
   "execution_count": 50,
   "id": "013fa69f-e34d-4df8-959c-95e1db393097",
   "metadata": {},
   "outputs": [],
   "source": [
    "qr = QuantumRegister(n)\n",
    "meas_calibs, state_labels = complete_meas_cal(qr=qr, circlabel='mcal')\n",
    "cal_results = real_backend.run(meas_calibs, shots=10000).result()"
   ]
  },
  {
   "cell_type": "code",
   "execution_count": 51,
   "id": "00f66b0e-565b-43df-9d69-9bc766d1aab1",
   "metadata": {},
   "outputs": [
    {
     "data": {
      "text/latex": [
       "$$\n",
       "\n",
       "\\begin{bmatrix}\n",
       "0.9162 & 0.0377 & 0.0393 & 0.0017  \\\\\n",
       " 0.024 & 0.94 & 0.0006 & 0.0431  \\\\\n",
       " 0.0581 & 0.0019 & 0.9363 & 0.0391  \\\\\n",
       " 0.0017 & 0.0204 & 0.0238 & 0.9161  \\\\\n",
       " \\end{bmatrix}\n",
       "$$"
      ],
      "text/plain": [
       "<IPython.core.display.Latex object>"
      ]
     },
     "execution_count": 51,
     "metadata": {},
     "output_type": "execute_result"
    }
   ],
   "source": [
    "\n",
    "meas_fitter = CompleteMeasFitter(cal_results, state_labels, circlabel='mcal')\n",
    "array_to_latex(meas_fitter.cal_matrix)"
   ]
  },
  {
   "cell_type": "code",
   "execution_count": 52,
   "id": "518cc53e-c696-493c-8fad-17656046ceed",
   "metadata": {},
   "outputs": [],
   "source": [
    "# Get the filter object\n",
    "meas_filter = meas_fitter.filter\n",
    "\n",
    "# Results with mitigation\n",
    "mitigated_results = meas_filter.apply(results)\n",
    "mitigated_counts = mitigated_results.get_counts()"
   ]
  },
  {
   "cell_type": "code",
   "execution_count": 53,
   "id": "d0cf052e-1b26-40a6-9a86-d10eef69fd2d",
   "metadata": {},
   "outputs": [
    {
     "data": {
      "image/png": "[encoded data removed]",
      "text/plain": [
       "<Figure size 504x360 with 1 Axes>"
      ]
     },
     "execution_count": 53,
     "metadata": {},
     "output_type": "execute_result"
    }
   ],
   "source": [
    "from qiskit.visualization import plot_histogram \n",
    "noisy_counts = results.get_counts()\n",
    "plot_histogram([noisy_counts, mitigated_counts], legend=['noisy', 'mitigated'])"
   ]
  },
  {
   "cell_type": "code",
   "execution_count": null,
   "id": "ceba2379-202c-472d-823e-0fb9e8881a7d",
   "metadata": {},
   "outputs": [],
   "source": [
    "# 3 qubits general"
   ]
  },
  {
   "cell_type": "code",
   "execution_count": null,
   "id": "264ed1ba-4aae-45cd-820f-6b8e615ec519",
   "metadata": {},
   "outputs": [],
   "source": [
    "#4 qubits balanced and constant, qiskit"
   ]
  },
  {
   "cell_type": "code",
   "execution_count": null,
   "id": "00c9ade9-b8c2-4a29-9e54-f954f0956137",
   "metadata": {},
   "outputs": [],
   "source": [
    "# 4 qubits general"
   ]
  },
  {
   "cell_type": "code",
   "execution_count": null,
   "id": "722a70ae-deaf-4e94-b13d-9e72462e6882",
   "metadata": {},
   "outputs": [],
   "source": []
  }
 ],
 "metadata": {
  "kernelspec": {
   "display_name": "Python 3 (ipykernel)",
   "language": "python",
   "name": "python3"
  },
  "language_info": {
   "codemirror_mode": {
    "name": "ipython",
    "version": 3
   },
   "file_extension": ".py",
   "mimetype": "text/x-python",
   "name": "python",
   "nbconvert_exporter": "python",
   "pygments_lexer": "ipython3",
   "version": "3.8.13"
  },
  "widgets": {
   "application/vnd.jupyter.widget-state+json": {
    "state": {},
    "version_major": 2,
    "version_minor": 0
   }
  }
 },
 "nbformat": 4,
 "nbformat_minor": 5
}
