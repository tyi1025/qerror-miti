{
 "cells": [
  {
   "cell_type": "code",
   "execution_count": 3,
   "id": "bf509d18-d13d-4174-8cbc-03deb5ba1978",
   "metadata": {},
   "outputs": [
    {
     "name": "stdout",
     "output_type": "stream",
     "text": [
      "Collecting qiskit.ignis\n",
      "  Using cached qiskit_ignis-0.7.1-py3-none-any.whl (198 kB)\n",
      "Requirement already satisfied: setuptools>=40.1.0 in /opt/conda/lib/python3.8/site-packages (from qiskit.ignis) (61.2.0)\n",
      "Requirement already satisfied: scipy!=0.19.1,>=0.19 in /opt/conda/lib/python3.8/site-packages (from qiskit.ignis) (1.8.0)\n",
      "Requirement already satisfied: retworkx>=0.8.0 in /opt/conda/lib/python3.8/site-packages (from qiskit.ignis) (0.11.0)\n",
      "Requirement already satisfied: numpy>=1.13 in /opt/conda/lib/python3.8/site-packages (from qiskit.ignis) (1.22.4)\n",
      "Requirement already satisfied: qiskit-terra>=0.15.1 in /opt/conda/lib/python3.8/site-packages (from qiskit.ignis) (0.22.2)\n",
      "Requirement already satisfied: dill>=0.3 in /opt/conda/lib/python3.8/site-packages (from qiskit-terra>=0.15.1->qiskit.ignis) (0.3.4)\n",
      "Requirement already satisfied: psutil>=5 in /opt/conda/lib/python3.8/site-packages (from qiskit-terra>=0.15.1->qiskit.ignis) (5.9.0)\n",
      "Requirement already satisfied: tweedledum<2.0,>=1.1 in /opt/conda/lib/python3.8/site-packages (from qiskit-terra>=0.15.1->qiskit.ignis) (1.1.1)\n",
      "Requirement already satisfied: sympy>=1.3 in /opt/conda/lib/python3.8/site-packages (from qiskit-terra>=0.15.1->qiskit.ignis) (1.10.1)\n",
      "Requirement already satisfied: ply>=3.10 in /opt/conda/lib/python3.8/site-packages (from qiskit-terra>=0.15.1->qiskit.ignis) (3.11)\n",
      "Requirement already satisfied: stevedore>=3.0.0 in /opt/conda/lib/python3.8/site-packages (from qiskit-terra>=0.15.1->qiskit.ignis) (3.5.0)\n",
      "Requirement already satisfied: python-dateutil>=2.8.0 in /opt/conda/lib/python3.8/site-packages (from qiskit-terra>=0.15.1->qiskit.ignis) (2.8.2)\n",
      "Requirement already satisfied: symengine>=0.9 in /opt/conda/lib/python3.8/site-packages (from qiskit-terra>=0.15.1->qiskit.ignis) (0.9.2)\n",
      "Requirement already satisfied: six>=1.5 in /opt/conda/lib/python3.8/site-packages (from python-dateutil>=2.8.0->qiskit-terra>=0.15.1->qiskit.ignis) (1.16.0)\n",
      "Requirement already satisfied: pbr!=2.1.0,>=2.0.0 in /opt/conda/lib/python3.8/site-packages (from stevedore>=3.0.0->qiskit-terra>=0.15.1->qiskit.ignis) (5.8.1)\n",
      "Requirement already satisfied: mpmath>=0.19 in /opt/conda/lib/python3.8/site-packages (from sympy>=1.3->qiskit-terra>=0.15.1->qiskit.ignis) (1.2.1)\n",
      "Installing collected packages: qiskit.ignis\n",
      "Successfully installed qiskit.ignis\n",
      "Note: you may need to restart the kernel to use updated packages.\n"
     ]
    }
   ],
   "source": [
    "pip install qiskit.ignis"
   ]
  },
  {
   "cell_type": "code",
   "execution_count": 11,
   "id": "5519c1a1-c2c2-4990-9aa3-8efc44d8fb5a",
   "metadata": {},
   "outputs": [],
   "source": [
    "import numpy as np\n",
    "\n",
    "# Importing standard Qiskit libraries\n",
    "from qiskit import QuantumCircuit, assemble, transpile, Aer, IBMQ\n",
    "# from qiskit.tools.jupyter import *\n",
    "from qiskit.visualization import *\n",
    "# from ibm_quantum_widgets import *\n",
    "# from qiskit.providers.aer import QasmSimulator\n",
    "from qiskit.providers.ibmq import least_busy\n",
    "from qiskit import execute\n",
    "\n",
    "from qiskit.tools.monitor import job_monitor\n",
    "\n",
    "from qiskit.ignis.mitigation.measurement import complete_meas_cal, CompleteMeasFitter\n",
    "from qiskit import QuantumRegister\n",
    "from qiskit.visualization import array_to_latex\n",
    "\n",
    "# Loading your IBM Quantum account(s)"
   ]
  },
  {
   "cell_type": "code",
   "execution_count": 12,
   "id": "3486471a-1590-41b7-bc03-b0f85159c134",
   "metadata": {},
   "outputs": [
    {
     "name": "stderr",
     "output_type": "stream",
     "text": [
      "ibmqfactory.load_account:WARNING:2022-12-13 14:14:49,745: Credentials are already in use. The existing account in the session will be replaced.\n"
     ]
    },
    {
     "name": "stdout",
     "output_type": "stream",
     "text": [
      "backend used:  ibm_nairobi\n"
     ]
    }
   ],
   "source": [
    "\n",
    "IBMQ.load_account()\n",
    "provider = IBMQ.get_provider(hub='ibm-q')\n",
    "# provider = IBMQ.get_provider(hub='ibm')\n",
    "real_backend = least_busy(provider.backends(filters=lambda x: not x.configuration().simulator))\n",
    "# real_backend = provider.get_backend('ibm_lagos')\n",
    "print(\"backend used: \", real_backend)"
   ]
  },
  {
   "cell_type": "code",
   "execution_count": 13,
   "id": "fc5d74c7-e488-49ad-b157-2e21ed3f9621",
   "metadata": {},
   "outputs": [],
   "source": [
    "def dj_oracle(case, n):\n",
    "    # We need to make a QuantumCircuit object to return\n",
    "    # This circuit has n+1 qubits: the size of the input,\n",
    "    # plus one output qubit\n",
    "    oracle_qc = QuantumCircuit(n+1)\n",
    "    \n",
    "    # First, let's deal with the case in which oracle is balanced\n",
    "    if case == \"balanced\":\n",
    "        # First generate a random number that tells us which CNOTs to\n",
    "        # wrap in X-gates:\n",
    "        b = np.random.randint(1,2**n)\n",
    "        # Next, format 'b' as a binary string of length 'n', padded with zeros:\n",
    "        b_str = format(b, '0'+str(n)+'b')\n",
    "        # Next, we place the first X-gates. Each digit in our binary string \n",
    "        # corresponds to a qubit, if the digit is 0, we do nothing, if it's 1\n",
    "        # we apply an X-gate to that qubit:\n",
    "        for qubit in range(len(b_str)):\n",
    "            if b_str[qubit] == '1':\n",
    "                oracle_qc.x(qubit)\n",
    "        # Do the controlled-NOT gates for each qubit, using the output qubit \n",
    "        # as the target:\n",
    "        for qubit in range(n):\n",
    "            oracle_qc.cx(qubit, n)\n",
    "        # Next, place the final X-gates\n",
    "        for qubit in range(len(b_str)):\n",
    "            if b_str[qubit] == '1':\n",
    "                oracle_qc.x(qubit)\n",
    "\n",
    "    # Case in which oracle is constant\n",
    "    if case == \"constant\":\n",
    "        # First decide what the fixed output of the oracle will be\n",
    "        # (either always 0 or always 1)\n",
    "        output = np.random.randint(2)\n",
    "        if output == 1:\n",
    "            oracle_qc.x(n)\n",
    "    oracle_qc.name = \"oracle \" + case\n",
    "    return oracle_qc\n",
    "    # oracle_gate = oracle_qc.to_gate()\n",
    "    # oracle_gate.name = \"Oracle\" # To show when we display the circuit\n",
    "    # return oracle_gate"
   ]
  },
  {
   "cell_type": "code",
   "execution_count": 14,
   "id": "c524e501-27ad-4db2-bfbb-9968e86e48e9",
   "metadata": {},
   "outputs": [],
   "source": [
    "def dj_algorithm(oracle, n):\n",
    "    dj_circuit = QuantumCircuit(n+1, n)\n",
    "    # Set up the output qubit:\n",
    "    dj_circuit.x(n)\n",
    "    dj_circuit.h(n)\n",
    "    # And set up the input register:\n",
    "    for qubit in range(n):\n",
    "        dj_circuit.h(qubit)\n",
    "    # Let's append the oracle gate to our circuit:\n",
    "    # dj_circuit.barrier()\n",
    "    dj_circuit.append(oracle, range(n+1))\n",
    "    # Finally, perform the H-gates again and measure:\n",
    "    # dj_circuit.barrier()\n",
    "    for qubit in range(n):\n",
    "        dj_circuit.h(qubit)\n",
    "    \n",
    "    for i in range(n):\n",
    "        dj_circuit.measure(i, i)\n",
    "    \n",
    "    return dj_circuit"
   ]
  },
  {
   "cell_type": "code",
   "execution_count": 24,
   "id": "916a5bf0-89b1-4cbc-8231-2c18f438cfa8",
   "metadata": {},
   "outputs": [],
   "source": [
    "aer_simulator = Aer.get_backend('aer_simulator')"
   ]
  },
  {
   "cell_type": "code",
   "execution_count": 15,
   "id": "a46415f0-7d9b-4c84-b43c-0394e442f0bf",
   "metadata": {},
   "outputs": [],
   "source": [
    "n = 2"
   ]
  },
  {
   "cell_type": "code",
   "execution_count": 16,
   "id": "d83b1245-3c1d-4bfa-aa3e-c55477623c23",
   "metadata": {},
   "outputs": [
    {
     "data": {
      "image/png": "[encoded data removed]",
      "text/plain": [
       "<Figure size 146.797x204.68 with 1 Axes>"
      ]
     },
     "execution_count": 16,
     "metadata": {},
     "output_type": "execute_result"
    }
   ],
   "source": [
    "oracle_qc = dj_oracle('constant', n)\n",
    "oracle_qc.draw()"
   ]
  },
  {
   "cell_type": "code",
   "execution_count": 17,
   "id": "3af5a7e1-932f-4c04-be87-68d6de0f0268",
   "metadata": {},
   "outputs": [
    {
     "data": {
      "image/png": "[encoded data removed]",
      "text/plain": [
       "<Figure size 568.197x264.88 with 1 Axes>"
      ]
     },
     "execution_count": 17,
     "metadata": {},
     "output_type": "execute_result"
    }
   ],
   "source": [
    "dj_circuit = dj_algorithm(oracle_qc, n)\n",
    "dj_circuit.draw()"
   ]
  },
  {
   "cell_type": "code",
   "execution_count": 18,
   "id": "5804b33f-9fc3-4de4-b9f2-f1c3584c138c",
   "metadata": {},
   "outputs": [
    {
     "data": {
      "image/png": "[encoded data removed]",
      "text/plain": [
       "<Figure size 387.597x264.88 with 1 Axes>"
      ]
     },
     "execution_count": 18,
     "metadata": {},
     "output_type": "execute_result"
    }
   ],
   "source": [
    "new_dj = dj_circuit.decompose('oracle constant')\n",
    "\n",
    "new_dj.draw()"
   ]
  },
  {
   "cell_type": "code",
   "execution_count": 19,
   "id": "9b6161d0-9199-4f92-8bc4-0619f8067766",
   "metadata": {},
   "outputs": [
    {
     "data": {
      "image/png": "[encoded data removed]",
      "text/plain": [
       "<Figure size 504x360 with 1 Axes>"
      ]
     },
     "execution_count": 19,
     "metadata": {},
     "output_type": "execute_result"
    }
   ],
   "source": [
    "aer_backend = Aer.get_backend('aer_simulator')\n",
    "job = execute(dj_circuit, aer_backend, shots=1000)\n",
    "results = job.result()\n",
    "counts = results.get_counts()\n",
    "plot_histogram(counts)"
   ]
  },
  {
   "cell_type": "code",
   "execution_count": 20,
   "id": "219f1f7c-1487-49e8-94a6-dc4b50654fc7",
   "metadata": {},
   "outputs": [],
   "source": [
    "job = execute(dj_circuit, real_backend, shots=1000)\n",
    "realqc_results = job.result()"
   ]
  },
  {
   "cell_type": "code",
   "execution_count": 20,
   "id": "b0ff19bd-eb00-4c87-a4cd-959983c30f4d",
   "metadata": {},
   "outputs": [
    {
     "data": {
      "image/png": "[encoded data removed]",
      "text/plain": [
       "<Figure size 504x360 with 1 Axes>"
      ]
     },
     "execution_count": 20,
     "metadata": {},
     "output_type": "execute_result"
    }
   ],
   "source": [
    "counts = realqc_results.get_counts()\n",
    "plot_histogram(counts)"
   ]
  },
  {
   "cell_type": "code",
   "execution_count": 21,
   "id": "299e3bd0-3096-4128-9503-98176f1b58b3",
   "metadata": {},
   "outputs": [
    {
     "name": "stdout",
     "output_type": "stream",
     "text": [
      "Traceback \u001b[1;36m(most recent call last)\u001b[0m:\n",
      "\u001b[1;36m  Input \u001b[1;32mIn [21]\u001b[1;36m in \u001b[1;35m<cell line: 5>\u001b[1;36m\u001b[0m\n",
      "\u001b[1;33m    meas_fitter = CompleteMeasFitter(cal_results, state_labels, circlabel='mcal')\u001b[0m\n",
      "\u001b[1;31mNameError\u001b[0m\u001b[1;31m:\u001b[0m name 'cal_results' is not defined\n",
      "\n",
      "Use %tb to get the full traceback.\n"
     ]
    },
    {
     "data": {
      "text/html": [
       "\n",
       "<style>\n",
       ".button {\n",
       "  border: none;\n",
       "  color: white;\n",
       "  padding: 4px 8px;\n",
       "  text-align: center;\n",
       "  text-decoration: none;\n",
       "  display: inline-block;\n",
       "  font-size: 12px;\n",
       "  margin: 4px 2px;\n",
       "  transition-duration: 0.2s;\n",
       "  cursor: pointer;\n",
       "}\n",
       ".iqx-button {\n",
       "  background-color: #0f62fe; \n",
       "  color: white; \n",
       "}\n",
       ".iqx-button:hover {\n",
       "  background-color: #0043ce;\n",
       "  color: white;\n",
       "}\n",
       "</style>\n",
       "<a href=\"https://stackoverflow.com/search?q=NameError: name 'cal_results' is not defined\" target='_blank'><button class='button iqx-button'>Search for solution online</button></a>\n"
      ],
      "text/plain": [
       "<IPython.core.display.HTML object>"
      ]
     },
     "metadata": {},
     "output_type": "display_data"
    }
   ],
   "source": [
    "# QEM\n",
    "qr = QuantumRegister(n)\n",
    "qem_meas_calibs, state_labels = complete_meas_cal(qr=qr, circlabel='mcal')\n",
    "qem_cal_results = real_backend.run(qem_meas_calibs, shots=10000).result()"
   ]
  },
  {
   "cell_type": "code",
   "execution_count": 22,
   "id": "85a09dbf-567f-4e75-95cc-34179f0e0b09",
   "metadata": {},
   "outputs": [
    {
     "data": {
      "text/latex": [
       "$$\n",
       "\n",
       "\\begin{bmatrix}\n",
       "0.9751 & 0.0416 & 0.0507 & 0.0022  \\\\\n",
       " 0.0117 & 0.947 & 0.0016 & 0.0439  \\\\\n",
       " 0.0131 & 0.0007 & 0.9364 & 0.0401  \\\\\n",
       " 0.0001 & 0.0107 & 0.0113 & 0.9138  \\\\\n",
       " \\end{bmatrix}\n",
       "$$"
      ],
      "text/plain": [
       "<IPython.core.display.Latex object>"
      ]
     },
     "execution_count": 22,
     "metadata": {},
     "output_type": "execute_result"
    }
   ],
   "source": [
    "meas_fitter = CompleteMeasFitter(qem_cal_results, state_labels, circlabel='mcal')\n",
    "array_to_latex(meas_fitter.cal_matrix)"
   ]
  },
  {
   "cell_type": "code",
   "execution_count": 26,
   "id": "57f7682f-cc0e-4ab0-92a7-919c0d8d8264",
   "metadata": {},
   "outputs": [
    {
     "data": {
      "text/latex": [
       "$$\n",
       "\n",
       "\\begin{bmatrix}\n",
       "1 & 0 & 0 & 0  \\\\\n",
       " 0 & 1 & 0 & 0  \\\\\n",
       " 0 & 0 & 1 & 0  \\\\\n",
       " 0 & 0 & 0 & 1  \\\\\n",
       " \\end{bmatrix}\n",
       "$$"
      ],
      "text/plain": [
       "<IPython.core.display.Latex object>"
      ]
     },
     "execution_count": 26,
     "metadata": {},
     "output_type": "execute_result"
    }
   ],
   "source": [
    "cal_results = aer_simulator.run(qem_meas_calibs, shots=10000).result()\n",
    "meas_fitter = CompleteMeasFitter(cal_results, state_labels, circlabel='mcal')\n",
    "array_to_latex(meas_fitter.cal_matrix)"
   ]
  },
  {
   "cell_type": "code",
   "execution_count": 27,
   "id": "ebb977f7-b285-46d0-a862-481f947a808a",
   "metadata": {},
   "outputs": [],
   "source": [
    "# Get the filter object\n",
    "meas_filter = meas_fitter.filter\n",
    "\n",
    "# Results with mitigation\n",
    "mitigated_results = meas_filter.apply(results)\n",
    "mitigated_counts = mitigated_results.get_counts()"
   ]
  },
  {
   "cell_type": "code",
   "execution_count": 28,
   "id": "cf5685ab-6118-466c-a20d-8e437cf7b511",
   "metadata": {},
   "outputs": [
    {
     "data": {
      "image/png": "[encoded data removed]",
      "text/plain": [
       "<Figure size 504x360 with 1 Axes>"
      ]
     },
     "execution_count": 28,
     "metadata": {},
     "output_type": "execute_result"
    }
   ],
   "source": [
    "noisy_counts = realqc_results.get_counts()\n",
    "plot_histogram([noisy_counts, mitigated_counts], legend=['noisy', 'mitigated'])"
   ]
  },
  {
   "cell_type": "code",
   "execution_count": 29,
   "id": "cd2ef3e0-6839-4c85-bafa-1ddb72bb2d74",
   "metadata": {},
   "outputs": [],
   "source": [
    "# GEM"
   ]
  },
  {
   "cell_type": "code",
   "execution_count": 30,
   "id": "9d8c2c73-50ef-4d17-b05c-b483d526ebaa",
   "metadata": {},
   "outputs": [
    {
     "data": {
      "image/png": "[encoded data removed]",
      "text/plain": [
       "<Figure size 327.252x204.68 with 1 Axes>"
      ]
     },
     "execution_count": 30,
     "metadata": {},
     "output_type": "execute_result"
    }
   ],
   "source": [
    "# not calibrating ancilla\n",
    "dj_left0 = QuantumCircuit(n,n)\n",
    "dj_left1 = QuantumCircuit(n) \n",
    "dj_left2 = QuantumCircuit(n)\n",
    "dj_left3 = QuantumCircuit(n)\n",
    "\n",
    "dj_left0.h(0)\n",
    "\n",
    "dj_left0.h(0)\n",
    "\n",
    "dj_left0.h(1)\n",
    "dj_left0.h(1)\n",
    "dj_left0.measure([0,1], [0,1])\n",
    "dj_left0.draw()"
   ]
  },
  {
   "cell_type": "code",
   "execution_count": 31,
   "id": "1238b23c-f19c-4cdc-99a7-4d0bda1662f8",
   "metadata": {},
   "outputs": [
    {
     "data": {
      "image/png": "[encoded data removed]",
      "text/plain": [
       "<Figure size 327.252x204.68 with 1 Axes>"
      ]
     },
     "execution_count": 31,
     "metadata": {},
     "output_type": "execute_result"
    }
   ],
   "source": [
    "dj_left1 = QuantumCircuit(n, n)\n",
    "dj_left1.x(0)\n",
    "dj_left1.h(0)\n",
    "\n",
    "dj_left1.h(0)\n",
    "dj_left1.h(1)\n",
    "dj_left1.h(1)\n",
    "dj_left1.measure([0,1], [0,1])\n",
    "dj_left1.draw()"
   ]
  },
  {
   "cell_type": "code",
   "execution_count": 32,
   "id": "0715e227-1285-49c3-8b68-ac2e74f420a0",
   "metadata": {},
   "outputs": [
    {
     "name": "stderr",
     "output_type": "stream",
     "text": [
      "/tmp/ipykernel_116/2252380090.py:2: DeprecationWarning: The QuantumCircuit.__iadd__() method is being deprecated. Use the compose() (potentially with the inplace=True argument) and tensor() methods which are more flexible w.r.t circuit register compatibility.\n",
      "  dj_left2 += dj_left0\n"
     ]
    },
    {
     "data": {
      "image/png": "[encoded data removed]",
      "text/plain": [
       "<Figure size 387.452x204.68 with 1 Axes>"
      ]
     },
     "execution_count": 32,
     "metadata": {},
     "output_type": "execute_result"
    }
   ],
   "source": [
    "dj_left2.x(1)\n",
    "dj_left2 += dj_left0\n",
    "dj_left2.draw()"
   ]
  },
  {
   "cell_type": "code",
   "execution_count": 33,
   "id": "2df5d154-6a85-43c5-85fd-85acfe12c815",
   "metadata": {},
   "outputs": [
    {
     "name": "stderr",
     "output_type": "stream",
     "text": [
      "/tmp/ipykernel_116/810308772.py:3: DeprecationWarning: The QuantumCircuit.__iadd__() method is being deprecated. Use the compose() (potentially with the inplace=True argument) and tensor() methods which are more flexible w.r.t circuit register compatibility.\n",
      "  dj_left3 += dj_left0\n"
     ]
    },
    {
     "data": {
      "image/png": "[encoded data removed]",
      "text/plain": [
       "<Figure size 387.452x204.68 with 1 Axes>"
      ]
     },
     "execution_count": 33,
     "metadata": {},
     "output_type": "execute_result"
    }
   ],
   "source": [
    "dj_left3.x(0)\n",
    "dj_left3.x(1)\n",
    "dj_left3 += dj_left0\n",
    "dj_left3.draw()"
   ]
  },
  {
   "cell_type": "code",
   "execution_count": 34,
   "id": "2a810755-950a-48dc-9738-d89337c8f2ad",
   "metadata": {},
   "outputs": [],
   "source": [
    "meas_calibs = [dj_left0, dj_left1, dj_left2, dj_left3]"
   ]
  },
  {
   "cell_type": "code",
   "execution_count": 35,
   "id": "835a3fa8-ec36-4cb7-8048-21554f81f946",
   "metadata": {},
   "outputs": [
    {
     "name": "stdout",
     "output_type": "stream",
     "text": [
      "Circuit circuit-144\n",
      "     ┌───┐┌───┐┌─┐   \n",
      "q_0: ┤ H ├┤ H ├┤M├───\n",
      "     ├───┤├───┤└╥┘┌─┐\n",
      "q_1: ┤ H ├┤ H ├─╫─┤M├\n",
      "     └───┘└───┘ ║ └╥┘\n",
      "c_0: ═══════════╩══╬═\n",
      "                   ║ \n",
      "c_1: ══════════════╩═\n",
      "                     \n",
      "Circuit circuit-148\n",
      "     ┌───┐┌───┐┌───┐┌─┐\n",
      "q_0: ┤ X ├┤ H ├┤ H ├┤M├\n",
      "     ├───┤├───┤└┬─┬┘└╥┘\n",
      "q_1: ┤ H ├┤ H ├─┤M├──╫─\n",
      "     └───┘└───┘ └╥┘  ║ \n",
      "c_0: ════════════╬═══╩═\n",
      "                 ║     \n",
      "c_1: ════════════╩═════\n",
      "                       \n",
      "Circuit circuit-146\n",
      "     ┌───┐┌───┐     ┌─┐   \n",
      "q_0: ┤ H ├┤ H ├─────┤M├───\n",
      "     ├───┤├───┤┌───┐└╥┘┌─┐\n",
      "q_1: ┤ X ├┤ H ├┤ H ├─╫─┤M├\n",
      "     └───┘└───┘└───┘ ║ └╥┘\n",
      "c_0: ════════════════╩══╬═\n",
      "                        ║ \n",
      "c_1: ═══════════════════╩═\n",
      "                          \n",
      "Circuit circuit-147\n",
      "     ┌───┐┌───┐┌───┐┌─┐   \n",
      "q_0: ┤ X ├┤ H ├┤ H ├┤M├───\n",
      "     ├───┤├───┤├───┤└╥┘┌─┐\n",
      "q_1: ┤ X ├┤ H ├┤ H ├─╫─┤M├\n",
      "     └───┘└───┘└───┘ ║ └╥┘\n",
      "c_0: ════════════════╩══╬═\n",
      "                        ║ \n",
      "c_1: ═══════════════════╩═\n",
      "                          \n"
     ]
    }
   ],
   "source": [
    "for circuit in meas_calibs:\n",
    "    print('Circuit',circuit.name)\n",
    "    print(circuit)\n"
   ]
  },
  {
   "cell_type": "code",
   "execution_count": 37,
   "id": "5f2d8a4c-8cef-4b4a-b325-f951c922184a",
   "metadata": {},
   "outputs": [
    {
     "name": "stdout",
     "output_type": "stream",
     "text": [
      "[{'00': 10000}, {'01': 10000}, {'10': 10000}, {'11': 10000}]\n"
     ]
    }
   ],
   "source": [
    "# aer_sim = Aer.get_backend(\"aer_simulator\")\n",
    "# results = aer_sim.run(meas_calibs, shots=10000).result()\n",
    "# result_counts = results.get_counts()\n",
    "# print(result_counts)"
   ]
  },
  {
   "cell_type": "code",
   "execution_count": 44,
   "id": "fcb4a17e-b678-44de-9578-aaf368aa8f8d",
   "metadata": {},
   "outputs": [
    {
     "name": "stdout",
     "output_type": "stream",
     "text": [
      "[{'00': 10000}, {'01': 10000}, {'10': 10000}, {'11': 10000}]\n"
     ]
    }
   ],
   "source": [
    "aer_sim = Aer.get_backend(\"aer_simulator\")\n",
    "t_qc = transpile(meas_calibs, aer_sim)\n",
    "qobj = assemble(t_qc, shots=10000)\n",
    "results = aer_sim.run(qobj, shots=10000).result()\n",
    "result_counts = results.get_counts()\n",
    "print(result_counts)"
   ]
  },
  {
   "cell_type": "code",
   "execution_count": 39,
   "id": "952a2163-4062-4ca6-868c-de9dd55c1400",
   "metadata": {},
   "outputs": [],
   "source": [
    "\n",
    "# meas_calibs = [dj1f, dj2f, dj3f, dj4f]\n",
    "state_labels = ['00', '01', '10', '11']"
   ]
  },
  {
   "cell_type": "code",
   "execution_count": null,
   "id": "ada48cd2-0008-4370-b3ca-f035d59ec4de",
   "metadata": {},
   "outputs": [],
   "source": []
  },
  {
   "cell_type": "code",
   "execution_count": 40,
   "id": "7051f2df-1189-4f1f-9c62-86d51a6772f7",
   "metadata": {},
   "outputs": [],
   "source": [
    "# approach 2: make from scratch"
   ]
  },
  {
   "cell_type": "code",
   "execution_count": 45,
   "id": "689bc2f3-60ee-432f-ad41-6686b4c52b1c",
   "metadata": {},
   "outputs": [],
   "source": [
    "t_qc = transpile(meas_calibs, real_backend)\n",
    "qobj = assemble(t_qc, shots=10000)\n",
    "real_results = real_backend.run(qobj, shots=10000).result()"
   ]
  },
  {
   "cell_type": "code",
   "execution_count": 46,
   "id": "6f155b14-da85-4244-8fab-20eca180f7ff",
   "metadata": {},
   "outputs": [
    {
     "data": {
      "image/png": "[encoded data removed]",
      "text/plain": [
       "<Figure size 504x360 with 1 Axes>"
      ]
     },
     "execution_count": 46,
     "metadata": {},
     "output_type": "execute_result"
    }
   ],
   "source": [
    "real_counts = real_results.get_counts()\n",
    "plot_histogram(real_counts)"
   ]
  },
  {
   "cell_type": "code",
   "execution_count": 48,
   "id": "d561eed5-49d4-44f7-bb18-7154a99c739d",
   "metadata": {},
   "outputs": [
    {
     "name": "stdout",
     "output_type": "stream",
     "text": [
      "[9.766e-01 1.030e-02 1.290e-02 2.000e-04]\n",
      "[4.570e-02 9.438e-01 9.000e-04 9.600e-03]\n",
      "[0.0471 0.001  0.9388 0.0131]\n",
      "[0.0021 0.0457 0.0445 0.9077]\n",
      "[[9.766e-01 4.570e-02 4.710e-02 2.100e-03]\n",
      " [1.030e-02 9.438e-01 1.000e-03 4.570e-02]\n",
      " [1.290e-02 9.000e-04 9.388e-01 4.450e-02]\n",
      " [2.000e-04 9.600e-03 1.310e-02 9.077e-01]]\n"
     ]
    }
   ],
   "source": [
    "# result_submissions = job.result()\n",
    "# array = np.empty((4,4))\n",
    "# print(array)\n",
    "ls = []\n",
    "# array = np.empty(shape=(4,4))\n",
    "for qc in meas_calibs:\n",
    "     counts = real_results.get_counts(qc)\n",
    "     this_array = np.array([counts.get('00') or 0, counts.get('01') or 0, counts.get('10') or 0, counts.get('11') or 0])\n",
    "     this_array = this_array/10000\n",
    "     ls.append(this_array)\n",
    "     print(this_array)\n",
    "     # np.append(array, this_array, axis=1)\n",
    "array = np.array(ls)\n",
    "# print(array)\n",
    "array_t = np.transpose(array)\n",
    "print(array_t)"
   ]
  },
  {
   "cell_type": "code",
   "execution_count": 49,
   "id": "e8cd553a-03b5-4538-a688-dcee0597cac7",
   "metadata": {},
   "outputs": [
    {
     "data": {
      "text/latex": [
       "$$\n",
       "\n",
       "\\begin{bmatrix}\n",
       "0.9766 & 0.0103 & 0.0129 & 0.0002  \\\\\n",
       " 0.0457 & 0.9438 & 0.0009 & 0.0096  \\\\\n",
       " 0.0471 & 0.001 & 0.9388 & 0.0131  \\\\\n",
       " 0.0021 & 0.0457 & 0.0445 & 0.9077  \\\\\n",
       " \\end{bmatrix}\n",
       "$$"
      ],
      "text/plain": [
       "<IPython.core.display.Latex object>"
      ]
     },
     "execution_count": 49,
     "metadata": {},
     "output_type": "execute_result"
    }
   ],
   "source": [
    "array_to_latex(array)"
   ]
  },
  {
   "cell_type": "code",
   "execution_count": 50,
   "id": "46c85631-2a5f-4ee3-be8c-2c1db64f41a0",
   "metadata": {},
   "outputs": [
    {
     "data": {
      "text/latex": [
       "$$\n",
       "\n",
       "\\begin{bmatrix}\n",
       "1.02516 & -0.04962 & -0.05142 & 0.00265  \\\\\n",
       " -0.01118 & 1.06063 & 0.00018 & -0.05338  \\\\\n",
       " -0.01408 & 0.0002 & 1.06663 & -0.05227  \\\\\n",
       " 0.0001 & -0.01121 & -0.01538 & 1.103  \\\\\n",
       " \\end{bmatrix}\n",
       "$$"
      ],
      "text/plain": [
       "<IPython.core.display.Latex object>"
      ]
     },
     "execution_count": 50,
     "metadata": {},
     "output_type": "execute_result"
    }
   ],
   "source": [
    "import scipy.linalg as la\n",
    "array_inv = la.inv(array_t)\n",
    "array_to_latex(array_inv)"
   ]
  },
  {
   "cell_type": "code",
   "execution_count": 51,
   "id": "81e5dee1-59d0-49fa-aaf6-7c6ec880bd7b",
   "metadata": {},
   "outputs": [],
   "source": [
    "counts = realqc_results.get_counts()"
   ]
  },
  {
   "cell_type": "code",
   "execution_count": 52,
   "id": "185382df-eaa3-43ae-8ac1-fa7d144e3e49",
   "metadata": {},
   "outputs": [],
   "source": [
    "result_array = np.array([counts.get('00') or 0, counts.get('01') or 0, counts.get('10') or 0, counts.get('11') or 0])\n",
    "result_array = result_array/1000"
   ]
  },
  {
   "cell_type": "code",
   "execution_count": 53,
   "id": "23999b2b-4b2e-4268-8b28-03f057627c55",
   "metadata": {},
   "outputs": [
    {
     "data": {
      "text/plain": [
       "array([0.974, 0.009, 0.017, 0.   ])"
      ]
     },
     "execution_count": 53,
     "metadata": {},
     "output_type": "execute_result"
    }
   ],
   "source": [
    "result_array"
   ]
  },
  {
   "cell_type": "code",
   "execution_count": 54,
   "id": "e3bd95e9-3e71-465b-bb48-e641067d0178",
   "metadata": {},
   "outputs": [],
   "source": [
    "mitigated = np.dot(array_inv, result_array)"
   ]
  },
  {
   "cell_type": "code",
   "execution_count": 55,
   "id": "04efc0b7-383a-49d0-9326-08081d14f9e4",
   "metadata": {},
   "outputs": [
    {
     "data": {
      "text/latex": [
       "$$\n",
       "\n",
       "\\begin{bmatrix}\n",
       "0.99719 & -0.00134 & 0.00442 & -0.00027  \\\\\n",
       " \\end{bmatrix}\n",
       "$$"
      ],
      "text/plain": [
       "<IPython.core.display.Latex object>"
      ]
     },
     "execution_count": 55,
     "metadata": {},
     "output_type": "execute_result"
    }
   ],
   "source": [
    "array_to_latex(mitigated)"
   ]
  },
  {
   "cell_type": "code",
   "execution_count": 56,
   "id": "53178220-2b67-4a9d-9b3e-8538125fdc1f",
   "metadata": {},
   "outputs": [],
   "source": [
    "def NormalizeData(data):\n",
    "    return (data - np.min(data)) / (np.max(data) - np.min(data))\n",
    "normal = NormalizeData(mitigated)"
   ]
  },
  {
   "cell_type": "code",
   "execution_count": 57,
   "id": "e77cb12b-86f5-4192-a789-49e23987a815",
   "metadata": {},
   "outputs": [
    {
     "data": {
      "text/plain": [
       "array([1.        , 0.        , 0.00576683, 0.00107059])"
      ]
     },
     "execution_count": 57,
     "metadata": {},
     "output_type": "execute_result"
    }
   ],
   "source": [
    "normal"
   ]
  },
  {
   "cell_type": "code",
   "execution_count": null,
   "id": "316712a5-dd1a-4e28-a89e-81731a386995",
   "metadata": {},
   "outputs": [],
   "source": [
    "#Code below is obsolete"
   ]
  },
  {
   "cell_type": "code",
   "execution_count": 67,
   "id": "bd566274-30f5-4712-895d-904c390f8778",
   "metadata": {},
   "outputs": [
    {
     "data": {
      "text/latex": [
       "$$\n",
       "\n",
       "\\begin{bmatrix}\n",
       "0.9384 & 0.0607 & 0.0623 & 0.0037  \\\\\n",
       " 0.0133 & 0.9069 & 0.0012 & 0.0535  \\\\\n",
       " 0.0478 & 0.002 & 0.9225 & 0.0571  \\\\\n",
       " 0.0005 & 0.0304 & 0.014 & 0.8857  \\\\\n",
       " \\end{bmatrix}\n",
       "$$"
      ],
      "text/plain": [
       "<IPython.core.display.Latex object>"
      ]
     },
     "execution_count": 67,
     "metadata": {},
     "output_type": "execute_result"
    }
   ],
   "source": [
    "# qr = QuantumRegister(n)\n",
    "# meas_calibs, state_labels = complete_meas_cal(qr=qr, circlabel='mcal')\n",
    "# cal_results = real_backend.run(meas_calibs, shots=10000).result()\n",
    "# meas_fitter = CompleteMeasFitter(cal_results, state_labels, circlabel='mcal')\n",
    "# array_to_latex(meas_fitter.cal_matrix)"
   ]
  },
  {
   "cell_type": "code",
   "execution_count": null,
   "id": "f6e4ef6d-2128-4cfa-861f-19346d1aa196",
   "metadata": {},
   "outputs": [],
   "source": []
  },
  {
   "cell_type": "code",
   "execution_count": 68,
   "id": "e4553974-2553-48ea-9cb7-ecafae46445b",
   "metadata": {},
   "outputs": [],
   "source": [
    "# # Get the filter object\n",
    "# meas_filter = meas_fitter.filter\n",
    "\n",
    "# # Results with mitigation\n",
    "# mitigated_results = meas_filter.apply(realqc_results)\n",
    "# mitigated_counts = mitigated_results.get_counts()"
   ]
  },
  {
   "cell_type": "code",
   "execution_count": 69,
   "id": "65932296-6a94-43fc-9674-a0f253bb0523",
   "metadata": {},
   "outputs": [
    {
     "data": {
      "text/plain": [
       "{'00': 17.4858710855432,\n",
       " '01': 101.08848346905096,\n",
       " '10': 20.3748802557301,\n",
       " '11': 861.0507651896758}"
      ]
     },
     "execution_count": 69,
     "metadata": {},
     "output_type": "execute_result"
    }
   ],
   "source": [
    "# mitigated_counts"
   ]
  },
  {
   "cell_type": "code",
   "execution_count": null,
   "id": "fe28d76b-a55d-49d6-9559-ee8b7b176e25",
   "metadata": {},
   "outputs": [],
   "source": [
    "# def NormalizeData(data):\n",
    "#     return (data - np.min(data)) / (np.max(data) - np.min(data))\n",
    "# NormalizeData(mitigated)\n",
    "# # https://www.stackvidhya.com/how-to-normalize-data-between-0-and-1-range/"
   ]
  },
  {
   "cell_type": "code",
   "execution_count": 46,
   "id": "5e6df815-c28f-4435-ab14-09a829e3750c",
   "metadata": {},
   "outputs": [
    {
     "data": {
      "text/latex": [
       "$$\n",
       "\n",
       "\\begin{bmatrix}\n",
       "0 & 0 & 0 & 0  \\\\\n",
       " 0 & 0 & 0 & 0  \\\\\n",
       " 0 & 0 & 0 & 0  \\\\\n",
       " 0 & 0 & 0 & 0  \\\\\n",
       " \\end{bmatrix}\n",
       "$$"
      ],
      "text/plain": [
       "<IPython.core.display.Latex object>"
      ]
     },
     "execution_count": 46,
     "metadata": {},
     "output_type": "execute_result"
    }
   ],
   "source": [
    "# meas_fitter = CompleteMeasFitter(results, state_labels)\n",
    "# # , circlabel='mcal'circlabel='circuit\n",
    "# array_to_latex(meas_fitter.cal_matrix)"
   ]
  },
  {
   "cell_type": "code",
   "execution_count": null,
   "id": "8f5f6356-4981-45ab-80c7-3365329e2ef9",
   "metadata": {},
   "outputs": [],
   "source": []
  },
  {
   "cell_type": "code",
   "execution_count": 47,
   "id": "a985048e-5615-4aff-989c-adbb3b5b53ce",
   "metadata": {},
   "outputs": [],
   "source": [
    "# t_qc = transpile(meas_calibs, real_backend)\n",
    "# qobj = assemble(t_qc, shots=10000)\n",
    "\n"
   ]
  },
  {
   "cell_type": "code",
   "execution_count": 48,
   "id": "7092353f-9fac-46e0-9ed5-4c9d87dc495a",
   "metadata": {},
   "outputs": [
    {
     "name": "stderr",
     "output_type": "stream",
     "text": [
      "/tmp/ipykernel_3595/1044830548.py:1: DeprecationWarning: Passing a Qobj to Backend.run is deprecated and will be removed in a future release. Please pass in circuits or pulse schedules instead.\n",
      "  results = real_backend.run(qobj, shots=10000).result()\n"
     ]
    }
   ],
   "source": [
    "# results = real_backend.run(qobj, shots=10000).result()"
   ]
  },
  {
   "cell_type": "code",
   "execution_count": 49,
   "id": "3ed318d4-dbad-4b1a-b769-1eeb34feb8c8",
   "metadata": {},
   "outputs": [
    {
     "name": "stdout",
     "output_type": "stream",
     "text": [
      "[{'00': 9497, '01': 172, '10': 330, '11': 1}, {'00': 530, '01': 9225, '10': 16, '11': 229}, {'00': 602, '01': 14, '10': 9208, '11': 176}, {'00': 36, '01': 563, '10': 544, '11': 8857}]\n"
     ]
    }
   ],
   "source": [
    "# result_counts = results.get_counts()\n",
    "# print(result_counts)"
   ]
  },
  {
   "cell_type": "code",
   "execution_count": 50,
   "id": "02eda9a1-ace7-4123-870f-b04f3101babe",
   "metadata": {},
   "outputs": [
    {
     "name": "stdout",
     "output_type": "stream",
     "text": [
      "Traceback \u001b[1;36m(most recent call last)\u001b[0m:\n",
      "  Input \u001b[0;32mIn [50]\u001b[0m in \u001b[0;35m<cell line: 1>\u001b[0m\n",
      "    cal_results = real_backend.run(meas_calibs, shots=10000).result()\n",
      "\u001b[1;36m  File \u001b[1;32m/opt/conda/lib/python3.8/site-packages/qiskit/providers/ibmq/job/ibmqjob.py:290\u001b[1;36m in \u001b[1;35mresult\u001b[1;36m\u001b[0m\n",
      "\u001b[1;33m    raise IBMQJobFailureError(\u001b[0m\n",
      "\u001b[1;31mIBMQJobFailureError\u001b[0m\u001b[1;31m:\u001b[0m \"Unable to retrieve result for job 6393d5c5ec40c27207f626ef. Job has failed: The Qobj uses gates (['h']) that are not among the basis gates (['id', 'rz', 'sx', 'x', 'cx', 'reset']). Error code: 1106.\"\n",
      "\n",
      "Use %tb to get the full traceback.\n"
     ]
    },
    {
     "data": {
      "text/html": [
       "\n",
       "<style>\n",
       ".button {\n",
       "  border: none;\n",
       "  color: white;\n",
       "  padding: 4px 8px;\n",
       "  text-align: center;\n",
       "  text-decoration: none;\n",
       "  display: inline-block;\n",
       "  font-size: 12px;\n",
       "  margin: 4px 2px;\n",
       "  transition-duration: 0.2s;\n",
       "  cursor: pointer;\n",
       "}\n",
       ".iqx-button {\n",
       "  background-color: #0f62fe; \n",
       "  color: white; \n",
       "}\n",
       ".iqx-button:hover {\n",
       "  background-color: #0043ce;\n",
       "  color: white;\n",
       "}\n",
       "</style>\n",
       "<a href=\"https://quantum-computing.ibm.com/docs/manage/errors#error1106\" target='_blank'><button class='button iqx-button'>View solution for error #1106</button></a>\n"
      ],
      "text/plain": [
       "<IPython.core.display.HTML object>"
      ]
     },
     "metadata": {},
     "output_type": "display_data"
    }
   ],
   "source": [
    "# cal_results = real_backend.run(meas_calibs, shots=10000).result()"
   ]
  },
  {
   "cell_type": "code",
   "execution_count": 51,
   "id": "0fcdf5aa-51b0-490f-86e5-a9d9913c5f34",
   "metadata": {},
   "outputs": [
    {
     "data": {
      "text/plain": [
       "[{'00': 10000}, {'01': 10000}, {'10': 10000}, {'11': 10000}]"
      ]
     },
     "execution_count": 51,
     "metadata": {},
     "output_type": "execute_result"
    }
   ],
   "source": [
    "# cal_results.get_counts()"
   ]
  },
  {
   "cell_type": "code",
   "execution_count": 52,
   "id": "d702e875-dee5-4e7c-801c-6298473466dc",
   "metadata": {},
   "outputs": [
    {
     "data": {
      "text/latex": [
       "$$\n",
       "\n",
       "\\begin{bmatrix}\n",
       "0 & 0 & 0 & 0  \\\\\n",
       " 0 & 0 & 0 & 0  \\\\\n",
       " 0 & 0 & 0 & 0  \\\\\n",
       " 0 & 0 & 0 & 0  \\\\\n",
       " \\end{bmatrix}\n",
       "$$"
      ],
      "text/plain": [
       "<IPython.core.display.Latex object>"
      ]
     },
     "execution_count": 52,
     "metadata": {},
     "output_type": "execute_result"
    }
   ],
   "source": [
    "# meas_fitter = CompleteMeasFitter(results, state_labels, circlabel='mcal')\n",
    "# array_to_latex(meas_fitter.cal_matrix)"
   ]
  },
  {
   "cell_type": "code",
   "execution_count": 53,
   "id": "ebd15022-63c2-4a89-b95d-e333200d0b0c",
   "metadata": {},
   "outputs": [],
   "source": [
    "# # # Get the filter object\n",
    "# meas_filter = meas_fitter.filter\n",
    "\n",
    "# # # Results with mitigation\n",
    "# # mitigated_results = meas_filter.apply(results)\n",
    "# # mitigated_counts = mitigated_results.get_counts()"
   ]
  },
  {
   "cell_type": "code",
   "execution_count": null,
   "id": "60214fd2-d5d3-40ef-b8b1-5c6e4d1d3b12",
   "metadata": {},
   "outputs": [],
   "source": [
    "#fitter would mitigate all results to 0"
   ]
  },
  {
   "cell_type": "code",
   "execution_count": 36,
   "id": "04928fb7-b7ed-4003-949c-3e68698ee436",
   "metadata": {},
   "outputs": [],
   "source": [
    "# approach 1: reuse qiskit EM \n",
    "# Refer to https://qiskit.org/textbook/ch-quantum-hardware/measurement-error-mitigation.html"
   ]
  },
  {
   "cell_type": "code",
   "execution_count": null,
   "id": "7fbd3ca1-9e1a-4149-843b-bdb64060f2e5",
   "metadata": {},
   "outputs": [],
   "source": [
    "# abandoned approach: create all columns of the calibration matrix from scratch.\n",
    "# Then abandoned and used approach 2 instead."
   ]
  },
  {
   "cell_type": "code",
   "execution_count": null,
   "id": "ab29f98e-95f9-4749-ab9c-5a543926ab33",
   "metadata": {},
   "outputs": [],
   "source": [
    "# job = execute(dj_left0, real_backend, shots=1000)\n",
    "# results = job.result()\n",
    "# counts = results.get_counts()"
   ]
  },
  {
   "cell_type": "code",
   "execution_count": null,
   "id": "a3546013-ac29-4207-906b-1ba9ee048448",
   "metadata": {},
   "outputs": [],
   "source": [
    "# array0 = np.array([counts.get('00') or 0, counts.get('01') or 0, counts.get('10') or 0, counts.get('11') or 0])\n",
    "# array0 = array0/1000\n",
    "# array0"
   ]
  },
  {
   "cell_type": "code",
   "execution_count": null,
   "id": "5c2aeb5d-f01b-4ff6-b540-5a60c7d683a6",
   "metadata": {},
   "outputs": [],
   "source": [
    "# job = execute(dj_left1, real_backend, shots=1000)\n",
    "# results = job.result()\n",
    "# counts = results.get_counts()"
   ]
  },
  {
   "cell_type": "code",
   "execution_count": null,
   "id": "287c6c66-47e4-43cf-a733-112f5692b322",
   "metadata": {},
   "outputs": [],
   "source": [
    "# array1 = np.array([counts.get('00') or 0, counts.get('01') or 0, counts.get('10') or 0, counts.get('11') or 0])\n",
    "# array1 = array1/1000\n",
    "# array1"
   ]
  },
  {
   "cell_type": "code",
   "execution_count": null,
   "id": "e70e3e7f-52d7-4448-9bd6-9fe1f9b2b27a",
   "metadata": {},
   "outputs": [],
   "source": [
    "# job = execute(dj_left2, real_backend, shots=1000)\n",
    "# results = job.result()\n",
    "# counts = results.get_counts()"
   ]
  },
  {
   "cell_type": "code",
   "execution_count": null,
   "id": "48316be8-45a2-4aed-ba33-e681b617e8ef",
   "metadata": {},
   "outputs": [],
   "source": [
    "# array2 = np.array([counts.get('00') or 0, counts.get('01') or 0, counts.get('10') or 0, counts.get('11') or 0])\n",
    "# array2 = array2/1000\n",
    "# array2"
   ]
  },
  {
   "cell_type": "code",
   "execution_count": null,
   "id": "4b0d30d8-630e-4a90-85eb-141944fe098d",
   "metadata": {},
   "outputs": [],
   "source": [
    "# job = execute(dj_left3, real_backend, shots=1000)\n",
    "# results = job.result()\n",
    "# counts = results.get_counts()"
   ]
  },
  {
   "cell_type": "code",
   "execution_count": null,
   "id": "3f27ba4e-bc8a-43ed-82fe-6232c47d3699",
   "metadata": {},
   "outputs": [],
   "source": [
    "# array3 = np.array([counts.get('00') or 0, counts.get('01') or 0, counts.get('10') or 0, counts.get('11') or 0])\n",
    "# array3 = array3/1000\n",
    "# array3"
   ]
  },
  {
   "cell_type": "code",
   "execution_count": null,
   "id": "119dcf4c-7f8e-4771-930a-f4d0e368fa39",
   "metadata": {},
   "outputs": [],
   "source": [
    "# array_left = np.array([array0, array1, array2, array3])"
   ]
  },
  {
   "cell_type": "code",
   "execution_count": null,
   "id": "05afe93c-e432-40ac-8410-9549addbe243",
   "metadata": {},
   "outputs": [],
   "source": [
    "# array_right = array_left"
   ]
  },
  {
   "cell_type": "code",
   "execution_count": null,
   "id": "005233bd-1ca1-4210-b42f-5b2aa15b823d",
   "metadata": {},
   "outputs": [],
   "source": [
    "# calib_mat = (array_left + array_right) / 2"
   ]
  },
  {
   "cell_type": "code",
   "execution_count": null,
   "id": "4d3ad9c7-9baa-487f-9658-f46259b3ae7a",
   "metadata": {},
   "outputs": [],
   "source": [
    "# array_to_latex(calib_mat)"
   ]
  }
 ],
 "metadata": {
  "kernelspec": {
   "display_name": "Python 3 (ipykernel)",
   "language": "python",
   "name": "python3"
  },
  "language_info": {
   "codemirror_mode": {
    "name": "ipython",
    "version": 3
   },
   "file_extension": ".py",
   "mimetype": "text/x-python",
   "name": "python",
   "nbconvert_exporter": "python",
   "pygments_lexer": "ipython3",
   "version": "3.8.13"
  },
  "widgets": {
   "application/vnd.jupyter.widget-state+json": {
    "state": {},
    "version_major": 2,
    "version_minor": 0
   }
  }
 },
 "nbformat": 4,
 "nbformat_minor": 5
}
