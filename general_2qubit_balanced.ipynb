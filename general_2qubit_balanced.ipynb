{
 "cells": [
  {
   "cell_type": "code",
   "execution_count": 24,
   "id": "5519c1a1-c2c2-4990-9aa3-8efc44d8fb5a",
   "metadata": {},
   "outputs": [],
   "source": [
    "import numpy as np\n",
    "\n",
    "# Importing standard Qiskit libraries\n",
    "from qiskit import QuantumCircuit, assemble, transpile, Aer, IBMQ\n",
    "# from qiskit.tools.jupyter import *\n",
    "from qiskit.visualization import *\n",
    "# from ibm_quantum_widgets import *\n",
    "# from qiskit.providers.aer import QasmSimulator\n",
    "from qiskit.providers.ibmq import least_busy\n",
    "from qiskit import execute\n",
    "\n",
    "from qiskit.tools.monitor import job_monitor\n",
    "\n",
    "from qiskit.ignis.mitigation.measurement import complete_meas_cal, CompleteMeasFitter\n",
    "from qiskit import QuantumRegister\n",
    "from qiskit.visualization import array_to_latex\n",
    "\n",
    "# Loading your IBM Quantum account(s)"
   ]
  },
  {
   "cell_type": "code",
   "execution_count": 25,
   "id": "3486471a-1590-41b7-bc03-b0f85159c134",
   "metadata": {},
   "outputs": [
    {
     "name": "stderr",
     "output_type": "stream",
     "text": [
      "ibmqfactory.load_account:WARNING:2022-12-13 14:50:15,703: Credentials are already in use. The existing account in the session will be replaced.\n"
     ]
    },
    {
     "name": "stdout",
     "output_type": "stream",
     "text": [
      "backend used:  ibmq_belem\n"
     ]
    }
   ],
   "source": [
    "# Load our saved IBMQ accounts and get the least busy backend device with greater than or equal to (n+1) qubits\n",
    "IBMQ.load_account()\n",
    "provider = IBMQ.get_provider(hub='ibm-q')\n",
    "# provider = IBMQ.get_provider(hub='ibm')\n",
    "real_backend = least_busy(provider.backends(filters=lambda x: not x.configuration().simulator))\n",
    "# real_backend = provider.get_backend('ibm_lagos')\n",
    "print(\"backend used: \", real_backend)"
   ]
  },
  {
   "cell_type": "code",
   "execution_count": 32,
   "id": "fc5d74c7-e488-49ad-b157-2e21ed3f9621",
   "metadata": {},
   "outputs": [],
   "source": [
    "def dj_oracle(case, n):\n",
    "    # We need to make a QuantumCircuit object to return\n",
    "    # This circuit has n+1 qubits: the size of the input,\n",
    "    # plus one output qubit\n",
    "    oracle_qc = QuantumCircuit(n+1)\n",
    "    \n",
    "    # First, let's deal with the case in which oracle is balanced\n",
    "    if case == \"balanced\":\n",
    "        # First generate a random number that tells us which CNOTs to\n",
    "        # wrap in X-gates:\n",
    "        b = np.random.randint(1,2**n)\n",
    "        # Next, format 'b' as a binary string of length 'n', padded with zeros:\n",
    "        b_str = format(b, '0'+str(n)+'b')\n",
    "        # Next, we place the first X-gates. Each digit in our binary string \n",
    "        # corresponds to a qubit, if the digit is 0, we do nothing, if it's 1\n",
    "        # we apply an X-gate to that qubit:\n",
    "        for qubit in range(len(b_str)):\n",
    "            if b_str[qubit] == '1':\n",
    "                oracle_qc.x(qubit)\n",
    "        # Do the controlled-NOT gates for each qubit, using the output qubit \n",
    "        # as the target:\n",
    "        for qubit in range(n):\n",
    "            oracle_qc.cx(qubit, n)\n",
    "        # Next, place the final X-gates\n",
    "        for qubit in range(len(b_str)):\n",
    "            if b_str[qubit] == '1':\n",
    "                oracle_qc.x(qubit)\n",
    "\n",
    "    # Case in which oracle is constant\n",
    "    if case == \"constant\":\n",
    "        # First decide what the fixed output of the oracle will be\n",
    "        # (either always 0 or always 1)\n",
    "        output = np.random.randint(2)\n",
    "        if output == 1:\n",
    "            oracle_qc.x(n)\n",
    "    oracle_qc.name = \"oracle \" + case\n",
    "    return oracle_qc\n",
    "    # oracle_gate = oracle_qc.to_gate()\n",
    "    # oracle_gate.name = \"Oracle\" # To show when we display the circuit\n",
    "    # return oracle_gate"
   ]
  },
  {
   "cell_type": "code",
   "execution_count": 33,
   "id": "c524e501-27ad-4db2-bfbb-9968e86e48e9",
   "metadata": {},
   "outputs": [],
   "source": [
    "def dj_algorithm(oracle, n):\n",
    "    dj_circuit = QuantumCircuit(n+1, n)\n",
    "    # Set up the output qubit:\n",
    "    dj_circuit.x(n)\n",
    "    dj_circuit.h(n)\n",
    "    # And set up the input register:\n",
    "    for qubit in range(n):\n",
    "        dj_circuit.h(qubit)\n",
    "    # Let's append the oracle gate to our circuit:\n",
    "    # dj_circuit.barrier()\n",
    "    dj_circuit.append(oracle, range(n+1))\n",
    "    # Finally, perform the H-gates again and measure:\n",
    "    # dj_circuit.barrier()\n",
    "    for qubit in range(n):\n",
    "        dj_circuit.h(qubit)\n",
    "    \n",
    "    for i in range(n):\n",
    "        dj_circuit.measure(i, i)\n",
    "    \n",
    "    return dj_circuit"
   ]
  },
  {
   "cell_type": "code",
   "execution_count": 34,
   "id": "a46415f0-7d9b-4c84-b43c-0394e442f0bf",
   "metadata": {},
   "outputs": [],
   "source": [
    "n = 2"
   ]
  },
  {
   "cell_type": "code",
   "execution_count": 35,
   "id": "d83b1245-3c1d-4bfa-aa3e-c55477623c23",
   "metadata": {},
   "outputs": [
    {
     "data": {
      "image/png": "[encoded data removed]",
      "text/plain": [
       "<Figure size 327.397x204.68 with 1 Axes>"
      ]
     },
     "execution_count": 35,
     "metadata": {},
     "output_type": "execute_result"
    }
   ],
   "source": [
    "oracle_qc = dj_oracle('balanced', n)\n",
    "oracle_qc.draw()"
   ]
  },
  {
   "cell_type": "code",
   "execution_count": 36,
   "id": "3af5a7e1-932f-4c04-be87-68d6de0f0268",
   "metadata": {},
   "outputs": [
    {
     "data": {
      "image/png": "[encoded data removed]",
      "text/plain": [
       "<Figure size 568.197x264.88 with 1 Axes>"
      ]
     },
     "execution_count": 36,
     "metadata": {},
     "output_type": "execute_result"
    }
   ],
   "source": [
    "dj_circuit = dj_algorithm(oracle_qc, n)\n",
    "dj_circuit.draw()"
   ]
  },
  {
   "cell_type": "code",
   "execution_count": 37,
   "id": "5804b33f-9fc3-4de4-b9f2-f1c3584c138c",
   "metadata": {},
   "outputs": [
    {
     "data": {
      "image/png": "[encoded data removed]",
      "text/plain": [
       "<Figure size 568.197x264.88 with 1 Axes>"
      ]
     },
     "execution_count": 37,
     "metadata": {},
     "output_type": "execute_result"
    }
   ],
   "source": [
    "new_dj = dj_circuit.decompose('oracle balanced')\n",
    "\n",
    "new_dj.draw()"
   ]
  },
  {
   "cell_type": "code",
   "execution_count": 38,
   "id": "9b6161d0-9199-4f92-8bc4-0619f8067766",
   "metadata": {},
   "outputs": [
    {
     "data": {
      "image/png": "[encoded data removed]",
      "text/plain": [
       "<Figure size 504x360 with 1 Axes>"
      ]
     },
     "execution_count": 38,
     "metadata": {},
     "output_type": "execute_result"
    }
   ],
   "source": [
    "aer_backend = Aer.get_backend('aer_simulator')\n",
    "job = execute(dj_circuit, aer_backend, shots=1000)\n",
    "results = job.result()\n",
    "counts = results.get_counts()\n",
    "plot_histogram(counts)"
   ]
  },
  {
   "cell_type": "code",
   "execution_count": 39,
   "id": "219f1f7c-1487-49e8-94a6-dc4b50654fc7",
   "metadata": {},
   "outputs": [],
   "source": [
    "job = execute(dj_circuit, real_backend, shots=1000)\n",
    "realqc_results = job.result()"
   ]
  },
  {
   "cell_type": "code",
   "execution_count": 40,
   "id": "b0ff19bd-eb00-4c87-a4cd-959983c30f4d",
   "metadata": {},
   "outputs": [
    {
     "data": {
      "image/png": "[encoded data removed]",
      "text/plain": [
       "<Figure size 504x360 with 1 Axes>"
      ]
     },
     "execution_count": 40,
     "metadata": {},
     "output_type": "execute_result"
    }
   ],
   "source": [
    "counts = realqc_results.get_counts()\n",
    "plot_histogram(counts)"
   ]
  },
  {
   "cell_type": "code",
   "execution_count": 93,
   "id": "ba89f641-fbf4-4b21-bad5-f28d1d6de5bb",
   "metadata": {},
   "outputs": [],
   "source": [
    "qr = QuantumRegister(n)\n",
    "qem_meas_calibs, state_labels = complete_meas_cal(qr=qr, circlabel='mcal')\n",
    "qem_cal_results = real_backend.run(qem_meas_calibs, shots=10000).result()"
   ]
  },
  {
   "cell_type": "code",
   "execution_count": 94,
   "id": "e3ad93f8-98d2-455c-9b46-f3b68b99383e",
   "metadata": {},
   "outputs": [
    {
     "data": {
      "text/latex": [
       "$$\n",
       "\n",
       "\\begin{bmatrix}\n",
       "0.9788 & 0.0291 & 0.0465 & 0.0029  \\\\\n",
       " 0.0122 & 0.9649 & 0.0012 & 0.0484  \\\\\n",
       " 0.0087 & 0.0002 & 0.9404 & 0.0276  \\\\\n",
       " 0.0003 & 0.0058 & 0.0119 & 0.9211  \\\\\n",
       " \\end{bmatrix}\n",
       "$$"
      ],
      "text/plain": [
       "<IPython.core.display.Latex object>"
      ]
     },
     "execution_count": 94,
     "metadata": {},
     "output_type": "execute_result"
    }
   ],
   "source": [
    "meas_fitter = CompleteMeasFitter(qem_cal_results, state_labels, circlabel='mcal')\n",
    "array_to_latex(meas_fitter.cal_matrix)"
   ]
  },
  {
   "cell_type": "code",
   "execution_count": 95,
   "id": "c7dd56a1-b5c8-47dc-82cd-4379f6d58b5a",
   "metadata": {},
   "outputs": [],
   "source": [
    "# Get the filter object\n",
    "meas_filter = meas_fitter.filter\n",
    "\n",
    "# Results with mitigation\n",
    "mitigated_results = meas_filter.apply(results)\n",
    "mitigated_counts = mitigated_results.get_counts()"
   ]
  },
  {
   "cell_type": "code",
   "execution_count": 96,
   "id": "5149a5e3-9280-4395-a433-58daa3480d05",
   "metadata": {},
   "outputs": [
    {
     "data": {
      "image/png": "[encoded data removed]",
      "text/plain": [
       "<Figure size 504x360 with 1 Axes>"
      ]
     },
     "execution_count": 96,
     "metadata": {},
     "output_type": "execute_result"
    }
   ],
   "source": [
    "noisy_counts = realqc_results.get_counts()\n",
    "plot_histogram([noisy_counts, mitigated_counts], legend=['noisy', 'mitigated'])"
   ]
  },
  {
   "cell_type": "code",
   "execution_count": 47,
   "id": "9d8c2c73-50ef-4d17-b05c-b483d526ebaa",
   "metadata": {},
   "outputs": [
    {
     "data": {
      "image/png": "[encoded data removed]",
      "text/plain": [
       "<Figure size 447.652x204.68 with 1 Axes>"
      ]
     },
     "execution_count": 47,
     "metadata": {},
     "output_type": "execute_result"
    }
   ],
   "source": [
    "# not calibrating ancilla\n",
    "dj_left0 = QuantumCircuit(n,n)\n",
    "dj_left1 = QuantumCircuit(n) \n",
    "dj_left2 = QuantumCircuit(n)\n",
    "dj_left3 = QuantumCircuit(n)\n",
    "\n",
    "dj_left0.h(0)\n",
    "\n",
    "dj_left0.h(1)\n",
    "dj_left0.x(0)\n",
    "dj_left0.x(1)\n",
    "dj_left0.x(0)\n",
    "dj_left0.x(1)\n",
    "\n",
    "\n",
    "dj_left0.h(0)\n",
    "dj_left0.h(1)\n",
    "dj_left0.measure([0,1], [0,1])\n",
    "dj_left0.draw()"
   ]
  },
  {
   "cell_type": "code",
   "execution_count": 36,
   "id": "04928fb7-b7ed-4003-949c-3e68698ee436",
   "metadata": {},
   "outputs": [],
   "source": [
    "# approach 1: reuse qiskit EM \n",
    "# Refer to https://qiskit.org/textbook/ch-quantum-hardware/measurement-error-mitigation.html"
   ]
  },
  {
   "cell_type": "code",
   "execution_count": 48,
   "id": "1238b23c-f19c-4cdc-99a7-4d0bda1662f8",
   "metadata": {},
   "outputs": [
    {
     "name": "stderr",
     "output_type": "stream",
     "text": [
      "/tmp/ipykernel_77/4132221646.py:3: DeprecationWarning: The QuantumCircuit.__iadd__() method is being deprecated. Use the compose() (potentially with the inplace=True argument) and tensor() methods which are more flexible w.r.t circuit register compatibility.\n",
      "  dj_left1 += dj_left0\n"
     ]
    },
    {
     "data": {
      "image/png": "[encoded data removed]",
      "text/plain": [
       "<Figure size 447.652x204.68 with 1 Axes>"
      ]
     },
     "execution_count": 48,
     "metadata": {},
     "output_type": "execute_result"
    }
   ],
   "source": [
    "dj_left1 = QuantumCircuit(n, n)\n",
    "dj_left1.x(0)\n",
    "dj_left1 += dj_left0\n",
    "\n",
    "dj_left1.draw()"
   ]
  },
  {
   "cell_type": "code",
   "execution_count": 49,
   "id": "0715e227-1285-49c3-8b68-ac2e74f420a0",
   "metadata": {},
   "outputs": [
    {
     "name": "stderr",
     "output_type": "stream",
     "text": [
      "/tmp/ipykernel_77/2252380090.py:2: DeprecationWarning: The QuantumCircuit.__iadd__() method is being deprecated. Use the compose() (potentially with the inplace=True argument) and tensor() methods which are more flexible w.r.t circuit register compatibility.\n",
      "  dj_left2 += dj_left0\n"
     ]
    },
    {
     "data": {
      "image/png": "[encoded data removed]",
      "text/plain": [
       "<Figure size 507.852x204.68 with 1 Axes>"
      ]
     },
     "execution_count": 49,
     "metadata": {},
     "output_type": "execute_result"
    }
   ],
   "source": [
    "dj_left2.x(1)\n",
    "dj_left2 += dj_left0\n",
    "dj_left2.draw()"
   ]
  },
  {
   "cell_type": "code",
   "execution_count": 50,
   "id": "2df5d154-6a85-43c5-85fd-85acfe12c815",
   "metadata": {},
   "outputs": [
    {
     "name": "stderr",
     "output_type": "stream",
     "text": [
      "/tmp/ipykernel_77/810308772.py:3: DeprecationWarning: The QuantumCircuit.__iadd__() method is being deprecated. Use the compose() (potentially with the inplace=True argument) and tensor() methods which are more flexible w.r.t circuit register compatibility.\n",
      "  dj_left3 += dj_left0\n"
     ]
    },
    {
     "data": {
      "image/png": "[encoded data removed]",
      "text/plain": [
       "<Figure size 507.852x204.68 with 1 Axes>"
      ]
     },
     "execution_count": 50,
     "metadata": {},
     "output_type": "execute_result"
    }
   ],
   "source": [
    "dj_left3.x(0)\n",
    "dj_left3.x(1)\n",
    "dj_left3 += dj_left0\n",
    "dj_left3.draw()"
   ]
  },
  {
   "cell_type": "code",
   "execution_count": 53,
   "id": "2a810755-950a-48dc-9738-d89337c8f2ad",
   "metadata": {},
   "outputs": [],
   "source": [
    "meas_calibs1 = [dj_left0, dj_left1, dj_left2, dj_left3]"
   ]
  },
  {
   "cell_type": "code",
   "execution_count": 55,
   "id": "2e8ca807-ea06-466b-bd55-e1b3cf5adb46",
   "metadata": {},
   "outputs": [
    {
     "name": "stdout",
     "output_type": "stream",
     "text": [
      "Circuit circuit-322\n",
      "     ┌───┐┌───┐┌───┐┌───┐┌─┐   \n",
      "q_0: ┤ H ├┤ X ├┤ X ├┤ H ├┤M├───\n",
      "     ├───┤├───┤├───┤├───┤└╥┘┌─┐\n",
      "q_1: ┤ H ├┤ X ├┤ X ├┤ H ├─╫─┤M├\n",
      "     └───┘└───┘└───┘└───┘ ║ └╥┘\n",
      "c_0: ═════════════════════╩══╬═\n",
      "                             ║ \n",
      "c_1: ════════════════════════╩═\n",
      "                               \n",
      "Circuit circuit-326\n",
      "     ┌───┐┌───┐┌───┐┌───┐┌───┐┌─┐\n",
      "q_0: ┤ X ├┤ H ├┤ X ├┤ X ├┤ H ├┤M├\n",
      "     ├───┤├───┤├───┤├───┤└┬─┬┘└╥┘\n",
      "q_1: ┤ H ├┤ X ├┤ X ├┤ H ├─┤M├──╫─\n",
      "     └───┘└───┘└───┘└───┘ └╥┘  ║ \n",
      "c_0: ══════════════════════╬═══╩═\n",
      "                           ║     \n",
      "c_1: ══════════════════════╩═════\n",
      "                                 \n",
      "Circuit circuit-324\n",
      "     ┌───┐┌───┐┌───┐┌───┐     ┌─┐   \n",
      "q_0: ┤ H ├┤ X ├┤ X ├┤ H ├─────┤M├───\n",
      "     ├───┤├───┤├───┤├───┤┌───┐└╥┘┌─┐\n",
      "q_1: ┤ X ├┤ H ├┤ X ├┤ X ├┤ H ├─╫─┤M├\n",
      "     └───┘└───┘└───┘└───┘└───┘ ║ └╥┘\n",
      "c_0: ══════════════════════════╩══╬═\n",
      "                                  ║ \n",
      "c_1: ═════════════════════════════╩═\n",
      "                                    \n",
      "Circuit circuit-325\n",
      "     ┌───┐┌───┐┌───┐┌───┐┌───┐┌─┐   \n",
      "q_0: ┤ X ├┤ H ├┤ X ├┤ X ├┤ H ├┤M├───\n",
      "     ├───┤├───┤├───┤├───┤├───┤└╥┘┌─┐\n",
      "q_1: ┤ X ├┤ H ├┤ X ├┤ X ├┤ H ├─╫─┤M├\n",
      "     └───┘└───┘└───┘└───┘└───┘ ║ └╥┘\n",
      "c_0: ══════════════════════════╩══╬═\n",
      "                                  ║ \n",
      "c_1: ═════════════════════════════╩═\n",
      "                                    \n"
     ]
    }
   ],
   "source": [
    "for circuit in meas_calibs1:\n",
    "    print('Circuit',circuit.name)\n",
    "    print(circuit)"
   ]
  },
  {
   "cell_type": "code",
   "execution_count": 65,
   "id": "c62d3a15-7859-4560-9943-3337fb5f505e",
   "metadata": {},
   "outputs": [
    {
     "data": {
      "image/png": "[encoded data removed]",
      "text/plain": [
       "<Figure size 447.652x204.68 with 1 Axes>"
      ]
     },
     "execution_count": 65,
     "metadata": {},
     "output_type": "execute_result"
    }
   ],
   "source": [
    "# not calibrating ancilla\n",
    "dj_right0 = QuantumCircuit(n,n)\n",
    "dj_right1 = QuantumCircuit(n) \n",
    "dj_right2 = QuantumCircuit(n)\n",
    "dj_right3 = QuantumCircuit(n)\n",
    "\n",
    "dj_right0.x(0)\n",
    "dj_right0.x(1)\n",
    "dj_right0.h(0)\n",
    "dj_right0.h(1)\n",
    "dj_right0.h(0)\n",
    "dj_right0.h(1)\n",
    "dj_right0.x(1)\n",
    "dj_right0.x(0)\n",
    "\n",
    "dj_right0.measure([0,1], [0,1])\n",
    "dj_right0.draw()"
   ]
  },
  {
   "cell_type": "code",
   "execution_count": 66,
   "id": "96e0d315-552c-4e0c-920b-24105bb8fefb",
   "metadata": {},
   "outputs": [
    {
     "name": "stderr",
     "output_type": "stream",
     "text": [
      "/tmp/ipykernel_77/4058473414.py:3: DeprecationWarning: The QuantumCircuit.__iadd__() method is being deprecated. Use the compose() (potentially with the inplace=True argument) and tensor() methods which are more flexible w.r.t circuit register compatibility.\n",
      "  dj_right1 += dj_right0\n"
     ]
    },
    {
     "data": {
      "image/png": "[encoded data removed]",
      "text/plain": [
       "<Figure size 447.652x204.68 with 1 Axes>"
      ]
     },
     "execution_count": 66,
     "metadata": {},
     "output_type": "execute_result"
    }
   ],
   "source": [
    "dj_right1 = QuantumCircuit(n, n)\n",
    "dj_right1.x(0)\n",
    "dj_right1 += dj_right0\n",
    "\n",
    "dj_right1.draw()"
   ]
  },
  {
   "cell_type": "code",
   "execution_count": 67,
   "id": "2028cb53-df6e-4e98-9bdb-e4d7df726779",
   "metadata": {},
   "outputs": [
    {
     "name": "stderr",
     "output_type": "stream",
     "text": [
      "/tmp/ipykernel_77/1107241932.py:2: DeprecationWarning: The QuantumCircuit.__iadd__() method is being deprecated. Use the compose() (potentially with the inplace=True argument) and tensor() methods which are more flexible w.r.t circuit register compatibility.\n",
      "  dj_right2 += dj_right0\n"
     ]
    },
    {
     "data": {
      "image/png": "[encoded data removed]",
      "text/plain": [
       "<Figure size 507.852x204.68 with 1 Axes>"
      ]
     },
     "execution_count": 67,
     "metadata": {},
     "output_type": "execute_result"
    }
   ],
   "source": [
    "dj_right2.x(1)\n",
    "dj_right2 += dj_right0\n",
    "dj_right2.draw()"
   ]
  },
  {
   "cell_type": "code",
   "execution_count": 68,
   "id": "109e1538-491b-4f96-a5f5-731e2dbe4a2f",
   "metadata": {},
   "outputs": [
    {
     "name": "stderr",
     "output_type": "stream",
     "text": [
      "/tmp/ipykernel_77/2247627861.py:3: DeprecationWarning: The QuantumCircuit.__iadd__() method is being deprecated. Use the compose() (potentially with the inplace=True argument) and tensor() methods which are more flexible w.r.t circuit register compatibility.\n",
      "  dj_right3 += dj_right0\n"
     ]
    },
    {
     "data": {
      "image/png": "[encoded data removed]",
      "text/plain": [
       "<Figure size 507.852x204.68 with 1 Axes>"
      ]
     },
     "execution_count": 68,
     "metadata": {},
     "output_type": "execute_result"
    }
   ],
   "source": [
    "dj_right3.x(0)\n",
    "dj_right3.x(1)\n",
    "dj_right3 += dj_right0\n",
    "dj_right3.draw()"
   ]
  },
  {
   "cell_type": "code",
   "execution_count": 69,
   "id": "6b414280-a7eb-4aa6-83a1-c616cdbb4194",
   "metadata": {},
   "outputs": [],
   "source": [
    "meas_calibs2 = [dj_right0, dj_right1, dj_right2, dj_right3]"
   ]
  },
  {
   "cell_type": "code",
   "execution_count": 70,
   "id": "835a3fa8-ec36-4cb7-8048-21554f81f946",
   "metadata": {},
   "outputs": [
    {
     "name": "stdout",
     "output_type": "stream",
     "text": [
      "Circuit circuit-332\n",
      "     ┌───┐┌───┐┌───┐┌───┐┌─┐   \n",
      "q_0: ┤ X ├┤ H ├┤ H ├┤ X ├┤M├───\n",
      "     ├───┤├───┤├───┤├───┤└╥┘┌─┐\n",
      "q_1: ┤ X ├┤ H ├┤ H ├┤ X ├─╫─┤M├\n",
      "     └───┘└───┘└───┘└───┘ ║ └╥┘\n",
      "c_0: ═════════════════════╩══╬═\n",
      "                             ║ \n",
      "c_1: ════════════════════════╩═\n",
      "                               \n",
      "Circuit circuit-336\n",
      "     ┌───┐┌───┐┌───┐┌───┐┌───┐┌─┐\n",
      "q_0: ┤ X ├┤ X ├┤ H ├┤ H ├┤ X ├┤M├\n",
      "     ├───┤├───┤├───┤├───┤└┬─┬┘└╥┘\n",
      "q_1: ┤ X ├┤ H ├┤ H ├┤ X ├─┤M├──╫─\n",
      "     └───┘└───┘└───┘└───┘ └╥┘  ║ \n",
      "c_0: ══════════════════════╬═══╩═\n",
      "                           ║     \n",
      "c_1: ══════════════════════╩═════\n",
      "                                 \n",
      "Circuit circuit-334\n",
      "     ┌───┐┌───┐┌───┐┌───┐     ┌─┐   \n",
      "q_0: ┤ X ├┤ H ├┤ H ├┤ X ├─────┤M├───\n",
      "     ├───┤├───┤├───┤├───┤┌───┐└╥┘┌─┐\n",
      "q_1: ┤ X ├┤ X ├┤ H ├┤ H ├┤ X ├─╫─┤M├\n",
      "     └───┘└───┘└───┘└───┘└───┘ ║ └╥┘\n",
      "c_0: ══════════════════════════╩══╬═\n",
      "                                  ║ \n",
      "c_1: ═════════════════════════════╩═\n",
      "                                    \n",
      "Circuit circuit-335\n",
      "     ┌───┐┌───┐┌───┐┌───┐┌───┐┌─┐   \n",
      "q_0: ┤ X ├┤ X ├┤ H ├┤ H ├┤ X ├┤M├───\n",
      "     ├───┤├───┤├───┤├───┤├───┤└╥┘┌─┐\n",
      "q_1: ┤ X ├┤ X ├┤ H ├┤ H ├┤ X ├─╫─┤M├\n",
      "     └───┘└───┘└───┘└───┘└───┘ ║ └╥┘\n",
      "c_0: ══════════════════════════╩══╬═\n",
      "                                  ║ \n",
      "c_1: ═════════════════════════════╩═\n",
      "                                    \n"
     ]
    }
   ],
   "source": [
    "for circuit in meas_calibs2:\n",
    "    print('Circuit',circuit.name)\n",
    "    print(circuit)"
   ]
  },
  {
   "cell_type": "code",
   "execution_count": 72,
   "id": "5f2d8a4c-8cef-4b4a-b325-f951c922184a",
   "metadata": {},
   "outputs": [],
   "source": [
    "aer_sim = Aer.get_backend(\"aer_simulator\")\n",
    "cal_results = aer_sim.run(meas_calibs1, shots=10000).result()"
   ]
  },
  {
   "cell_type": "code",
   "execution_count": 73,
   "id": "0ade6759-82e9-428d-ae3a-49a56e623b5c",
   "metadata": {},
   "outputs": [
    {
     "data": {
      "image/png": "[encoded data removed]",
      "text/plain": [
       "<Figure size 504x360 with 1 Axes>"
      ]
     },
     "execution_count": 73,
     "metadata": {},
     "output_type": "execute_result"
    }
   ],
   "source": [
    "plot_histogram(cal_results.get_counts())"
   ]
  },
  {
   "cell_type": "code",
   "execution_count": 74,
   "id": "fcb4a17e-b678-44de-9578-aaf368aa8f8d",
   "metadata": {},
   "outputs": [
    {
     "name": "stderr",
     "output_type": "stream",
     "text": [
      "/tmp/ipykernel_77/1233285617.py:3: DeprecationWarning: Passing a Qobj to Backend.run is deprecated and will be removed in a future release. Please pass in circuits or pulse schedules instead.\n",
      "  results_left = real_backend.run(qobj, shots=10000).result()\n"
     ]
    },
    {
     "name": "stdout",
     "output_type": "stream",
     "text": [
      "{'11': 1000}\n"
     ]
    }
   ],
   "source": [
    "t_qc = transpile(meas_calibs1, real_backend)\n",
    "qobj = assemble(t_qc, shots=10000)\n",
    "results_left = real_backend.run(qobj, shots=10000).result()"
   ]
  },
  {
   "cell_type": "code",
   "execution_count": 75,
   "id": "4117ce3f-600b-4579-840c-f258e1735fe9",
   "metadata": {},
   "outputs": [
    {
     "name": "stdout",
     "output_type": "stream",
     "text": [
      "[{'00': 9738, '01': 130, '10': 130, '11': 2}, {'00': 332, '01': 9562, '10': 2, '11': 104}, {'00': 515, '01': 8, '10': 9338, '11': 139}, {'00': 17, '01': 563, '10': 298, '11': 9122}]\n"
     ]
    }
   ],
   "source": [
    "result_counts_left = results_left.get_counts()\n",
    "print(result_counts_left)"
   ]
  },
  {
   "cell_type": "code",
   "execution_count": 79,
   "id": "874d7cbf-3195-4d87-9616-da6e26114921",
   "metadata": {},
   "outputs": [
    {
     "name": "stdout",
     "output_type": "stream",
     "text": [
      "[9.738e-01 1.300e-02 1.300e-02 2.000e-04]\n",
      "[3.320e-02 9.562e-01 2.000e-04 1.040e-02]\n",
      "[5.150e-02 8.000e-04 9.338e-01 1.390e-02]\n",
      "[0.0017 0.0563 0.0298 0.9122]\n",
      "[[9.738e-01 3.320e-02 5.150e-02 1.700e-03]\n",
      " [1.300e-02 9.562e-01 8.000e-04 5.630e-02]\n",
      " [1.300e-02 2.000e-04 9.338e-01 2.980e-02]\n",
      " [2.000e-04 1.040e-02 1.390e-02 9.122e-01]]\n"
     ]
    }
   ],
   "source": [
    "ls = []\n",
    "for qc in meas_calibs1:\n",
    "     counts = results_left.get_counts(qc)\n",
    "     this_array = np.array([counts.get('00') or 0, counts.get('01') or 0, counts.get('10') or 0, counts.get('11') or 0])\n",
    "     this_array = this_array/10000\n",
    "     ls.append(this_array)\n",
    "     print(this_array)\n",
    "array = np.array(ls)\n",
    "\n",
    "array_t_left = np.transpose(array)\n",
    "print(array_t_left)"
   ]
  },
  {
   "cell_type": "code",
   "execution_count": 80,
   "id": "7f7dd4ad-56f2-4abc-afaf-35baa21a283c",
   "metadata": {},
   "outputs": [
    {
     "data": {
      "text/latex": [
       "$$\n",
       "\n",
       "\\begin{bmatrix}\n",
       "0.9738 & 0.0332 & 0.0515 & 0.0017  \\\\\n",
       " 0.013 & 0.9562 & 0.0008 & 0.0563  \\\\\n",
       " 0.013 & 0.0002 & 0.9338 & 0.0298  \\\\\n",
       " 0.0002 & 0.0104 & 0.0139 & 0.9122  \\\\\n",
       " \\end{bmatrix}\n",
       "$$"
      ],
      "text/plain": [
       "<IPython.core.display.Latex object>"
      ]
     },
     "execution_count": 80,
     "metadata": {},
     "output_type": "execute_result"
    }
   ],
   "source": [
    "array_to_latex(array_t_left)"
   ]
  },
  {
   "cell_type": "code",
   "execution_count": 76,
   "id": "b2a58f85-b4a6-405c-aeda-cddfe5ba7b60",
   "metadata": {},
   "outputs": [],
   "source": [
    "t_qc = transpile(meas_calibs2, real_backend)\n",
    "qobj = assemble(t_qc, shots=10000)\n",
    "results_right = real_backend.run(qobj, shots=10000).result()"
   ]
  },
  {
   "cell_type": "code",
   "execution_count": 77,
   "id": "239db5d9-ba2c-42cd-a6a0-765e5d4fcff1",
   "metadata": {},
   "outputs": [
    {
     "name": "stdout",
     "output_type": "stream",
     "text": [
      "[{'00': 9785, '01': 130, '10': 83, '11': 2}, {'00': 308, '01': 9638, '10': 3, '11': 51}, {'00': 496, '01': 9, '10': 9365, '11': 130}, {'00': 21, '01': 513, '10': 296, '11': 9170}]\n"
     ]
    }
   ],
   "source": [
    "result_counts_right = results_right.get_counts()\n",
    "print(result_counts_right)"
   ]
  },
  {
   "cell_type": "code",
   "execution_count": 81,
   "id": "f85b1e6a-6f91-427d-93fa-cec41cd65200",
   "metadata": {},
   "outputs": [
    {
     "name": "stdout",
     "output_type": "stream",
     "text": [
      "[9.785e-01 1.300e-02 8.300e-03 2.000e-04]\n",
      "[3.080e-02 9.638e-01 3.000e-04 5.100e-03]\n",
      "[4.960e-02 9.000e-04 9.365e-01 1.300e-02]\n",
      "[0.0021 0.0513 0.0296 0.917 ]\n",
      "[[9.785e-01 3.080e-02 4.960e-02 2.100e-03]\n",
      " [1.300e-02 9.638e-01 9.000e-04 5.130e-02]\n",
      " [8.300e-03 3.000e-04 9.365e-01 2.960e-02]\n",
      " [2.000e-04 5.100e-03 1.300e-02 9.170e-01]]\n"
     ]
    }
   ],
   "source": [
    "ls = []\n",
    "for qc in meas_calibs2:\n",
    "     counts = results_right.get_counts(qc)\n",
    "     this_array = np.array([counts.get('00') or 0, counts.get('01') or 0, counts.get('10') or 0, counts.get('11') or 0])\n",
    "     this_array = this_array/10000\n",
    "     ls.append(this_array)\n",
    "     print(this_array)\n",
    "array = np.array(ls)\n",
    "\n",
    "array_t_right = np.transpose(array)\n",
    "print(array_t_right)"
   ]
  },
  {
   "cell_type": "code",
   "execution_count": 83,
   "id": "42ba3a02-4ceb-4b0b-bf46-7b50ab52862f",
   "metadata": {},
   "outputs": [
    {
     "data": {
      "text/latex": [
       "$$\n",
       "\n",
       "\\begin{bmatrix}\n",
       "0.9785 & 0.0308 & 0.0496 & 0.0021  \\\\\n",
       " 0.013 & 0.9638 & 0.0009 & 0.0513  \\\\\n",
       " 0.0083 & 0.0003 & 0.9365 & 0.0296  \\\\\n",
       " 0.0002 & 0.0051 & 0.013 & 0.917  \\\\\n",
       " \\end{bmatrix}\n",
       "$$"
      ],
      "text/plain": [
       "<IPython.core.display.Latex object>"
      ]
     },
     "execution_count": 83,
     "metadata": {},
     "output_type": "execute_result"
    }
   ],
   "source": [
    "array_to_latex(array_t_right)"
   ]
  },
  {
   "cell_type": "code",
   "execution_count": 84,
   "id": "ebabfb5d-e4d7-4d10-b5aa-74f791e2f70b",
   "metadata": {},
   "outputs": [
    {
     "data": {
      "text/latex": [
       "$$\n",
       "\n",
       "\\begin{bmatrix}\n",
       "0.97615 & 0.032 & 0.05055 & 0.0019  \\\\\n",
       " 0.013 & 0.96 & 0.00085 & 0.0538  \\\\\n",
       " 0.01065 & 0.00025 & 0.93515 & 0.0297  \\\\\n",
       " 0.0002 & 0.00775 & 0.01345 & 0.9146  \\\\\n",
       " \\end{bmatrix}\n",
       "$$"
      ],
      "text/plain": [
       "<IPython.core.display.Latex object>"
      ]
     },
     "execution_count": 84,
     "metadata": {},
     "output_type": "execute_result"
    }
   ],
   "source": [
    "array_sum = (array_t_left + array_t_right) / 2\n",
    "array_to_latex(array_sum)"
   ]
  },
  {
   "cell_type": "code",
   "execution_count": 85,
   "id": "94cff422-48c3-4507-9264-8200c4cf6996",
   "metadata": {},
   "outputs": [
    {
     "data": {
      "text/latex": [
       "$$\n",
       "\n",
       "\\begin{bmatrix}\n",
       "1.02549 & -0.03418 & -0.05543 & 0.00168  \\\\\n",
       " -0.01388 & 1.04262 & 0.00068 & -0.06132  \\\\\n",
       " -0.01168 & 0.00039 & 1.07048 & -0.03476  \\\\\n",
       " 0.00007 & -0.00883 & -0.01574 & 1.0944  \\\\\n",
       " \\end{bmatrix}\n",
       "$$"
      ],
      "text/plain": [
       "<IPython.core.display.Latex object>"
      ]
     },
     "execution_count": 85,
     "metadata": {},
     "output_type": "execute_result"
    }
   ],
   "source": [
    "import scipy.linalg as la\n",
    "array_inv = la.inv(array_sum)\n",
    "array_to_latex(array_inv)"
   ]
  },
  {
   "cell_type": "code",
   "execution_count": 86,
   "id": "8e73c15a-e139-4cd5-9d2e-919c8ad9bb59",
   "metadata": {},
   "outputs": [],
   "source": [
    "counts = realqc_results.get_counts()"
   ]
  },
  {
   "cell_type": "code",
   "execution_count": 87,
   "id": "0b31c25a-4621-439e-9a8c-0a0b5c2490ca",
   "metadata": {},
   "outputs": [],
   "source": [
    "result_array = np.array([counts.get('00') or 0, counts.get('01') or 0, counts.get('10') or 0, counts.get('11') or 0])\n",
    "result_array = result_array/1000"
   ]
  },
  {
   "cell_type": "code",
   "execution_count": 88,
   "id": "53468953-918d-40d8-9845-cba1a25b335f",
   "metadata": {},
   "outputs": [
    {
     "data": {
      "text/plain": [
       "array([0.02 , 0.047, 0.04 , 0.893])"
      ]
     },
     "execution_count": 88,
     "metadata": {},
     "output_type": "execute_result"
    }
   ],
   "source": [
    "result_array"
   ]
  },
  {
   "cell_type": "code",
   "execution_count": 89,
   "id": "2c0d8d33-34fd-4597-b998-9b2274343782",
   "metadata": {},
   "outputs": [],
   "source": [
    "mitigated = np.dot(array_inv, result_array)"
   ]
  },
  {
   "cell_type": "code",
   "execution_count": 90,
   "id": "0cf510c1-846c-4c1a-a245-bde6194a9a4e",
   "metadata": {},
   "outputs": [
    {
     "data": {
      "text/latex": [
       "$$\n",
       "\n",
       "\\begin{bmatrix}\n",
       "0.01819 & -0.00601 & 0.01156 & 0.97626  \\\\\n",
       " \\end{bmatrix}\n",
       "$$"
      ],
      "text/plain": [
       "<IPython.core.display.Latex object>"
      ]
     },
     "execution_count": 90,
     "metadata": {},
     "output_type": "execute_result"
    }
   ],
   "source": [
    "array_to_latex(mitigated)"
   ]
  },
  {
   "cell_type": "code",
   "execution_count": 91,
   "id": "e1ab5df7-b59b-4e4f-a7bf-6d45a2274409",
   "metadata": {},
   "outputs": [],
   "source": [
    "def NormalizeData(data):\n",
    "    return (data - np.min(data)) / (np.max(data) - np.min(data))\n",
    "normal = NormalizeData(mitigated)"
   ]
  },
  {
   "cell_type": "code",
   "execution_count": 92,
   "id": "686352a5-a735-4c3b-bb08-8ad1f2369acb",
   "metadata": {},
   "outputs": [
    {
     "data": {
      "text/plain": [
       "array([0.02463284, 0.        , 0.01788934, 1.        ])"
      ]
     },
     "execution_count": 92,
     "metadata": {},
     "output_type": "execute_result"
    }
   ],
   "source": [
    "normal"
   ]
  }
 ],
 "metadata": {
  "kernelspec": {
   "display_name": "Python 3 (ipykernel)",
   "language": "python",
   "name": "python3"
  },
  "language_info": {
   "codemirror_mode": {
    "name": "ipython",
    "version": 3
   },
   "file_extension": ".py",
   "mimetype": "text/x-python",
   "name": "python",
   "nbconvert_exporter": "python",
   "pygments_lexer": "ipython3",
   "version": "3.8.13"
  },
  "widgets": {
   "application/vnd.jupyter.widget-state+json": {
    "state": {},
    "version_major": 2,
    "version_minor": 0
   }
  }
 },
 "nbformat": 4,
 "nbformat_minor": 5
}
