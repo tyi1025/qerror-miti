{
 "cells": [
  {
   "cell_type": "code",
   "execution_count": 1,
   "id": "1797c59f-66df-4b8f-a25e-bb3fe3416822",
   "metadata": {},
   "outputs": [
    {
     "name": "stdout",
     "output_type": "stream",
     "text": [
      "^C\n",
      "Traceback (most recent call last):\n",
      "  File \"/opt/conda/lib/python3.8/runpy.py\", line 194, in _run_module_as_main\n",
      "    return _run_code(code, main_globals, None,\n",
      "  File \"/opt/conda/lib/python3.8/runpy.py\", line 87, in _run_code\n",
      "    exec(code, run_globals)\n",
      "  File \"/opt/conda/lib/python3.8/site-packages/pip/__main__.py\", line 21, in <module>\n",
      "    from pip._internal.cli.main import main as _main\n",
      "  File \"/opt/conda/lib/python3.8/site-packages/pip/_internal/cli/main.py\", line 8, in <module>\n",
      "    from pip._internal.cli.autocompletion import autocomplete\n",
      "  File \"/opt/conda/lib/python3.8/site-packages/pip/_internal/cli/autocompletion.py\", line 9, in <module>\n",
      "    from pip._internal.cli.main_parser import create_main_parser\n",
      "  File \"/opt/conda/lib/python3.8/site-packages/pip/_internal/cli/main_parser.py\", line 7, in <module>\n",
      "    from pip._internal.cli import cmdoptions\n",
      "  File \"/opt/conda/lib/python3.8/site-packages/pip/_internal/cli/cmdoptions.py\", line 22, in <module>\n",
      "    from pip._internal.cli.progress_bars import BAR_TYPES\n",
      "  File \"/opt/conda/lib/python3.8/site-packages/pip/_internal/cli/progress_bars.py\", line 9, in <module>\n",
      "    from pip._internal.utils.logging import get_indentation\n",
      "  File \"/opt/conda/lib/python3.8/site-packages/pip/_internal/utils/logging.py\", line 14, in <module>\n",
      "    from pip._internal.utils.misc import ensure_dir\n",
      "  File \"/opt/conda/lib/python3.8/site-packages/pip/_internal/utils/misc.py\", line 20, in <module>\n",
      "    from pip._vendor import pkg_resources\n",
      "  File \"/opt/conda/lib/python3.8/site-packages/pip/_vendor/pkg_resources/__init__.py\", line 36, in <module>\n",
      "    import email.parser\n",
      "  File \"/opt/conda/lib/python3.8/email/parser.py\", line 12, in <module>\n",
      "    from email.feedparser import FeedParser, BytesFeedParser\n",
      "  File \"/opt/conda/lib/python3.8/email/feedparser.py\", line 27, in <module>\n",
      "    from email._policybase import compat32\n",
      "  File \"/opt/conda/lib/python3.8/email/_policybase.py\", line 9, in <module>\n",
      "    from email.utils import _has_surrogates\n",
      "  File \"/opt/conda/lib/python3.8/email/utils.py\", line 33, in <module>\n",
      "    from email._parseaddr import quote\n",
      "  File \"/opt/conda/lib/python3.8/email/_parseaddr.py\", line 16, in <module>\n",
      "    import time, calendar\n",
      "  File \"/opt/conda/lib/python3.8/calendar.py\", line 148, in <module>\n",
      "    class Calendar(object):\n",
      "KeyboardInterrupt\n",
      "Note: you may need to restart the kernel to use updated packages.\n"
     ]
    }
   ],
   "source": [
    "pip install qiskit.ignis"
   ]
  },
  {
   "cell_type": "code",
   "execution_count": 1,
   "id": "b40e1bb0-b9a3-44ef-aa01-b5eef4a36ceb",
   "metadata": {},
   "outputs": [
    {
     "name": "stderr",
     "output_type": "stream",
     "text": [
      "/tmp/ipykernel_1496/83197244.py:14: DeprecationWarning: The qiskit.ignis package is deprecated and has been supersceded by the qiskit-experiments project. Refer to the migration guide: https://github.com/Qiskit/qiskit-ignis#migration-guide on how to migrate to the new project.\n",
      "  from qiskit.ignis.mitigation.measurement import complete_meas_cal, CompleteMeasFitter\n",
      "<frozen importlib._bootstrap>:219: RuntimeWarning: scipy._lib.messagestream.MessageStream size changed, may indicate binary incompatibility. Expected 56 from C header, got 64 from PyObject\n"
     ]
    }
   ],
   "source": [
    "import numpy as np\n",
    "\n",
    "# Importing standard Qiskit libraries\n",
    "from qiskit import QuantumCircuit, assemble, transpile, Aer, IBMQ\n",
    "# from qiskit.tools.jupyter import *\n",
    "from qiskit.visualization import *\n",
    "# from ibm_quantum_widgets import *\n",
    "# from qiskit.providers.aer import QasmSimulator\n",
    "from qiskit.providers.ibmq import least_busy\n",
    "from qiskit import execute\n",
    "\n",
    "from qiskit.tools.monitor import job_monitor\n",
    "\n",
    "from qiskit.ignis.mitigation.measurement import complete_meas_cal, CompleteMeasFitter\n",
    "from qiskit import QuantumRegister\n",
    "from qiskit.visualization import array_to_latex\n",
    "\n",
    "# Loading your IBM Quantum account(s)"
   ]
  },
  {
   "cell_type": "code",
   "execution_count": 2,
   "id": "3f9ef88b-d2d4-4d8e-815e-a86ceefae61e",
   "metadata": {},
   "outputs": [
    {
     "name": "stdout",
     "output_type": "stream",
     "text": [
      "backend used:  ibmq_manila\n"
     ]
    }
   ],
   "source": [
    "IBMQ.load_account()\n",
    "provider = IBMQ.get_provider(hub='ibm-q')\n",
    "# provider = IBMQ.get_provider(hub='ibm')\n",
    "real_backend = least_busy(provider.backends(filters=lambda x: not x.configuration().simulator))\n",
    "# real_backend = provider.get_backend('ibm_lagos')\n",
    "print(\"backend used: \", real_backend)"
   ]
  },
  {
   "cell_type": "code",
   "execution_count": 3,
   "id": "ec094910-62a0-4a10-b34a-10c36522f221",
   "metadata": {},
   "outputs": [],
   "source": [
    "def dj_oracle(case, n):\n",
    "    # We need to make a QuantumCircuit object to return\n",
    "    # This circuit has n+1 qubits: the size of the input,\n",
    "    # plus one output qubit\n",
    "    oracle_qc = QuantumCircuit(n+1)\n",
    "    \n",
    "    # First, let's deal with the case in which oracle is balanced\n",
    "    if case == \"balanced\":\n",
    "        # First generate a random number that tells us which CNOTs to\n",
    "        # wrap in X-gates:\n",
    "        b = np.random.randint(1,2**n)\n",
    "        # Next, format 'b' as a binary string of length 'n', padded with zeros:\n",
    "        b_str = format(b, '0'+str(n)+'b')\n",
    "        # Next, we place the first X-gates. Each digit in our binary string \n",
    "        # corresponds to a qubit, if the digit is 0, we do nothing, if it's 1\n",
    "        # we apply an X-gate to that qubit:\n",
    "        for qubit in range(len(b_str)):\n",
    "            if b_str[qubit] == '1':\n",
    "                oracle_qc.x(qubit)\n",
    "        # Do the controlled-NOT gates for each qubit, using the output qubit \n",
    "        # as the target:\n",
    "        for qubit in range(n):\n",
    "            oracle_qc.cx(qubit, n)\n",
    "        # Next, place the final X-gates\n",
    "        for qubit in range(len(b_str)):\n",
    "            if b_str[qubit] == '1':\n",
    "                oracle_qc.x(qubit)\n",
    "\n",
    "    # Case in which oracle is constant\n",
    "    if case == \"constant\":\n",
    "        # First decide what the fixed output of the oracle will be\n",
    "        # (either always 0 or always 1)\n",
    "        output = np.random.randint(2)\n",
    "        if output == 1:\n",
    "            oracle_qc.x(n)\n",
    "    oracle_qc.name = \"oracle \" + case\n",
    "    return oracle_qc\n",
    "    # oracle_gate = oracle_qc.to_gate()\n",
    "    # oracle_gate.name = \"Oracle\" # To show when we display the circuit\n",
    "    # return oracle_gate"
   ]
  },
  {
   "cell_type": "code",
   "execution_count": 4,
   "id": "cdd606fd-8e6a-435b-be9a-d99f9dab663f",
   "metadata": {},
   "outputs": [],
   "source": [
    "def dj_algorithm(oracle, n):\n",
    "    dj_circuit = QuantumCircuit(n+1, n)\n",
    "    # Set up the output qubit:\n",
    "    dj_circuit.x(n)\n",
    "    dj_circuit.h(n)\n",
    "    # And set up the input register:\n",
    "    for qubit in range(n):\n",
    "        dj_circuit.h(qubit)\n",
    "    # Let's append the oracle gate to our circuit:\n",
    "    # dj_circuit.barrier()\n",
    "    dj_circuit.append(oracle, range(n+1))\n",
    "    # Finally, perform the H-gates again and measure:\n",
    "    # dj_circuit.barrier()\n",
    "    for qubit in range(n):\n",
    "        dj_circuit.h(qubit)\n",
    "    \n",
    "    for i in range(n):\n",
    "        dj_circuit.measure(i, i)\n",
    "    \n",
    "    return dj_circuit"
   ]
  },
  {
   "cell_type": "code",
   "execution_count": 5,
   "id": "e0f08f85-f54b-409b-88b9-4a49dadc8cc6",
   "metadata": {},
   "outputs": [],
   "source": [
    "aer_sim = Aer.get_backend('aer_simulator')"
   ]
  },
  {
   "cell_type": "code",
   "execution_count": 6,
   "id": "42428819-201f-4f17-a348-9a12888f15bc",
   "metadata": {},
   "outputs": [],
   "source": [
    "n = 3"
   ]
  },
  {
   "cell_type": "code",
   "execution_count": 7,
   "id": "3dede6e0-a7e8-4cb5-bb2b-ffcfdf47e677",
   "metadata": {},
   "outputs": [
    {
     "data": {
      "image/png": "[encoded data removed]",
      "text/plain": [
       "<Figure size 146.797x264.88 with 1 Axes>"
      ]
     },
     "execution_count": 7,
     "metadata": {},
     "output_type": "execute_result"
    }
   ],
   "source": [
    "oracle_qc = dj_oracle('constant', n)\n",
    "oracle_qc.draw()"
   ]
  },
  {
   "cell_type": "code",
   "execution_count": 8,
   "id": "1627b946-da5b-4578-a5b0-f7ffac1b4e1e",
   "metadata": {},
   "outputs": [
    {
     "data": {
      "image/png": "[encoded data removed]",
      "text/plain": [
       "<Figure size 628.397x325.08 with 1 Axes>"
      ]
     },
     "execution_count": 8,
     "metadata": {},
     "output_type": "execute_result"
    }
   ],
   "source": [
    "dj_circuit = dj_algorithm(oracle_qc, n)\n",
    "dj_circuit.draw()"
   ]
  },
  {
   "cell_type": "code",
   "execution_count": 9,
   "id": "b43b0ab8-81bc-46a8-a74c-bf4d0ea463aa",
   "metadata": {},
   "outputs": [
    {
     "data": {
      "image/png": "[encoded data removed]",
      "text/plain": [
       "<Figure size 447.797x325.08 with 1 Axes>"
      ]
     },
     "execution_count": 9,
     "metadata": {},
     "output_type": "execute_result"
    }
   ],
   "source": [
    "new_dj = dj_circuit.decompose('oracle constant')\n",
    "\n",
    "new_dj.draw()"
   ]
  },
  {
   "cell_type": "code",
   "execution_count": 11,
   "id": "474f3516-0b57-4ac6-b188-8e4f200fe6ee",
   "metadata": {},
   "outputs": [
    {
     "data": {
      "image/png": "[encoded data removed]",
      "text/plain": [
       "<Figure size 504x360 with 1 Axes>"
      ]
     },
     "execution_count": 11,
     "metadata": {},
     "output_type": "execute_result"
    }
   ],
   "source": [
    "aer_backend = Aer.get_backend('aer_simulator')\n",
    "aer_job = execute(dj_circuit, aer_backend, shots=1000)\n",
    "aer_results = aer_job.result()\n",
    "aer_counts = aer_results.get_counts()\n",
    "plot_histogram(aer_counts)"
   ]
  },
  {
   "cell_type": "code",
   "execution_count": 10,
   "id": "727862b8-c7ca-4cc4-97b1-3c1c11fede97",
   "metadata": {},
   "outputs": [],
   "source": [
    "job = execute(dj_circuit, real_backend, shots=1000)\n",
    "realqc_results = job.result()"
   ]
  },
  {
   "cell_type": "code",
   "execution_count": 11,
   "id": "0d5af797-8fa3-48c8-9986-3b877e141381",
   "metadata": {},
   "outputs": [
    {
     "data": {
      "image/png": "[encoded data removed]",
      "text/plain": [
       "<Figure size 504x360 with 1 Axes>"
      ]
     },
     "execution_count": 11,
     "metadata": {},
     "output_type": "execute_result"
    }
   ],
   "source": [
    "counts = realqc_results.get_counts()\n",
    "plot_histogram(counts)"
   ]
  },
  {
   "cell_type": "code",
   "execution_count": 12,
   "id": "17beb734-7411-4d7e-82f2-566c9e5c7b72",
   "metadata": {},
   "outputs": [],
   "source": [
    "# QEM\n",
    "qr = QuantumRegister(n)\n",
    "qem_meas_calibs, state_labels = complete_meas_cal(qr=qr, circlabel='mcal')\n",
    "qem_cal_results = real_backend.run(qem_meas_calibs, shots=10000).result()"
   ]
  },
  {
   "cell_type": "code",
   "execution_count": 13,
   "id": "129bdf4e-03a1-4bc2-9352-50b9f916c5dd",
   "metadata": {},
   "outputs": [
    {
     "data": {
      "text/latex": [
       "$$\n",
       "\n",
       "\\begin{bmatrix}\n",
       "0.9374 & 0.0315 & 0.0836 & 0.0029 & 0.0353 & 0.0008 & 0.0028 & 0  \\\\\n",
       " 0.0142 & 0.934 & 0.0019 & 0.0955 & 0.0002 & 0.0294 & 0 & 0.0038  \\\\\n",
       " 0.0224 & 0.0009 & 0.8846 & 0.0293 & 0.0005 & 0.0001 & 0.0335 & 0.0007  \\\\\n",
       " 0.0003 & 0.0158 & 0.0113 & 0.8549 & 0 & 0.0008 & 0.0002 & 0.0259  \\\\\n",
       " 0.0242 & 0.0007 & 0.0023 & 0.0002 & 0.9273 & 0.0293 & 0.0851 & 0.0028  \\\\\n",
       " 0.0005 & 0.017 & 0 & 0.002 & 0.0137 & 0.9218 & 0.0015 & 0.0918  \\\\\n",
       " 0.001 & 0 & 0.016 & 0.0004 & 0.0226 & 0.0004 & 0.8624 & 0.0256  \\\\\n",
       " 0 & 0.0001 & 0.0003 & 0.0148 & 0.0004 & 0.0174 & 0.0145 & 0.8494  \\\\\n",
       " \\end{bmatrix}\n",
       "$$"
      ],
      "text/plain": [
       "<IPython.core.display.Latex object>"
      ]
     },
     "execution_count": 13,
     "metadata": {},
     "output_type": "execute_result"
    }
   ],
   "source": [
    "meas_fitter = CompleteMeasFitter(qem_cal_results, state_labels, circlabel='mcal')\n",
    "array_to_latex(meas_fitter.cal_matrix)"
   ]
  },
  {
   "cell_type": "code",
   "execution_count": null,
   "id": "7ada091f-749b-41f8-87dd-93ca8b9385dd",
   "metadata": {},
   "outputs": [],
   "source": [
    "# cal_results = aer_simulator.run(qem_meas_calibs, shots=10000).result()\n",
    "# meas_fitter = CompleteMeasFitter(cal_results, state_labels, circlabel='mcal')\n",
    "# array_to_latex(meas_fitter.cal_matrix)"
   ]
  },
  {
   "cell_type": "code",
   "execution_count": 14,
   "id": "66eaa265-a0a3-4b59-befc-6bc20211c3e3",
   "metadata": {},
   "outputs": [],
   "source": [
    "# Get the filter object\n",
    "meas_filter = meas_fitter.filter\n",
    "\n",
    "# Results with mitigation\n",
    "mitigated_results = meas_filter.apply(realqc_results)\n",
    "mitigated_counts = mitigated_results.get_counts()"
   ]
  },
  {
   "cell_type": "code",
   "execution_count": 15,
   "id": "44c69511-db36-4a1a-8388-02d9505fa6bd",
   "metadata": {},
   "outputs": [
    {
     "data": {
      "image/png": "[encoded data removed]",
      "text/plain": [
       "<Figure size 504x360 with 1 Axes>"
      ]
     },
     "execution_count": 15,
     "metadata": {},
     "output_type": "execute_result"
    }
   ],
   "source": [
    "noisy_counts = realqc_results.get_counts()\n",
    "plot_histogram([noisy_counts, mitigated_counts], legend=['noisy', 'mitigated'])"
   ]
  },
  {
   "cell_type": "code",
   "execution_count": 16,
   "id": "9fe134ea-6863-4be5-9ae7-d44723dbe93d",
   "metadata": {},
   "outputs": [],
   "source": [
    "# GEM\n",
    "# not calibrating ancilla\n",
    "# depends on the concrete DJ circuit\n",
    "dj_left0 = QuantumCircuit(n,n)\n",
    "dj_left1 = QuantumCircuit(n) \n",
    "dj_left2 = QuantumCircuit(n)\n",
    "dj_left3 = QuantumCircuit(n)\n",
    "dj_left4 = QuantumCircuit(n)\n",
    "dj_left5 = QuantumCircuit(n)\n",
    "dj_left6 = QuantumCircuit(n)\n",
    "dj_left7 = QuantumCircuit(n)"
   ]
  },
  {
   "cell_type": "code",
   "execution_count": 17,
   "id": "59f15e38-e54f-4c23-88b8-ca4dbbd12e5e",
   "metadata": {},
   "outputs": [
    {
     "data": {
      "image/png": "[encoded data removed]",
      "text/plain": [
       "<Figure size 387.597x264.88 with 1 Axes>"
      ]
     },
     "execution_count": 17,
     "metadata": {},
     "output_type": "execute_result"
    }
   ],
   "source": [
    "dj_left0.h(0)\n",
    "\n",
    "dj_left0.h(0)\n",
    "\n",
    "dj_left0.h(1)\n",
    "dj_left0.h(1)\n",
    "dj_left0.h(2)\n",
    "dj_left0.h(2)\n",
    "dj_left0.measure([0,1,2], [0,1,2])\n",
    "dj_left0.draw()"
   ]
  },
  {
   "cell_type": "code",
   "execution_count": 18,
   "id": "8c08e257-e99b-4fc6-b1d9-e8b867bfa131",
   "metadata": {},
   "outputs": [
    {
     "name": "stderr",
     "output_type": "stream",
     "text": [
      "/tmp/ipykernel_1496/4218642948.py:2: DeprecationWarning: The QuantumCircuit.__iadd__() method is being deprecated. Use the compose() (potentially with the inplace=True argument) and tensor() methods which are more flexible w.r.t circuit register compatibility.\n",
      "  dj_left1 += dj_left0\n"
     ]
    },
    {
     "data": {
      "image/png": "[encoded data removed]",
      "text/plain": [
       "<Figure size 387.597x264.88 with 1 Axes>"
      ]
     },
     "execution_count": 18,
     "metadata": {},
     "output_type": "execute_result"
    }
   ],
   "source": [
    "dj_left1.x(0)\n",
    "dj_left1 += dj_left0\n",
    "dj_left1.draw()"
   ]
  },
  {
   "cell_type": "code",
   "execution_count": 19,
   "id": "ab534409-6c50-4696-88dc-fc7843a34438",
   "metadata": {},
   "outputs": [
    {
     "name": "stderr",
     "output_type": "stream",
     "text": [
      "/tmp/ipykernel_1496/2252380090.py:2: DeprecationWarning: The QuantumCircuit.__iadd__() method is being deprecated. Use the compose() (potentially with the inplace=True argument) and tensor() methods which are more flexible w.r.t circuit register compatibility.\n",
      "  dj_left2 += dj_left0\n"
     ]
    },
    {
     "data": {
      "image/png": "[encoded data removed]",
      "text/plain": [
       "<Figure size 387.597x264.88 with 1 Axes>"
      ]
     },
     "execution_count": 19,
     "metadata": {},
     "output_type": "execute_result"
    }
   ],
   "source": [
    "dj_left2.x(1)\n",
    "dj_left2 += dj_left0\n",
    "dj_left2.draw()"
   ]
  },
  {
   "cell_type": "code",
   "execution_count": 20,
   "id": "3680084a-f594-4b51-b76d-13e60c17f2f8",
   "metadata": {},
   "outputs": [
    {
     "name": "stderr",
     "output_type": "stream",
     "text": [
      "/tmp/ipykernel_1496/810308772.py:3: DeprecationWarning: The QuantumCircuit.__iadd__() method is being deprecated. Use the compose() (potentially with the inplace=True argument) and tensor() methods which are more flexible w.r.t circuit register compatibility.\n",
      "  dj_left3 += dj_left0\n"
     ]
    },
    {
     "data": {
      "image/png": "[encoded data removed]",
      "text/plain": [
       "<Figure size 387.597x264.88 with 1 Axes>"
      ]
     },
     "execution_count": 20,
     "metadata": {},
     "output_type": "execute_result"
    }
   ],
   "source": [
    "dj_left3.x(0)\n",
    "dj_left3.x(1)\n",
    "dj_left3 += dj_left0\n",
    "dj_left3.draw()"
   ]
  },
  {
   "cell_type": "code",
   "execution_count": 21,
   "id": "94aea81c-1609-46ad-b8c1-bd61ee7edd8d",
   "metadata": {},
   "outputs": [
    {
     "name": "stderr",
     "output_type": "stream",
     "text": [
      "/tmp/ipykernel_1496/264572622.py:2: DeprecationWarning: The QuantumCircuit.__iadd__() method is being deprecated. Use the compose() (potentially with the inplace=True argument) and tensor() methods which are more flexible w.r.t circuit register compatibility.\n",
      "  dj_left4 += dj_left0\n"
     ]
    },
    {
     "data": {
      "image/png": "[encoded data removed]",
      "text/plain": [
       "<Figure size 447.797x264.88 with 1 Axes>"
      ]
     },
     "execution_count": 21,
     "metadata": {},
     "output_type": "execute_result"
    }
   ],
   "source": [
    "dj_left4.x(2)\n",
    "dj_left4 += dj_left0\n",
    "dj_left4.draw()"
   ]
  },
  {
   "cell_type": "code",
   "execution_count": 22,
   "id": "5c564a6f-89d3-4c83-9642-48218aa51c6b",
   "metadata": {},
   "outputs": [
    {
     "name": "stderr",
     "output_type": "stream",
     "text": [
      "/tmp/ipykernel_1496/2497025790.py:3: DeprecationWarning: The QuantumCircuit.__iadd__() method is being deprecated. Use the compose() (potentially with the inplace=True argument) and tensor() methods which are more flexible w.r.t circuit register compatibility.\n",
      "  dj_left5 += dj_left0\n"
     ]
    },
    {
     "data": {
      "image/png": "[encoded data removed]",
      "text/plain": [
       "<Figure size 447.797x264.88 with 1 Axes>"
      ]
     },
     "execution_count": 22,
     "metadata": {},
     "output_type": "execute_result"
    }
   ],
   "source": [
    "dj_left5.x(2)\n",
    "dj_left5.x(0)\n",
    "dj_left5 += dj_left0\n",
    "dj_left5.draw()"
   ]
  },
  {
   "cell_type": "code",
   "execution_count": 23,
   "id": "f90cf459-9f38-40ec-9ab4-4051792c6f8a",
   "metadata": {},
   "outputs": [
    {
     "name": "stderr",
     "output_type": "stream",
     "text": [
      "/tmp/ipykernel_1496/2426855407.py:3: DeprecationWarning: The QuantumCircuit.__iadd__() method is being deprecated. Use the compose() (potentially with the inplace=True argument) and tensor() methods which are more flexible w.r.t circuit register compatibility.\n",
      "  dj_left6 += dj_left0\n"
     ]
    },
    {
     "data": {
      "image/png": "[encoded data removed]",
      "text/plain": [
       "<Figure size 447.797x264.88 with 1 Axes>"
      ]
     },
     "execution_count": 23,
     "metadata": {},
     "output_type": "execute_result"
    }
   ],
   "source": [
    "dj_left6.x(2)\n",
    "dj_left6.x(1)\n",
    "dj_left6 += dj_left0\n",
    "dj_left6.draw()"
   ]
  },
  {
   "cell_type": "code",
   "execution_count": 24,
   "id": "6dcee76a-628b-4e2b-aa0d-cf79f57fe317",
   "metadata": {},
   "outputs": [
    {
     "name": "stderr",
     "output_type": "stream",
     "text": [
      "/tmp/ipykernel_1496/778788731.py:4: DeprecationWarning: The QuantumCircuit.__iadd__() method is being deprecated. Use the compose() (potentially with the inplace=True argument) and tensor() methods which are more flexible w.r.t circuit register compatibility.\n",
      "  dj_left7 += dj_left0\n"
     ]
    },
    {
     "data": {
      "image/png": "[encoded data removed]",
      "text/plain": [
       "<Figure size 447.797x264.88 with 1 Axes>"
      ]
     },
     "execution_count": 24,
     "metadata": {},
     "output_type": "execute_result"
    }
   ],
   "source": [
    "dj_left7.x(2)\n",
    "dj_left7.x(1)\n",
    "dj_left7.x(0)\n",
    "dj_left7 += dj_left0\n",
    "dj_left7.draw()"
   ]
  },
  {
   "cell_type": "code",
   "execution_count": 25,
   "id": "5605f22e-7915-4cda-aa54-1663edf11b20",
   "metadata": {},
   "outputs": [
    {
     "name": "stdout",
     "output_type": "stream",
     "text": [
      "8\n"
     ]
    }
   ],
   "source": [
    "meas_calibs = [dj_left0, dj_left1, dj_left2, dj_left3, dj_left4, dj_left5, dj_left6, dj_left7]\n",
    "print(len(meas_calibs))"
   ]
  },
  {
   "cell_type": "code",
   "execution_count": null,
   "id": "a0c1c2c2-d573-4d69-8db1-ba43d026a241",
   "metadata": {},
   "outputs": [],
   "source": [
    "# for circuit in meas_calibs:\n",
    "#     print('Circuit',circuit.name)\n",
    "#     print(circuit)"
   ]
  },
  {
   "cell_type": "code",
   "execution_count": null,
   "id": "e3d44a0f-5e03-4ee2-ae13-92577e2e0b9d",
   "metadata": {},
   "outputs": [],
   "source": [
    "# t_qc = transpile(meas_calibs, aer_sim)\n",
    "# qobj = assemble(t_qc, shots=10000)\n",
    "# results = aer_sim.run(qobj, shots=10000).result()\n",
    "# result_counts = results.get_counts()\n",
    "# print(result_counts)"
   ]
  },
  {
   "cell_type": "code",
   "execution_count": 26,
   "id": "032a02a8-1623-44d3-ad99-ce87bf4102b6",
   "metadata": {},
   "outputs": [
    {
     "name": "stderr",
     "output_type": "stream",
     "text": [
      "/tmp/ipykernel_1496/1499486007.py:3: DeprecationWarning: Passing a Qobj to Backend.run is deprecated and will be removed in a future release. Please pass in circuits or pulse schedules instead.\n",
      "  real_results = real_backend.run(qobj, shots=10000).result()\n"
     ]
    }
   ],
   "source": [
    "t_qc = transpile(meas_calibs, real_backend)\n",
    "qobj = assemble(t_qc, shots=10000)\n",
    "real_results = real_backend.run(qobj, shots=10000).result()"
   ]
  },
  {
   "cell_type": "code",
   "execution_count": 27,
   "id": "4f7502fa-5625-41e8-8411-d9390821bfac",
   "metadata": {},
   "outputs": [
    {
     "data": {
      "image/png": "[encoded data removed]",
      "text/plain": [
       "<Figure size 504x360 with 1 Axes>"
      ]
     },
     "execution_count": 27,
     "metadata": {},
     "output_type": "execute_result"
    }
   ],
   "source": [
    "real_counts = real_results.get_counts()\n",
    "plot_histogram(real_counts)"
   ]
  },
  {
   "cell_type": "code",
   "execution_count": 28,
   "id": "78079b3f-04d2-4857-90c4-78b72dde4503",
   "metadata": {},
   "outputs": [
    {
     "name": "stdout",
     "output_type": "stream",
     "text": [
      "[9.418e-01 1.240e-02 1.920e-02 5.000e-04 2.540e-02 5.000e-04 2.000e-04\n",
      " 0.000e+00]\n",
      "[2.980e-02 9.379e-01 8.000e-04 1.430e-02 1.000e-03 1.580e-02 1.000e-04\n",
      " 3.000e-04]\n",
      "[8.180e-02 1.300e-03 8.886e-01 1.300e-02 8.000e-04 0.000e+00 1.440e-02\n",
      " 1.000e-04]\n",
      "[2.500e-03 8.000e-02 2.660e-02 8.744e-01 0.000e+00 2.300e-03 7.000e-04\n",
      " 1.350e-02]\n",
      "[3.390e-02 3.000e-04 8.000e-04 0.000e+00 9.334e-01 1.130e-02 2.010e-02\n",
      " 2.000e-04]\n",
      "[5.000e-04 3.170e-02 0.000e+00 5.000e-04 2.980e-02 9.237e-01 6.000e-04\n",
      " 1.320e-02]\n",
      "[3.200e-03 0.000e+00 3.050e-02 6.000e-04 7.510e-02 9.000e-04 8.791e-01\n",
      " 1.060e-02]\n",
      "[0.     0.003  0.0012 0.0302 0.0017 0.0769 0.0291 0.8579]\n",
      "[[9.418e-01 2.980e-02 8.180e-02 2.500e-03 3.390e-02 5.000e-04 3.200e-03\n",
      "  0.000e+00]\n",
      " [1.240e-02 9.379e-01 1.300e-03 8.000e-02 3.000e-04 3.170e-02 0.000e+00\n",
      "  3.000e-03]\n",
      " [1.920e-02 8.000e-04 8.886e-01 2.660e-02 8.000e-04 0.000e+00 3.050e-02\n",
      "  1.200e-03]\n",
      " [5.000e-04 1.430e-02 1.300e-02 8.744e-01 0.000e+00 5.000e-04 6.000e-04\n",
      "  3.020e-02]\n",
      " [2.540e-02 1.000e-03 8.000e-04 0.000e+00 9.334e-01 2.980e-02 7.510e-02\n",
      "  1.700e-03]\n",
      " [5.000e-04 1.580e-02 0.000e+00 2.300e-03 1.130e-02 9.237e-01 9.000e-04\n",
      "  7.690e-02]\n",
      " [2.000e-04 1.000e-04 1.440e-02 7.000e-04 2.010e-02 6.000e-04 8.791e-01\n",
      "  2.910e-02]\n",
      " [0.000e+00 3.000e-04 1.000e-04 1.350e-02 2.000e-04 1.320e-02 1.060e-02\n",
      "  8.579e-01]]\n"
     ]
    }
   ],
   "source": [
    "ls = []\n",
    "for qc in meas_calibs:\n",
    "     counts = real_results.get_counts(qc)\n",
    "     this_array = np.array([counts.get('000') or 0, counts.get('001') or 0, counts.get('010') or 0, counts.get('011') or 0 , counts.get('100') or 0, counts.get('101') or 0, counts.get('110') or 0, counts.get('111') or 0])\n",
    "     this_array = this_array/10000\n",
    "     ls.append(this_array)\n",
    "     print(this_array)\n",
    "     \n",
    "array = np.array(ls)\n",
    "# print(array)\n",
    "array_t = np.transpose(array)\n",
    "print(array_t)"
   ]
  },
  {
   "cell_type": "code",
   "execution_count": 29,
   "id": "4fd5e546-2cd6-4117-9aee-36af420df0ed",
   "metadata": {},
   "outputs": [
    {
     "data": {
      "text/latex": [
       "$$\n",
       "\n",
       "\\begin{bmatrix}\n",
       "0.9418 & 0.0124 & 0.0192 & 0.0005 & 0.0254 & 0.0005 & 0.0002 & 0  \\\\\n",
       " 0.0298 & 0.9379 & 0.0008 & 0.0143 & 0.001 & 0.0158 & 0.0001 & 0.0003  \\\\\n",
       " 0.0818 & 0.0013 & 0.8886 & 0.013 & 0.0008 & 0 & 0.0144 & 0.0001  \\\\\n",
       " 0.0025 & 0.08 & 0.0266 & 0.8744 & 0 & 0.0023 & 0.0007 & 0.0135  \\\\\n",
       " 0.0339 & 0.0003 & 0.0008 & 0 & 0.9334 & 0.0113 & 0.0201 & 0.0002  \\\\\n",
       " 0.0005 & 0.0317 & 0 & 0.0005 & 0.0298 & 0.9237 & 0.0006 & 0.0132  \\\\\n",
       " 0.0032 & 0 & 0.0305 & 0.0006 & 0.0751 & 0.0009 & 0.8791 & 0.0106  \\\\\n",
       " 0 & 0.003 & 0.0012 & 0.0302 & 0.0017 & 0.0769 & 0.0291 & 0.8579  \\\\\n",
       " \\end{bmatrix}\n",
       "$$"
      ],
      "text/plain": [
       "<IPython.core.display.Latex object>"
      ]
     },
     "execution_count": 29,
     "metadata": {},
     "output_type": "execute_result"
    }
   ],
   "source": [
    "array_to_latex(array)"
   ]
  },
  {
   "cell_type": "code",
   "execution_count": 30,
   "id": "3570e66a-559b-433a-8714-75338bbffbd5",
   "metadata": {},
   "outputs": [
    {
     "data": {
      "text/latex": [
       "$$\n",
       "\n",
       "\\begin{bmatrix}\n",
       "1.06528 & -0.0338 & -0.09807 & 0.00302 & -0.03868 & 0.00183 & 0.00283 & -0.00003  \\\\\n",
       " -0.01404 & 1.06876 & 0.00116 & -0.09773 & 0.00061 & -0.03668 & 0.00003 & 0.00299  \\\\\n",
       " -0.02301 & 0.00029 & 1.12862 & -0.03428 & 0.00071 & 0.00001 & -0.03912 & 0.00095  \\\\\n",
       " -0.00004 & -0.01746 & -0.01674 & 1.14637 & 0.00002 & 0.00055 & 0.00028 & -0.04033  \\\\\n",
       " -0.02902 & 0.00037 & 0.00319 & 0.00005 & 1.0748 & -0.03467 & -0.09184 & 0.00409  \\\\\n",
       " 0.00002 & -0.01824 & 0.00002 & 0.00031 & -0.01314 & 1.08504 & 0.00118 & -0.09722  \\\\\n",
       " 0.0008 & -0.00011 & -0.01854 & 0.00025 & -0.02458 & 0.00061 & 1.14073 & -0.03868  \\\\\n",
       " 0. & 0.00018 & 0.00036 & -0.01801 & 0.00025 & -0.01669 & -0.01409 & 1.16824  \\\\\n",
       " \\end{bmatrix}\n",
       "$$"
      ],
      "text/plain": [
       "<IPython.core.display.Latex object>"
      ]
     },
     "execution_count": 30,
     "metadata": {},
     "output_type": "execute_result"
    }
   ],
   "source": [
    "import scipy.linalg as la\n",
    "array_inv = la.inv(array_t)\n",
    "array_to_latex(array_inv)"
   ]
  },
  {
   "cell_type": "code",
   "execution_count": 31,
   "id": "b9e137a8-e0fe-4d62-8e3d-728f2cfb41a6",
   "metadata": {},
   "outputs": [],
   "source": [
    "counts = realqc_results.get_counts()"
   ]
  },
  {
   "cell_type": "code",
   "execution_count": 32,
   "id": "a5d31096-d707-42f5-b07d-249a17f97530",
   "metadata": {},
   "outputs": [],
   "source": [
    "result_array = np.array([counts.get('000') or 0, counts.get('001') or 0, counts.get('010') or 0, counts.get('011') or 0 , counts.get('100') or 0, counts.get('101') or 0, counts.get('110') or 0, counts.get('111') or 0])\n",
    "result_array = result_array/1000"
   ]
  },
  {
   "cell_type": "code",
   "execution_count": 33,
   "id": "38929514-42ba-4908-ba33-86ad2e458907",
   "metadata": {},
   "outputs": [
    {
     "data": {
      "text/plain": [
       "array([0.962, 0.009, 0.014, 0.001, 0.014, 0.   , 0.   , 0.   ])"
      ]
     },
     "execution_count": 33,
     "metadata": {},
     "output_type": "execute_result"
    }
   ],
   "source": [
    "result_array"
   ]
  },
  {
   "cell_type": "code",
   "execution_count": 34,
   "id": "e40b57c8-5299-481c-b572-aba388e6e947",
   "metadata": {},
   "outputs": [],
   "source": [
    "mitigated = np.dot(array_inv, result_array)"
   ]
  },
  {
   "cell_type": "code",
   "execution_count": 35,
   "id": "4b004f80-a5ae-4897-95c2-9bb5dd86494a",
   "metadata": {},
   "outputs": [
    {
     "data": {
      "text/latex": [
       "$$\n",
       "\n",
       "\\begin{bmatrix}\n",
       "1.02258 & -0.00396 & -0.00635 & 0.00072 & -0.01282 & -0.00033 & 0.00016 & 0  \\\\\n",
       " \\end{bmatrix}\n",
       "$$"
      ],
      "text/plain": [
       "<IPython.core.display.Latex object>"
      ]
     },
     "execution_count": 35,
     "metadata": {},
     "output_type": "execute_result"
    }
   ],
   "source": [
    "array_to_latex(mitigated)"
   ]
  },
  {
   "cell_type": "code",
   "execution_count": 36,
   "id": "e53cd261-ed44-4018-a604-56f17fbbbdf7",
   "metadata": {},
   "outputs": [],
   "source": [
    "def NormalizeData(data):\n",
    "    return (data - np.min(data)) / (np.max(data) - np.min(data))\n",
    "normal = NormalizeData(mitigated)"
   ]
  },
  {
   "cell_type": "code",
   "execution_count": 38,
   "id": "c3670f8a-5cee-420f-83b7-1515a94f37ea",
   "metadata": {},
   "outputs": [
    {
     "data": {
      "text/latex": [
       "$$\n",
       "\n",
       "\\begin{bmatrix}\n",
       "1 & 0.00856 & 0.00625 & 0.01308 & 0 & 0.01206 & 0.01254 & 0.01238  \\\\\n",
       " \\end{bmatrix}\n",
       "$$"
      ],
      "text/plain": [
       "<IPython.core.display.Latex object>"
      ]
     },
     "execution_count": 38,
     "metadata": {},
     "output_type": "execute_result"
    }
   ],
   "source": [
    "array_to_latex(normal)"
   ]
  },
  {
   "cell_type": "code",
   "execution_count": 39,
   "id": "641e503e-3d95-4d2d-954e-564cd12fa5fa",
   "metadata": {},
   "outputs": [],
   "source": [
    "def Normalize(arr):\n",
    "    return arr/sum(arr)"
   ]
  },
  {
   "cell_type": "code",
   "execution_count": 40,
   "id": "4a5c0208-a77e-4711-ba7b-e65af4909c7d",
   "metadata": {},
   "outputs": [],
   "source": [
    "new_normal = Normalize(mitigated)"
   ]
  },
  {
   "cell_type": "code",
   "execution_count": 41,
   "id": "8c88fc33-1810-4460-a785-18cc2432bdf1",
   "metadata": {},
   "outputs": [
    {
     "data": {
      "text/latex": [
       "$$\n",
       "\n",
       "\\begin{bmatrix}\n",
       "1.02258 & -0.00396 & -0.00635 & 0.00072 & -0.01282 & -0.00033 & 0.00016 & 0  \\\\\n",
       " \\end{bmatrix}\n",
       "$$"
      ],
      "text/plain": [
       "<IPython.core.display.Latex object>"
      ]
     },
     "execution_count": 41,
     "metadata": {},
     "output_type": "execute_result"
    }
   ],
   "source": [
    "array_to_latex(new_normal)"
   ]
  },
  {
   "cell_type": "code",
   "execution_count": null,
   "id": "7580edd6-bc63-4e27-9062-7c27ee10f829",
   "metadata": {},
   "outputs": [],
   "source": []
  }
 ],
 "metadata": {
  "kernelspec": {
   "display_name": "Python 3 (ipykernel)",
   "language": "python",
   "name": "python3"
  },
  "language_info": {
   "codemirror_mode": {
    "name": "ipython",
    "version": 3
   },
   "file_extension": ".py",
   "mimetype": "text/x-python",
   "name": "python",
   "nbconvert_exporter": "python",
   "pygments_lexer": "ipython3",
   "version": "3.8.13"
  },
  "widgets": {
   "application/vnd.jupyter.widget-state+json": {
    "state": {},
    "version_major": 2,
    "version_minor": 0
   }
  }
 },
 "nbformat": 4,
 "nbformat_minor": 5
}
